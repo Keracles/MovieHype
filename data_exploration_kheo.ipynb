{
 "cells": [
  {
   "cell_type": "code",
   "execution_count": 55,
   "metadata": {},
   "outputs": [],
   "source": [
    "#Auteur Khéo\n",
    "import pandas as pd \n",
    "import numpy as np\n",
    "from datetime import datetime \n",
    "import matplotlib.pyplot as plt"
   ]
  },
  {
   "cell_type": "code",
   "execution_count": 99,
   "metadata": {},
   "outputs": [
    {
     "name": "stdout",
     "output_type": "stream",
     "text": [
      "<class 'pandas.core.frame.DataFrame'>\n",
      "Int64Index: 7777 entries, 0 to 7776\n",
      "Data columns (total 18 columns):\n",
      " #   Column                 Non-Null Count  Dtype  \n",
      "---  ------                 --------------  -----  \n",
      " 0   date                   7769 non-null   object \n",
      " 1   titre                  7777 non-null   object \n",
      " 2   budget                 7777 non-null   int64  \n",
      " 3   recette                7777 non-null   int64  \n",
      " 4   duree                  7777 non-null   int64  \n",
      " 5   genres                 7777 non-null   object \n",
      " 6   synopsis               7754 non-null   object \n",
      " 7   tagline                6457 non-null   object \n",
      " 8   realisateur            7777 non-null   object \n",
      " 9   casting                7777 non-null   object \n",
      " 10  compagnies_production  7777 non-null   object \n",
      " 11  suite                  7777 non-null   int64  \n",
      " 12  production_countries   7777 non-null   object \n",
      " 13  langues                7777 non-null   object \n",
      " 14  imdb_id                7745 non-null   object \n",
      " 15  vote_average           7777 non-null   float64\n",
      " 16  vote_count             7777 non-null   int64  \n",
      " 17  status                 7777 non-null   object \n",
      "dtypes: float64(1), int64(5), object(12)\n",
      "memory usage: 1.1+ MB\n"
     ]
    }
   ],
   "source": [
    "df = pd.read_csv('total.csv', index_col=0)\n",
    "df.info()"
   ]
  },
  {
   "cell_type": "code",
   "execution_count": 70,
   "metadata": {},
   "outputs": [
    {
     "name": "stdout",
     "output_type": "stream",
     "text": [
      "float64\n"
     ]
    },
    {
     "data": {
      "text/plain": [
       "[Text(0, 0, '1900-1970'),\n",
       " Text(1, 0, '1970-1990'),\n",
       " Text(2, 0, '1990-2000'),\n",
       " Text(3, 0, '2000-2010'),\n",
       " Text(4, 0, '2010-2015'),\n",
       " Text(5, 0, '2015-2022')]"
      ]
     },
     "execution_count": 70,
     "metadata": {},
     "output_type": "execute_result"
    },
    {
     "data": {
      "image/png": "[encoded data removed]",
      "text/plain": [
       "<Figure size 432x288 with 1 Axes>"
      ]
     },
     "metadata": {
      "needs_background": "light"
     },
     "output_type": "display_data"
    },
    {
     "data": {
      "text/plain": [
       "<Figure size 1440x1440 with 0 Axes>"
      ]
     },
     "metadata": {},
     "output_type": "display_data"
    }
   ],
   "source": [
    "df['date'] = pd.to_datetime(df['date'])\n",
    "\n",
    "df['year'] = df.date.dt.year\n",
    "\n",
    "#On trie par intervalle de temps\n",
    "figure, ax = plt.subplots(1,1)\n",
    "figure = plt.figure(figsize=(20,20))\n",
    "df['periode'] = np.digitize(df['year'], [1970, 1990, 2000, 2010, 2015], right=True) + 1\n",
    "df['periode'].value_counts().plot(kind = 'bar', ax=ax)\n",
    "ax.set_xticklabels( ('1900-1970', '1970-1990','1990-2000', '2000-2010', '2010-2015', '2015-2022') )"
   ]
  },
  {
   "cell_type": "code",
   "execution_count": 108,
   "metadata": {},
   "outputs": [
    {
     "data": {
      "text/plain": [
       "<AxesSubplot:>"
      ]
     },
     "execution_count": 108,
     "metadata": {},
     "output_type": "execute_result"
    },
    {
     "data": {
      "image/png": "[encoded data removed]",
      "text/plain": [
       "<Figure size 432x288 with 1 Axes>"
      ]
     },
     "metadata": {
      "needs_background": "light"
     },
     "output_type": "display_data"
    }
   ],
   "source": [
    "#Compter l'ensemble des films qui sont rentables\n",
    "\n",
    "df['benef'] = df['recette'] - df['budget']\n",
    "\n",
    "\"\"\"figure, ax = plt.subplots(1,1)\n",
    "figure = plt.figure(figsize=(20,20))\n",
    "\n",
    "df['tranche_benef'] = np.digitize(df['benef'], [-1000000,0,50000, 100000, 500000, 1000000], right=True) + 1\n",
    "df['benef'].value_counts().plot(kind = 'bar', ax=ax)\n",
    "ax.set_xticklabels( ('-1000000','-1000000 - 0', '0-50000', '50000-100000','100000-500000', '500000-1000000', '+1000000') )\"\"\"\n",
    "#df['benef'].hist(bins=[-1000000,0,50000, 100000, 500000, 1000000])\n",
    "\n",
    "bin_range = [-1000000000,-1000000,0,50000, 100000, 500000,1000000, 50000000, 100000000, 1000000000, 10000000000]\n",
    "out, bins  = pd.cut(df['benef'], bins=bin_range, include_lowest=True, right=False, retbins=True)\n",
    "out.value_counts().plot.bar()\n"
   ]
  },
  {
   "cell_type": "code",
   "execution_count": 87,
   "metadata": {},
   "outputs": [
    {
     "data": {
      "text/plain": [
       "True     5011\n",
       "False    2766\n",
       "dtype: int64"
      ]
     },
     "execution_count": 87,
     "metadata": {},
     "output_type": "execute_result"
    }
   ],
   "source": [
    "df2 = df['recette'] - df['budget'] >0\n",
    "df2.value_counts()"
   ]
  }
 ],
 "metadata": {
  "kernelspec": {
   "display_name": "Python 3.10.7 ('venv': venv)",
   "language": "python",
   "name": "python3"
  },
  "language_info": {
   "codemirror_mode": {
    "name": "ipython",
    "version": 3
   },
   "file_extension": ".py",
   "mimetype": "text/x-python",
   "name": "python",
   "nbconvert_exporter": "python",
   "pygments_lexer": "ipython3",
   "version": "3.10.7"
  },
  "orig_nbformat": 4,
  "vscode": {
   "interpreter": {
    "hash": "7dcec0d3762b780a2125411d3645fa378dcc0bb88d5f6382eaf2fa36db609c76"
   }
  }
 },
 "nbformat": 4,
 "nbformat_minor": 2
}
