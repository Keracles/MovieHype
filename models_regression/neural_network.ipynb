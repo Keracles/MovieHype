{
 "cells": [
  {
   "cell_type": "markdown",
   "metadata": {},
   "source": [
    "# Neural Network Regression"
   ]
  },
  {
   "cell_type": "markdown",
   "metadata": {},
   "source": [
    "## Import useful librairies/fonctions"
   ]
  },
  {
   "cell_type": "code",
   "execution_count": null,
   "metadata": {},
   "outputs": [],
   "source": [
    "import pandas as pd\n",
    "import seaborn as sns\n",
    "import numpy as np\n",
    "import os\n",
    "import matplotlib.pyplot as plt\n",
    "from sklearn.preprocessing import StandardScaler\n",
    "from sklearn.model_selection import train_test_split\n",
    "import torch as nn\n",
    "import math as m\n",
    "import time\n",
    "sns.set_style('darkgrid')\n",
    "sns.set(rc={'figure.figsize':(10,10)})"
   ]
  },
  {
   "cell_type": "markdown",
   "metadata": {},
   "source": [
    "## Import data"
   ]
  },
  {
   "cell_type": "markdown",
   "metadata": {},
   "source": [
    "### Fonctions"
   ]
  },
  {
   "cell_type": "code",
   "execution_count": null,
   "metadata": {},
   "outputs": [],
   "source": [
    "def select_data(instance, num, path=None):\n",
    "    #Read\n",
    "    if path == None :\n",
    "        df = pd.read_csv(f\"HGS/{instance}/XML100_{instance}_{num}.csv\", sep=';')\n",
    "    else :\n",
    "        df = pd.read_csv(path, sep=';')\n",
    "        path = path.split(\"_\")\n",
    "        instance = path[-2]\n",
    "        num = path[-1].replace(\".csv\", \"\")\n",
    "\n",
    "    #Parse the row which was parsed as columns\n",
    "    new_row = {}\n",
    "    for ele in df.columns:\n",
    "        new_row[ele] = ele\n",
    "    df = pd.concat([df, pd.DataFrame(new_row, index=[0])], ignore_index=True)\n",
    "\n",
    "    #Change Columns Names\n",
    "    df.columns = [\"name\", \"cost\",\"S1\",\"S2\",\"S3\",\"S4\",\"S5\",\"S6\",\"S7\",\"S8\",\"S9\",\"S10\",\"S11\",\"S12\",\"S13\",\"S14\",\"S15\",\"S16\",\"S17\", \"S18\"]\n",
    "    \n",
    "    #Change type of columns\n",
    "    df[\"cost\"] = df[\"cost\"].astype(int)\n",
    "    df[\"name\"] = df[\"name\"].astype(str)\n",
    "    df = df.drop(columns=[\"name\"])\n",
    "    for k in range(1,19):\n",
    "        df[f\"S{k}\"] = df[f\"S{k}\"].astype(float)\n",
    "    \n",
    "    df[\"instance\"] = int(instance)\n",
    "    df[\"num\"] = int(num)\n",
    "\n",
    "    return df\n",
    "\n",
    "def fusion_intra_instance(instance):\n",
    "    df_tot= select_data(0,0, f\"HGS//{instance}//\"+os.listdir(f\"HGS//{instance}\")[0])\n",
    "    first = True\n",
    "\n",
    "    for ele in os.listdir(f\"HGS//{instance}\"):\n",
    "\n",
    "        if first:\n",
    "            first = False\n",
    "        else : \n",
    "            df = select_data(0,0, f\"HGS//{instance}//\"+ele)\n",
    "            df_tot = pd.concat([df_tot, df], ignore_index=True)\n",
    "\n",
    "    return df_tot\n",
    "\n",
    "\n",
    "def fusion_inter_instance():\n",
    "    df_tot = fusion_intra_instance(\"2113\")\n",
    "    for instance in ['2213', \"3113\", \"3213\"]:\n",
    "        df = fusion_intra_instance(instance)\n",
    "        df_tot = pd.concat([df_tot, df], ignore_index=True)\n",
    "    return df_tot\n",
    "\n",
    "def reduce_size(df_tot):\n",
    "    for col in df_tot.columns :\n",
    "        if col not in [\"cost\", \"instance\", \"num\"]:\n",
    "            df_tot[col] = pd.to_numeric(df_tot[col], errors=\"ignore\", downcast='float')\n",
    "        else : \n",
    "            df_tot[col] = pd.to_numeric(df_tot[col], errors=\"ignore\", downcast='unsigned')\n",
    "    return df_tot"
   ]
  },
  {
   "cell_type": "code",
   "execution_count": null,
   "metadata": {},
   "outputs": [],
   "source": [
    "def import_dataset(path):\n",
    "    df = pd.read_csv(path, sep=';')\n",
    "    df.columns = [\"Name\", \"Cost\",\"S1\",\"S2\",\"S3\",\"S4\",\"S5\",\"S6\",\"S7\",\"S8\",\"S9\",\"S10\",\"S11\",\"S12\",\"S13\",\"S14\",\"S15\",\"S16\",\"S17\", \"S18\"]\n",
    "    return df\n",
    "\n",
    "def reduce_size(df_tot):\n",
    "    for col in df_tot.columns :\n",
    "        if col not in [\"Configuration\", \"Instance\", \"Solution\", \"Cost\"]:\n",
    "            df_tot[col] = pd.to_numeric(df_tot[col], errors=\"ignore\", downcast='float')\n",
    "        else : \n",
    "            df_tot[col] = pd.to_numeric(df_tot[col], errors=\"ignore\", downcast='integer')\n",
    "    return df_tot\n",
    "\n",
    "def tirage_repartition(indice, nb):\n",
    "    tirage = []\n",
    "    bond = int((len(indice)-1)/(nb-1))\n",
    "    for k in range(0, len(indice), bond):\n",
    "        tirage.append(indice[k])\n",
    "    \n",
    "    for element in tirage:\n",
    "        indice.remove(element)\n",
    "\n",
    "    return tirage, indice\n",
    "    \n",
    "def create_samples(p_train, nb_train, nb_test, nb_verify, seed):\n",
    "    # Mettre la même seed pour avoir des résultats constants\n",
    "    np.random.seed(seed)\n",
    "\n",
    "    # Création des variables utiles\n",
    "    fichiers_2113 = os.listdir('../HGS/2113/')\n",
    "    fichiers_2213 = os.listdir('../HGS/2213/')\n",
    "    fichiers_3113 = os.listdir('../HGS/3113/')\n",
    "    fichiers_3213 = os.listdir('../HGS/3213/')\n",
    "\n",
    "    #Shuffle \n",
    "    np.random.shuffle(fichiers_2113)\n",
    "    np.random.shuffle(fichiers_2213)\n",
    "    np.random.shuffle(fichiers_3113)\n",
    "    np.random.shuffle(fichiers_3213)\n",
    "\n",
    "    #Choix des fichiers trains et test (On arrondie au supérieur)\n",
    "    train_list = {}\n",
    "    test_list = {}\n",
    "    train_list[\"2113\"], test_list[\"2113\"] = fichiers_2113[:m.ceil(p_train*len(fichiers_2113))], fichiers_2113[m.ceil(p_train*len(fichiers_2113)):]\n",
    "    train_list[\"2213\"], test_list[\"2213\"] = fichiers_2213[:m.ceil(p_train*len(fichiers_2213))], fichiers_2213[m.ceil(p_train*len(fichiers_2213)):]\n",
    "    train_list[\"3113\"], test_list[\"3113\"] = fichiers_3113[:m.ceil(p_train*len(fichiers_3113))], fichiers_3113[m.ceil(p_train*len(fichiers_3113)):]\n",
    "    train_list[\"3213\"], test_list[\"3213\"] = fichiers_3213[:m.ceil(p_train*len(fichiers_3213))], fichiers_3213[m.ceil(p_train*len(fichiers_3213)):]\n",
    "\n",
    "    #On créer les trois data_frames\n",
    "    colonnes = [\"Configuration\", \"Instance\", \"Solution\", \"Cost\",\"S1\",\"S2\",\"S3\",\"S4\",\"S5\",\"S6\",\"S7\",\"S8\",\"S9\",\"S10\",\"S11\",\"S12\",\"S13\",\"S14\",\"S15\",\"S16\",\"S17\", \"S18\"]\n",
    "    lignes_train = []\n",
    "    lignes_verify = []\n",
    "    lignes_test = []\n",
    "\n",
    "\n",
    "    for instance in train_list.keys():\n",
    "        fichiers_train = train_list[instance]\n",
    "        fichiers_test = test_list[instance]\n",
    "\n",
    "        for path_fichier in fichiers_train:\n",
    "            df = import_dataset(f\"../HGS/{instance}/\" + path_fichier)\n",
    "            path_fichier = path_fichier.split(\"_\")\n",
    "            num = path_fichier[-1].replace(\".csv\", \"\")\n",
    "\n",
    "            #On trie le dataset pour avoir un échantillon représentatif \n",
    "            df = df.sort_values(by = \"Cost\", ascending=False)\n",
    "            df = df.reset_index().drop(columns=[\"index\"])\n",
    "\n",
    "\n",
    "            indice = [k for k in range(df.shape[0])]\n",
    "            tirage_train, indice = tirage_repartition(indice, nb_train)\n",
    "            tirage_verify, indice = tirage_repartition(indice, nb_verify)\n",
    "\n",
    "            for i in range(nb_train):\n",
    "                row_index = tirage_train.pop(0)\n",
    "                row = list(df.iloc[row_index])\n",
    "                row.pop(0)\n",
    "                row = [int(instance), int(num), row_index] + row \n",
    "                lignes_train.append(row)\n",
    "                \n",
    "            for i in range(nb_verify):\n",
    "                row_index = tirage_verify.pop(0)\n",
    "                row = list(df.iloc[row_index])\n",
    "                row.pop(0)\n",
    "                row = [int(instance), int(num), row_index] + row \n",
    "                lignes_verify.append(row)\n",
    "                \n",
    "\n",
    "        for path_fichier in fichiers_test:\n",
    "            df = import_dataset(f\"../HGS/{instance}/\" + path_fichier)\n",
    "            path_fichier = path_fichier.split(\"_\")\n",
    "            num = path_fichier[-1].replace(\".csv\", \"\")\n",
    "\n",
    "            #On trie le dataset pour avoir un échantillon représentatif \n",
    "            df = df.sort_values(by = \"Cost\", ascending=False)\n",
    "            df = df.reset_index().drop(columns=[\"index\"])\n",
    "            indice = [k for k in range(df.shape[0])]\n",
    "            tirage_test, indice = tirage_repartition(indice, nb_test)\n",
    "            tirage_verify, indice = tirage_repartition(indice, nb_verify)\n",
    "\n",
    "            for i in range(nb_test):\n",
    "                row_index = tirage_test.pop(0)\n",
    "                row = list(df.iloc[row_index])\n",
    "                row.pop(0)\n",
    "                row = [int(instance), int(num), row_index] + row \n",
    "                lignes_test.append(row)\n",
    "            for i in range(nb_verify):\n",
    "                row_index = tirage_verify.pop(0)\n",
    "                row = list(df.iloc[row_index])\n",
    "                row.pop(0)\n",
    "                row = [int(instance), int(num), row_index] + row \n",
    "                lignes_verify.append(row)\n",
    "        \n",
    "\n",
    "\n",
    "    #Création des data frames\n",
    "\n",
    "    df_train = pd.DataFrame(lignes_train, columns=colonnes)\n",
    "    df_verify = pd.DataFrame(lignes_verify, columns=colonnes)\n",
    "    df_test = pd.DataFrame(lignes_test, columns=colonnes)\n",
    "\n",
    "    df_train = df_train.drop(columns=['S7'])\n",
    "    df_verify = df_verify.drop(columns=['S7'])\n",
    "    df_test = df_test.drop(columns=['S7'])\n",
    "    return reduce_size(df_train), reduce_size(df_verify), reduce_size(df_test)\n"
   ]
  },
  {
   "cell_type": "markdown",
   "metadata": {},
   "source": [
    "### Data"
   ]
  },
  {
   "cell_type": "code",
   "execution_count": null,
   "metadata": {},
   "outputs": [],
   "source": [
    "df_train, df_verify, df_test = create_samples(0.8, 10000, 1000, 1000, 1)"
   ]
  },
  {
   "cell_type": "code",
   "execution_count": null,
   "metadata": {},
   "outputs": [],
   "source": [
    "print(\"df_train shape\", df_train.shape)\n",
    "print(\"df_verify shape\", df_verify.shape)\n",
    "print(\"df_test shape\", df_test.shape)"
   ]
  },
  {
   "cell_type": "code",
   "execution_count": null,
   "metadata": {},
   "outputs": [],
   "source": [
    "X_train, Y_train = df_train.drop(columns=[\"Configuration\", \"Instance\", \"Solution\", \"Cost\"]), df_train['Cost']\n",
    "X_verify, Y_verify = df_verify.drop(columns=[\"Configuration\", \"Instance\", \"Solution\", \"Cost\"]), df_verify['Cost']\n",
    "X_test, Y_test = df_test.drop(columns=[\"Configuration\", \"Instance\", \"Solution\", \"Cost\"]), df_test['Cost']\n"
   ]
  },
  {
   "cell_type": "markdown",
   "metadata": {},
   "source": [
    "## Neural Network"
   ]
  },
  {
   "cell_type": "markdown",
   "metadata": {},
   "source": [
    "### Neural network architecture"
   ]
  },
  {
   "cell_type": "code",
   "execution_count": null,
   "metadata": {},
   "outputs": [],
   "source": [
    "class MLP(nn.nn.Module):\n",
    "  '''\n",
    "    Multilayer Perceptron for regression.\n",
    "  '''\n",
    "  def __init__(self):\n",
    "    super().__init__()\n",
    "    self.layers = nn.nn.Sequential(\n",
    "      nn.nn.Linear(17, 26),\n",
    "      nn.nn.ReLU(),\n",
    "      nn.nn.Linear(26, 19),\n",
    "      nn.nn.ReLU(),\n",
    "      nn.nn.Linear(19, 1)\n",
    "    )\n",
    "\n",
    "\n",
    "  def forward(self, x):\n",
    "    '''\n",
    "      Forward pass\n",
    "    '''\n",
    "    return self.layers(x)"
   ]
  },
  {
   "cell_type": "markdown",
   "metadata": {},
   "source": [
    "### Instanciating the model"
   ]
  },
  {
   "cell_type": "markdown",
   "metadata": {},
   "source": [
    "#### Device setup"
   ]
  },
  {
   "cell_type": "code",
   "execution_count": null,
   "metadata": {},
   "outputs": [],
   "source": [
    "# Check if GPU is available\n",
    "is_cuda = nn.cuda.is_available()\n",
    "\n",
    "# Select it as default, or CPU otherwise\n",
    "print(is_cuda)\n",
    "if is_cuda:\n",
    "    device = nn.device(\"cuda\")\n",
    "else:\n",
    "    device = nn.device(\"cpu\")"
   ]
  },
  {
   "cell_type": "markdown",
   "metadata": {},
   "source": [
    "#### Scaling Data"
   ]
  },
  {
   "cell_type": "code",
   "execution_count": null,
   "metadata": {},
   "outputs": [],
   "source": [
    "X_train_f = StandardScaler().fit(X_train).transform(X_train)\n",
    "Y_train_f = StandardScaler().fit(Y_train.values.reshape(-1,1)).transform(Y_train.values.reshape(-1,1))\n",
    "\n",
    "X_verify_f = StandardScaler().fit(X_verify).transform(X_verify)\n",
    "Y_verify_f = StandardScaler().fit(Y_verify.values.reshape(-1,1)).transform(Y_verify.values.reshape(-1,1))\n",
    "\n",
    "X_test_f = StandardScaler().fit(X_test).transform(X_test)\n",
    "Y_test_f = StandardScaler().fit(Y_test.values.reshape(-1,1)).transform(Y_test.values.reshape(-1,1))\n",
    "\n",
    "print(\"Done\")"
   ]
  },
  {
   "cell_type": "markdown",
   "metadata": {},
   "source": [
    "#### Converting to tensor"
   ]
  },
  {
   "cell_type": "code",
   "execution_count": null,
   "metadata": {},
   "outputs": [],
   "source": [
    "from torch.autograd import Variable \n",
    "\n",
    "X_train_t = Variable(nn.cuda.FloatTensor(X_train_f)).to(device)\n",
    "Y_train_t = Variable(nn.cuda.FloatTensor(Y_train_f)).to(device)\n",
    "\n",
    "X_test_t = Variable(nn.cuda.FloatTensor(X_test_f)).to(device)\n",
    "Y_test_t = Variable(nn.cuda.FloatTensor(Y_test_f)).to(device)\n",
    "\n",
    "X_verify_t = Variable(nn.cuda.FloatTensor(X_verify_f)).to(device)\n",
    "Y_verify_t = Variable(nn.cuda.FloatTensor(Y_verify_f)).to(device)\n",
    "\n",
    "print(\"Done\")"
   ]
  },
  {
   "cell_type": "markdown",
   "metadata": {},
   "source": [
    "#### Databatch setup"
   ]
  },
  {
   "cell_type": "code",
   "execution_count": null,
   "metadata": {},
   "outputs": [],
   "source": [
    "databatch_train = nn.utils.data.TensorDataset(X_train_t, Y_train_t)\n",
    "databatch_test = nn.utils.data.TensorDataset(X_test_t, Y_test_t)\n",
    "databatch_verify = nn.utils.data.TensorDataset(X_verify_t, Y_verify_t)\n",
    "\n",
    "trainloader_train = nn.utils.data.DataLoader(databatch_train, batch_size=10, shuffle=True, num_workers=0)\n",
    "trainloader_test = nn.utils.data.DataLoader(databatch_test, batch_size=10, shuffle=True, num_workers=0)\n",
    "trainloader_verify = nn.utils.data.DataLoader(databatch_verify, batch_size=10, shuffle=True, num_workers=0)"
   ]
  },
  {
   "cell_type": "markdown",
   "metadata": {},
   "source": [
    "#### Model, Loss function and optimizer"
   ]
  },
  {
   "cell_type": "code",
   "execution_count": null,
   "metadata": {},
   "outputs": [],
   "source": [
    "from torchmetrics import MeanAbsolutePercentageError\n",
    "\n",
    "mean_abs_percentage_error = MeanAbsolutePercentageError().to(device)\n"
   ]
  },
  {
   "cell_type": "code",
   "execution_count": null,
   "metadata": {},
   "outputs": [],
   "source": [
    "# Initialize the MLP\n",
    "mlp = MLP().to(device)\n",
    "\n",
    "# Define the loss function and optimizer\n",
    "loss_function = nn.nn.MSELoss()\n",
    "optimizer = nn.optim.Adam(mlp.parameters(), lr=1e-4)"
   ]
  },
  {
   "cell_type": "markdown",
   "metadata": {},
   "source": [
    "#### Training"
   ]
  },
  {
   "cell_type": "code",
   "execution_count": null,
   "metadata": {},
   "outputs": [],
   "source": [
    "start = time.time()\n",
    "\n",
    "train_losses, test_losses, verify_losses, mape_losses = [], [], [], []\n",
    "n_epochs = 20 #Overfit\n",
    "# Run the training loop\n",
    "for epoch in range(0, n_epochs): # 10 epochs at maximum\n",
    "\n",
    "    # Print epoch\n",
    "    print(f'Starting epoch {epoch+1}')\n",
    "\n",
    "    # Set current loss value\n",
    "    train_loss, test_loss, verify_loss, mape_loss = 0.0, 0.0, 0.0, 0.0\n",
    "\n",
    "    # Iterate over the DataLoader for training data\n",
    "    for data_train, data_test, data_verify  in zip(trainloader_train, trainloader_test, trainloader_verify):\n",
    "        \n",
    "        # Get and prepare inputs\n",
    "        inputs, targets =  data_train\n",
    "        inputs_test, targets_test =  data_test\n",
    "        inputs_verify, targets_verify =  data_verify\n",
    "        \n",
    "        # Zero the gradients\n",
    "        optimizer.zero_grad()\n",
    "        \n",
    "        # Perform forward pass\n",
    "        outputs = mlp(inputs)\n",
    "        \n",
    "        # Compute loss\n",
    "        loss = loss_function(outputs, targets)\n",
    "        \n",
    "        # Perform backward pass\n",
    "        loss.backward()\n",
    "        \n",
    "        # Perform optimization\n",
    "        optimizer.step()\n",
    "        \n",
    "        # Loss\n",
    "        train_loss += loss.item()\n",
    "        \n",
    "        with nn.no_grad():\n",
    "            mlp.eval()\n",
    "            pred_ytest = mlp.forward(inputs_test)\n",
    "            test_loss += loss_function(pred_ytest, targets_test).item()\n",
    "\n",
    "        with nn.no_grad():\n",
    "            mlp.eval()\n",
    "            pred_ytest = mlp.forward(inputs_verify)\n",
    "            verify_loss += loss_function(pred_ytest, targets_verify).item()\n",
    "        \n",
    "        with nn.no_grad():\n",
    "            mlp.eval()\n",
    "            pred_ytest = mlp.forward(inputs_test)\n",
    "            mape_loss += mean_abs_percentage_error(pred_ytest, targets_verify).item()\n",
    "\n",
    "    train_losses.append(train_loss / len(trainloader_train))\n",
    "    test_losses.append(test_loss / len(trainloader_test))\n",
    "    verify_losses.append(verify_loss / len(trainloader_verify))\n",
    "    mape_losses.append(mape_loss / len(trainloader_test))\n",
    "        \n",
    "# Process is complete.\n",
    "print('Training process has finished.')\n",
    "end = time.time()\n",
    "elapsed = end - start\n",
    "print(\"Temps exécution : \", elapsed)"
   ]
  },
  {
   "cell_type": "markdown",
   "metadata": {},
   "source": [
    "#### Plot training "
   ]
  },
  {
   "cell_type": "code",
   "execution_count": null,
   "metadata": {},
   "outputs": [],
   "source": [
    "plt.plot(\n",
    "    np.array(train_losses).reshape((n_epochs, -1)).mean(axis=1),\n",
    "    label='Training loss'\n",
    ")\n",
    "plt.plot(\n",
    "    np.array(test_losses).reshape((n_epochs, -1)).mean(axis=1),\n",
    "    label='Test loss'\n",
    ")\n",
    "\n",
    "plt.plot(\n",
    "    np.array(verify_losses).reshape((n_epochs, -1)).mean(axis=1),\n",
    "    label='Verify loss'\n",
    ")\n",
    "\n",
    "\n",
    "plt.legend(frameon=False)\n",
    "plt.xlabel('epochs')\n",
    "plt.ylabel('L1Loss')"
   ]
  },
  {
   "cell_type": "code",
   "execution_count": null,
   "metadata": {},
   "outputs": [],
   "source": [
    "plt.plot(\n",
    "    np.array(mape_losses).reshape((n_epochs, -1)).mean(axis=1),\n",
    "    label='Training loss'\n",
    ")\n",
    "\n",
    "plt.legend(frameon=False)\n",
    "plt.xlabel('epochs')\n",
    "plt.ylabel('MAPE Loss')"
   ]
  },
  {
   "cell_type": "markdown",
   "metadata": {},
   "source": [
    "## Tuning some shit"
   ]
  },
  {
   "cell_type": "code",
   "execution_count": null,
   "metadata": {},
   "outputs": [],
   "source": [
    "class MLP_tuning(nn.nn.Module):\n",
    "  '''\n",
    "    Multilayer Perceptron for regression.\n",
    "  '''\n",
    "  def __init__(self, x ,y,z):\n",
    "    super().__init__()\n",
    "    self.layers = nn.nn.Sequential(\n",
    "      nn.nn.Linear(17, x),\n",
    "      nn.nn.ReLU(),\n",
    "      nn.nn.Linear(x, y),\n",
    "      nn.nn.ReLU(),\n",
    "      nn.nn.Linear(y, z),\n",
    "      nn.nn.ReLU(),\n",
    "      nn.nn.Linear(z, 1)\n",
    "    )\n",
    "\n",
    "\n",
    "  def forward(self, x):\n",
    "    '''\n",
    "      Forward pass\n",
    "    '''\n",
    "    return self.layers(x)"
   ]
  },
  {
   "cell_type": "code",
   "execution_count": null,
   "metadata": {},
   "outputs": [],
   "source": [
    "def training(x,y,z, lr):\n",
    "    # Initialize the MLP\n",
    "    mlp = MLP_tuning(x,y,z).to(device)\n",
    "\n",
    "    # Define the loss function and optimizer\n",
    "    loss_function = nn.nn.L1Loss()\n",
    "    optimizer = nn.optim.Adam(mlp.parameters(), lr=lr)\n",
    "\n",
    "    train_losses, test_losses, verify_losses = [], [], []\n",
    "    n_epochs = 10 #Overfit\n",
    "    # Run the training loop\n",
    "    for epoch in range(0, n_epochs): # 10 epochs at maximum\n",
    "\n",
    "        # Print epoch\n",
    "        print(f'Starting epoch {epoch+1}')\n",
    "\n",
    "        # Set current loss value\n",
    "        train_loss, test_loss, verify_loss = 0.0, 0.0, 0.0\n",
    "\n",
    "        # Iterate over the DataLoader for training data\n",
    "        for data_train, data_test, data_verify  in zip(trainloader_train, trainloader_test, trainloader_verify):\n",
    "            \n",
    "            # Get and prepare inputs\n",
    "            inputs, targets =  data_train\n",
    "            inputs_test, targets_test =  data_test\n",
    "            inputs_verify, targets_verify =  data_verify\n",
    "            \n",
    "            # Zero the gradients\n",
    "            optimizer.zero_grad()\n",
    "            \n",
    "            # Perform forward pass\n",
    "            outputs = mlp(inputs)\n",
    "            \n",
    "            # Compute loss\n",
    "            loss = loss_function(outputs, targets)\n",
    "            \n",
    "            # Perform backward pass\n",
    "            loss.backward()\n",
    "            \n",
    "            # Perform optimization\n",
    "            optimizer.step()\n",
    "            \n",
    "            # Loss\n",
    "            train_loss += loss.item()\n",
    "            \n",
    "            with nn.no_grad():\n",
    "                mlp.eval()\n",
    "                pred_ytest = mlp.forward(inputs_test)\n",
    "                test_loss += loss_function(pred_ytest, targets_test).item()\n",
    "\n",
    "            with nn.no_grad():\n",
    "                mlp.eval()\n",
    "                pred_ytest = mlp.forward(inputs_verify)\n",
    "                verify_loss += loss_function(pred_ytest, targets_verify).item()\n",
    "\n",
    "            train_losses.append(train_loss / len(trainloader_train))\n",
    "            test_losses.append(test_loss / len(trainloader_test))\n",
    "            verify_losses.append(verify_loss / len(trainloader_verify))\n",
    "    # Process is complete.\n",
    "    print('Training process has finished.')\n",
    "\n",
    "    return  min(train_losses), min(test_losses), min(verify_losses)\n",
    "    "
   ]
  },
  {
   "cell_type": "code",
   "execution_count": null,
   "metadata": {},
   "outputs": [],
   "source": [
    "values = {}\n",
    "\n",
    "for x in range(1,32):\n",
    "    for y in range(1,32):\n",
    "        for z in range(1,32):\n",
    "            for lr in [0.0001, 0.0002, 0.0003]:\n",
    "                train_loss, test_loss, verify_loss = training(x,y,z,lr)\n",
    "                values[(x,y,z,lr)] = (train_loss, test_loss, verify_loss)\n",
    "best_value = 1\n",
    "best= None\n",
    "for key, value in values.item():\n",
    "    if value[1] < best_value:\n",
    "        best_value=value[1]\n",
    "        best = key\n",
    "\n",
    "print(best, best_value)"
   ]
  }
 ],
 "metadata": {
  "kernelspec": {
   "display_name": "Python 3.9.7 ('base')",
   "language": "python",
   "name": "python3"
  },
  "language_info": {
   "codemirror_mode": {
    "name": "ipython",
    "version": 3
   },
   "file_extension": ".py",
   "mimetype": "text/x-python",
   "name": "python",
   "nbconvert_exporter": "python",
   "pygments_lexer": "ipython3",
   "version": "3.9.7"
  },
  "orig_nbformat": 4,
  "vscode": {
   "interpreter": {
    "hash": "fc0a915e5fff88658cabdf6b5db03c516d85c73603b294f779065857f3811826"
   }
  }
 },
 "nbformat": 4,
 "nbformat_minor": 2
}
