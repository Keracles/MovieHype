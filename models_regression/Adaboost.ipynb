{
 "cells": [
  {
   "cell_type": "code",
   "execution_count": 1,
   "metadata": {},
   "outputs": [],
   "source": [
    "import numpy as np\n",
    "import pandas as pd\n",
    "import os\n",
    "import math as m\n",
    "import matplotlib.pyplot as plt\n",
    "import time"
   ]
  },
  {
   "cell_type": "markdown",
   "metadata": {},
   "source": [
    "## Import Data Functions"
   ]
  },
  {
   "cell_type": "code",
   "execution_count": 2,
   "metadata": {},
   "outputs": [
    {
     "data": {
      "text/plain": [
       "Index(['titre', 'budget', 'recette', 'duree', 'realisateur', 'casting',\n",
       "       'compagnies_production', 'suite', 'Comedy', 'Drama', 'Horror',\n",
       "       'Thriller', 'Action', 'Adventure', 'Science Fiction', 'Fantasy',\n",
       "       'Family', 'Crime', 'Romance', 'Animation', 'Mystery', 'War', 'Music',\n",
       "       'Western', 'History', 'Documentary', 'TV Movie', 'benefice global',\n",
       "       'saison', 'casting_score_sum', 'casting_score_mean',\n",
       "       'casting_score_med', 'casting_score_min', 'casting_score_max',\n",
       "       'director_score_sum', 'director_score_mean', 'director_score_med',\n",
       "       'director_score_min', 'director_score_max', 'compagnies_score_sum',\n",
       "       'compagnies_score_mean', 'compagnies_score_med', 'compagnies_score_min',\n",
       "       'compagnies_score_max'],\n",
       "      dtype='object')"
      ]
     },
     "execution_count": 2,
     "metadata": {},
     "output_type": "execute_result"
    }
   ],
   "source": [
    "df = pd.read_csv(r\"..\\data\\dataset_new_score_v3.csv\").drop(columns=\"Unnamed: 0\")\n",
    "df.columns"
   ]
  },
  {
   "cell_type": "code",
   "execution_count": 3,
   "metadata": {},
   "outputs": [],
   "source": [
    "from sklearn.model_selection import train_test_split\n",
    "\n",
    "TEST_RATIO = 0.9\n",
    " \n",
    "X_train, X_test, Y_train, Y_test = train_test_split(df.drop(columns=[\"titre\", \"recette\", \"realisateur\", \"casting\", \"compagnies_production\", \"benefice global\"]), df[\"benefice global\"], test_size = TEST_RATIO, shuffle=True, random_state = 1)"
   ]
  },
  {
   "cell_type": "markdown",
   "metadata": {},
   "source": [
    "## Datasets and Scaling"
   ]
  },
  {
   "cell_type": "code",
   "execution_count": 4,
   "metadata": {},
   "outputs": [
    {
     "name": "stdout",
     "output_type": "stream",
     "text": [
      "Done\n"
     ]
    }
   ],
   "source": [
    "from sklearn.preprocessing import StandardScaler\n",
    "\n",
    "X_train_f = StandardScaler().fit(np.array(X_train)).transform(np.array(X_train))\n",
    "\n",
    "\n",
    "X_test_f = StandardScaler().fit(np.array(X_test)).transform(np.array(X_test))\n",
    "\n",
    "print(\"Done\")"
   ]
  },
  {
   "cell_type": "markdown",
   "metadata": {},
   "source": [
    "## Model"
   ]
  },
  {
   "cell_type": "code",
   "execution_count": 5,
   "metadata": {},
   "outputs": [
    {
     "name": "stdout",
     "output_type": "stream",
     "text": [
      "Temps exécution :  0.17699670791625977\n"
     ]
    }
   ],
   "source": [
    "from sklearn.tree import DecisionTreeRegressor\n",
    "from sklearn.ensemble import AdaBoostRegressor\n",
    "\n",
    "start = time.time()\n",
    "regr = AdaBoostRegressor(DecisionTreeRegressor(random_state=0, max_depth=3))\n",
    "regr.fit(X_train_f, Y_train)\n",
    "end = time.time()\n",
    "elapsed1 = end - start\n",
    "\n",
    "print(\"Temps exécution : \", elapsed1)\n"
   ]
  },
  {
   "cell_type": "code",
   "execution_count": 6,
   "metadata": {},
   "outputs": [
    {
     "name": "stdout",
     "output_type": "stream",
     "text": [
      "Temps exécution :  0.3630030155181885\n",
      "MAPE :  2.181146467358633e+16\n",
      "MAE :  423.55850369929743\n",
      "RMSE :  383409.72758888535\n"
     ]
    }
   ],
   "source": [
    "from sklearn.metrics import mean_absolute_percentage_error \n",
    "from sklearn.metrics import mean_absolute_error\n",
    "from sklearn.metrics import mean_squared_error\n",
    "\n",
    "#Get the time of execution\n",
    "start = time.time()\n",
    "\n",
    "\n",
    "score_mape = mean_absolute_percentage_error(Y_test, regr.predict(X_test_f))\n",
    "score_mae = mean_absolute_error(Y_test, regr.predict(X_test_f))\n",
    "score_rmse = mean_squared_error(Y_test, regr.predict(X_test_f))\n",
    "\n",
    "\n",
    "end = time.time()\n",
    "elapsed2 = elapsed1 + end - start\n",
    "\n",
    "print(\"Temps exécution : \", elapsed2)\n",
    "print(\"MAPE : \", score_mape)\n",
    "print(\"MAE : \", score_mae)\n",
    "print(\"RMSE : \", score_rmse)"
   ]
  },
  {
   "attachments": {},
   "cell_type": "markdown",
   "metadata": {},
   "source": [
    "## GridSearch"
   ]
  },
  {
   "cell_type": "code",
   "execution_count": 1,
   "metadata": {},
   "outputs": [
    {
     "ename": "NameError",
     "evalue": "name 'AdaBoostRegressor' is not defined",
     "output_type": "error",
     "traceback": [
      "\u001b[1;31m---------------------------------------------------------------------------\u001b[0m",
      "\u001b[1;31mNameError\u001b[0m                                 Traceback (most recent call last)",
      "\u001b[1;32mC:\\Users\\KHO~1\\AppData\\Local\\Temp/ipykernel_3500/4179661725.py\u001b[0m in \u001b[0;36m<module>\u001b[1;34m\u001b[0m\n\u001b[0;32m      8\u001b[0m             'loss': loss}\n\u001b[0;32m      9\u001b[0m \u001b[1;33m\u001b[0m\u001b[0m\n\u001b[1;32m---> 10\u001b[1;33m \u001b[0mrf_clf\u001b[0m \u001b[1;33m=\u001b[0m \u001b[0mAdaBoostRegressor\u001b[0m\u001b[1;33m(\u001b[0m\u001b[0mDecisionTreeRegressor\u001b[0m\u001b[1;33m(\u001b[0m\u001b[0mrandom_state\u001b[0m\u001b[1;33m=\u001b[0m\u001b[1;36m0\u001b[0m\u001b[1;33m,\u001b[0m \u001b[0mmax_depth\u001b[0m\u001b[1;33m=\u001b[0m\u001b[1;36m3\u001b[0m\u001b[1;33m)\u001b[0m\u001b[1;33m)\u001b[0m\u001b[1;33m\u001b[0m\u001b[1;33m\u001b[0m\u001b[0m\n\u001b[0m\u001b[0;32m     11\u001b[0m \u001b[1;33m\u001b[0m\u001b[0m\n\u001b[0;32m     12\u001b[0m \u001b[0mrf_cv\u001b[0m \u001b[1;33m=\u001b[0m \u001b[0mGridSearchCV\u001b[0m\u001b[1;33m(\u001b[0m\u001b[0mrf_clf\u001b[0m\u001b[1;33m,\u001b[0m \u001b[0mparams_grid\u001b[0m\u001b[1;33m,\u001b[0m \u001b[0mscoring\u001b[0m\u001b[1;33m=\u001b[0m\u001b[1;34m\"neg_mean_absolute_error\"\u001b[0m\u001b[1;33m,\u001b[0m \u001b[0mcv\u001b[0m\u001b[1;33m=\u001b[0m\u001b[1;36m10\u001b[0m\u001b[1;33m)\u001b[0m\u001b[1;33m\u001b[0m\u001b[1;33m\u001b[0m\u001b[0m\n",
      "\u001b[1;31mNameError\u001b[0m: name 'AdaBoostRegressor' is not defined"
     ]
    }
   ],
   "source": [
    "from sklearn.model_selection import GridSearchCV\n",
    "\n",
    "n_estimators = [50,100]\n",
    "learning_rate = [0.1,0.5,1]\n",
    "loss = ['linear', \"square\", \"exponential\"]\n",
    "\n",
    "params_grid = {'n_estimators': n_estimators, 'learning_rate': learning_rate,\n",
    "            'loss': loss}\n",
    "\n",
    "rf_clf = AdaBoostRegressor(DecisionTreeRegressor(random_state=0, max_depth=3))\n",
    "\n",
    "rf_cv = GridSearchCV(rf_clf, params_grid, scoring=\"neg_mean_absolute_error\", cv=10)\n",
    "rf_cv.fit(X_train, Y_train)\n",
    "\n",
    "\n",
    "print('GridSearch CV best score : {:.4f}\\n\\n'.format(rf_cv.best_score_))\n",
    "\n",
    "# print parameters that give the best results\n",
    "print('Parameters that give the best results :','\\n\\n', (rf_cv.best_params_))\n",
    "\n",
    "# print estimator that was chosen by the GridSearch\n",
    "print('\\n\\nEstimator that was chosen by the search :','\\n\\n', (rf_cv.best_estimator_))"
   ]
  },
  {
   "cell_type": "markdown",
   "metadata": {},
   "source": [
    "Cross validation"
   ]
  },
  {
   "cell_type": "code",
   "execution_count": 8,
   "metadata": {},
   "outputs": [
    {
     "name": "stdout",
     "output_type": "stream",
     "text": [
      "374.90 MAE with a standard deviation of 63.56\n",
      "2947490568112400.50 MAPE with a standard deviation of 8842471704337150.00\n",
      "228058.20 RMSE with a standard deviation of 140075.90\n"
     ]
    }
   ],
   "source": [
    "from sklearn.metrics import mean_absolute_error\n",
    "from sklearn.metrics import mean_absolute_percentage_error \n",
    "from sklearn.metrics import make_scorer\n",
    "from sklearn.model_selection import cross_val_score\n",
    "\n",
    "#Get the time of execution\n",
    "\n",
    "scorer = make_scorer(mean_absolute_error)\n",
    "score = cross_val_score(regr, X_train_f, Y_train, cv=10, scoring=scorer)\n",
    "\n",
    "\n",
    "print(\"%0.2f MAE with a standard deviation of %0.2f\" % (score.mean(), score.std()))\n",
    "\n",
    "\n",
    "\n",
    "\n",
    "scorer = make_scorer(mean_absolute_percentage_error)\n",
    "score = cross_val_score(regr, X_train_f, Y_train, cv=10, scoring=scorer)\n",
    "\n",
    "\n",
    "\n",
    "print(\"%0.2f MAPE with a standard deviation of %0.2f\" % (score.mean(), score.std()))\n",
    "\n",
    "\n",
    "\n",
    "scorer = make_scorer(mean_squared_error)\n",
    "score = cross_val_score(regr, X_train_f, Y_train, cv=10, scoring=scorer)\n",
    "\n",
    "\n",
    "\n",
    "print(\"%0.2f RMSE with a standard deviation of %0.2f\" % (score.mean(), score.std()))"
   ]
  }
 ],
 "metadata": {
  "kernelspec": {
   "display_name": "Python 3.9.7 ('base')",
   "language": "python",
   "name": "python3"
  },
  "language_info": {
   "codemirror_mode": {
    "name": "ipython",
    "version": 3
   },
   "file_extension": ".py",
   "mimetype": "text/x-python",
   "name": "python",
   "nbconvert_exporter": "python",
   "pygments_lexer": "ipython3",
   "version": "3.9.7"
  },
  "orig_nbformat": 4,
  "vscode": {
   "interpreter": {
    "hash": "fc0a915e5fff88658cabdf6b5db03c516d85c73603b294f779065857f3811826"
   }
  }
 },
 "nbformat": 4,
 "nbformat_minor": 2
}
