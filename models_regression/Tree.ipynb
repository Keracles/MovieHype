{
 "cells": [
  {
   "cell_type": "code",
   "execution_count": 1,
   "metadata": {},
   "outputs": [],
   "source": [
    "import numpy as np\n",
    "import pandas as pd\n",
    "import os\n",
    "import math as m\n",
    "import matplotlib.pyplot as plt\n",
    "import time"
   ]
  },
  {
   "cell_type": "markdown",
   "metadata": {},
   "source": [
    "## Import Data Functions"
   ]
  },
  {
   "cell_type": "code",
   "execution_count": 2,
   "metadata": {},
   "outputs": [
    {
     "data": {
      "text/plain": [
       "Index(['titre', 'budget', 'recette', 'duree', 'realisateur', 'casting',\n",
       "       'compagnies_production', 'suite', 'Comedy', 'Drama', 'Horror',\n",
       "       'Thriller', 'Action', 'Adventure', 'Science Fiction', 'Fantasy',\n",
       "       'Family', 'Crime', 'Romance', 'Animation', 'Mystery', 'War', 'Music',\n",
       "       'Western', 'History', 'Documentary', 'TV Movie', 'benefice global',\n",
       "       'saison', 'casting_score_sum', 'casting_score_mean',\n",
       "       'casting_score_med', 'casting_score_min', 'casting_score_max',\n",
       "       'director_score_sum', 'director_score_mean', 'director_score_med',\n",
       "       'director_score_min', 'director_score_max', 'compagnies_score_sum',\n",
       "       'compagnies_score_mean', 'compagnies_score_med', 'compagnies_score_min',\n",
       "       'compagnies_score_max'],\n",
       "      dtype='object')"
      ]
     },
     "execution_count": 2,
     "metadata": {},
     "output_type": "execute_result"
    }
   ],
   "source": [
    "df = pd.read_csv(r\"..\\data\\dataset_new_score_v3.csv\").drop(columns=\"Unnamed: 0\")\n",
    "df.columns"
   ]
  },
  {
   "cell_type": "markdown",
   "metadata": {},
   "source": [
    "## Datasets and Scaling"
   ]
  },
  {
   "cell_type": "code",
   "execution_count": 3,
   "metadata": {},
   "outputs": [],
   "source": [
    "from sklearn.model_selection import train_test_split\n",
    "\n",
    "TEST_RATIO = 0.9\n",
    " \n",
    "X_train, X_test, Y_train, Y_test = train_test_split(df.drop(columns=[\"titre\", \"recette\", \"realisateur\", \"casting\", \"compagnies_production\", \"benefice global\"]), df[\"benefice global\"], test_size = TEST_RATIO, shuffle=True, random_state = 1)"
   ]
  },
  {
   "cell_type": "code",
   "execution_count": 4,
   "metadata": {},
   "outputs": [
    {
     "name": "stdout",
     "output_type": "stream",
     "text": [
      "Done\n"
     ]
    }
   ],
   "source": [
    "from sklearn.preprocessing import StandardScaler\n",
    "\n",
    "X_train_f = StandardScaler().fit(np.array(X_train)).transform(np.array(X_train))\n",
    "\n",
    "\n",
    "X_test_f = StandardScaler().fit(np.array(X_test)).transform(np.array(X_test))\n",
    "\n",
    "print(\"Done\")"
   ]
  },
  {
   "cell_type": "markdown",
   "metadata": {},
   "source": [
    "## Model"
   ]
  },
  {
   "cell_type": "code",
   "execution_count": 5,
   "metadata": {},
   "outputs": [
    {
     "name": "stdout",
     "output_type": "stream",
     "text": [
      "Temps exécution :  0.59100341796875\n"
     ]
    }
   ],
   "source": [
    "from sklearn.ensemble import RandomForestRegressor\n",
    "\n",
    "start = time.time()\n",
    "regr = RandomForestRegressor(random_state=0)\n",
    "regr.fit(X_train_f, Y_train)\n",
    "end = time.time()\n",
    "elapsed1 = end - start\n",
    "\n",
    "print(\"Temps exécution : \", elapsed1)\n"
   ]
  },
  {
   "cell_type": "code",
   "execution_count": 6,
   "metadata": {},
   "outputs": [
    {
     "name": "stdout",
     "output_type": "stream",
     "text": [
      "Temps exécution :  0.7312188148498535\n",
      "MAPE :  7369951363425319.0\n",
      "MAE :  295.4945200906402\n"
     ]
    }
   ],
   "source": [
    "from sklearn.metrics import mean_absolute_percentage_error \n",
    "from sklearn.metrics import mean_absolute_error\n",
    "\n",
    "#Get the time of execution\n",
    "start = time.time()\n",
    "\n",
    "\n",
    "score_mape = mean_absolute_percentage_error(Y_test, regr.predict(X_test_f))\n",
    "score_mae = mean_absolute_error(Y_test, regr.predict(X_test_f))\n",
    "\n",
    "\n",
    "end = time.time()\n",
    "elapsed2 = elapsed1 + end - start\n",
    "\n",
    "print(\"Temps exécution : \", elapsed2)\n",
    "print(\"MAPE : \", score_mape)\n",
    "print(\"MAE : \", score_mae)"
   ]
  },
  {
   "cell_type": "markdown",
   "metadata": {},
   "source": [
    "Cross validation"
   ]
  },
  {
   "cell_type": "code",
   "execution_count": 7,
   "metadata": {},
   "outputs": [
    {
     "name": "stdout",
     "output_type": "stream",
     "text": [
      "251.26 MAE with a standard deviation of 70.10\n",
      "4427401522786901.00 MAPE with a standard deviation of 5900621190227134.00\n"
     ]
    }
   ],
   "source": [
    "from sklearn.metrics import mean_absolute_error\n",
    "from sklearn.metrics import mean_absolute_percentage_error \n",
    "from sklearn.metrics import make_scorer\n",
    "from sklearn.model_selection import cross_val_score\n",
    "\n",
    "#Get the time of execution\n",
    "\n",
    "scorer = make_scorer(mean_absolute_error)\n",
    "score = cross_val_score(regr, X_train_f, Y_train, cv=10, scoring=scorer)\n",
    "\n",
    "\n",
    "print(\"%0.2f MAE with a standard deviation of %0.2f\" % (score.mean(), score.std()))\n",
    "\n",
    "\n",
    "\n",
    "\n",
    "scorer = make_scorer(mean_absolute_percentage_error)\n",
    "score = cross_val_score(regr, X_train_f, Y_train, cv=10, scoring=scorer)\n",
    "\n",
    "\n",
    "\n",
    "print(\"%0.2f MAPE with a standard deviation of %0.2f\" % (score.mean(), score.std()))\n"
   ]
  },
  {
   "cell_type": "markdown",
   "metadata": {},
   "source": [
    "## Tuning some shit"
   ]
  },
  {
   "cell_type": "code",
   "execution_count": 20,
   "metadata": {},
   "outputs": [
    {
     "name": "stdout",
     "output_type": "stream",
     "text": [
      "ça tune de la thune\n"
     ]
    },
    {
     "name": "stderr",
     "output_type": "stream",
     "text": [
      "c:\\Users\\kerac\\AppData\\Local\\Programs\\Python\\Python310\\lib\\site-packages\\sklearn\\model_selection\\_validation.py:378: FitFailedWarning: \n",
      "35 fits failed out of a total of 140.\n",
      "The score on these train-test partitions for these parameters will be set to nan.\n",
      "If these failures are not expected, you can try to debug them by setting error_score='raise'.\n",
      "\n",
      "Below are more details about the failures:\n",
      "--------------------------------------------------------------------------------\n",
      "35 fits failed with the following error:\n",
      "Traceback (most recent call last):\n",
      "  File \"c:\\Users\\kerac\\AppData\\Local\\Programs\\Python\\Python310\\lib\\site-packages\\sklearn\\model_selection\\_validation.py\", line 686, in _fit_and_score\n",
      "    estimator.fit(X_train, y_train, **fit_params)\n",
      "  File \"c:\\Users\\kerac\\AppData\\Local\\Programs\\Python\\Python310\\lib\\site-packages\\sklearn\\tree\\_classes.py\", line 1342, in fit\n",
      "    super().fit(\n",
      "  File \"c:\\Users\\kerac\\AppData\\Local\\Programs\\Python\\Python310\\lib\\site-packages\\sklearn\\tree\\_classes.py\", line 185, in fit\n",
      "    raise ValueError(\n",
      "ValueError: Some value(s) of y are negative which is not allowed for Poisson regression.\n",
      "\n",
      "  warnings.warn(some_fits_failed_message, FitFailedWarning)\n",
      "c:\\Users\\kerac\\AppData\\Local\\Programs\\Python\\Python310\\lib\\site-packages\\sklearn\\model_selection\\_search.py:953: UserWarning: One or more of the test scores are non-finite: [0.67160295 0.61098972 0.62247551 0.58952594 0.59256472 0.61481422\n",
      " 0.61159746 0.67160295 0.61098972 0.5989228  0.61826207 0.57492947\n",
      " 0.6061883  0.5746925  0.82409085 0.75591829 0.70007499 0.68113504\n",
      " 0.68151838 0.66610949 0.6708841         nan        nan        nan\n",
      "        nan        nan        nan        nan]\n",
      "  warnings.warn(\n"
     ]
    },
    {
     "name": "stdout",
     "output_type": "stream",
     "text": [
      "Grid scores\n",
      "0.672 (+/-1.525) for {'criterion': 'squared_error', 'max_depth': 3}\n",
      "0.611 (+/-1.179) for {'criterion': 'squared_error', 'max_depth': 4}\n",
      "0.622 (+/-1.251) for {'criterion': 'squared_error', 'max_depth': 5}\n",
      "0.590 (+/-1.247) for {'criterion': 'squared_error', 'max_depth': 6}\n",
      "0.593 (+/-1.217) for {'criterion': 'squared_error', 'max_depth': 7}\n",
      "0.615 (+/-1.245) for {'criterion': 'squared_error', 'max_depth': 8}\n",
      "0.612 (+/-1.259) for {'criterion': 'squared_error', 'max_depth': 9}\n",
      "0.672 (+/-1.525) for {'criterion': 'friedman_mse', 'max_depth': 3}\n",
      "0.611 (+/-1.179) for {'criterion': 'friedman_mse', 'max_depth': 4}\n",
      "0.599 (+/-1.268) for {'criterion': 'friedman_mse', 'max_depth': 5}\n",
      "0.618 (+/-1.211) for {'criterion': 'friedman_mse', 'max_depth': 6}\n",
      "0.575 (+/-1.206) for {'criterion': 'friedman_mse', 'max_depth': 7}\n",
      "0.606 (+/-1.204) for {'criterion': 'friedman_mse', 'max_depth': 8}\n",
      "0.575 (+/-1.239) for {'criterion': 'friedman_mse', 'max_depth': 9}\n",
      "0.824 (+/-1.562) for {'criterion': 'absolute_error', 'max_depth': 3}\n",
      "0.756 (+/-1.241) for {'criterion': 'absolute_error', 'max_depth': 4}\n",
      "0.700 (+/-1.276) for {'criterion': 'absolute_error', 'max_depth': 5}\n",
      "0.681 (+/-1.162) for {'criterion': 'absolute_error', 'max_depth': 6}\n",
      "0.682 (+/-1.209) for {'criterion': 'absolute_error', 'max_depth': 7}\n",
      "0.666 (+/-1.210) for {'criterion': 'absolute_error', 'max_depth': 8}\n",
      "0.671 (+/-1.217) for {'criterion': 'absolute_error', 'max_depth': 9}\n",
      "nan (+/-nan) for {'criterion': 'poisson', 'max_depth': 3}\n",
      "nan (+/-nan) for {'criterion': 'poisson', 'max_depth': 4}\n",
      "nan (+/-nan) for {'criterion': 'poisson', 'max_depth': 5}\n",
      "nan (+/-nan) for {'criterion': 'poisson', 'max_depth': 6}\n",
      "nan (+/-nan) for {'criterion': 'poisson', 'max_depth': 7}\n",
      "nan (+/-nan) for {'criterion': 'poisson', 'max_depth': 8}\n",
      "nan (+/-nan) for {'criterion': 'poisson', 'max_depth': 9}\n"
     ]
    }
   ],
   "source": [
    "K = 10 #crossvalidation\n",
    "from sklearn.model_selection import GridSearchCV\n",
    "from sklearn.metrics import mean_absolute_percentage_error \n",
    "from sklearn.metrics import make_scorer\n",
    "\n",
    "# Paramètres à piper so good\n",
    "scorer = make_scorer(mean_absolute_percentage_error)\n",
    "parameters = [{'max_depth': [k for k in range(3,10)], 'criterion': [\"squared_error\",\"friedman_mse\",\"absolute_error\",\"poisson\"]}]\n",
    "print(\"ça tune de la thune\")\n",
    "regr_t = GridSearchCV(DecisionTreeRegressor(), parameters, cv = K, scoring = scorer)\n",
    "regr_t.fit(X_test_f, Y_test_f)\n",
    "\n",
    "# On check les scores\n",
    "print(\"Grid scores\")\n",
    "means = regr_t.cv_results_['mean_test_score']\n",
    "stds = regr_t.cv_results_['std_test_score']\n",
    "for mean, std, params in zip(means, stds, regr_t.cv_results_['params']):\n",
    "    print(\"%0.3f (+/-%0.03f) for %r\"% (mean, std * 2, params))"
   ]
  }
 ],
 "metadata": {
  "kernelspec": {
   "display_name": "Python 3.9.7 ('base')",
   "language": "python",
   "name": "python3"
  },
  "language_info": {
   "codemirror_mode": {
    "name": "ipython",
    "version": 3
   },
   "file_extension": ".py",
   "mimetype": "text/x-python",
   "name": "python",
   "nbconvert_exporter": "python",
   "pygments_lexer": "ipython3",
   "version": "3.9.7"
  },
  "orig_nbformat": 4,
  "vscode": {
   "interpreter": {
    "hash": "fc0a915e5fff88658cabdf6b5db03c516d85c73603b294f779065857f3811826"
   }
  }
 },
 "nbformat": 4,
 "nbformat_minor": 2
}
