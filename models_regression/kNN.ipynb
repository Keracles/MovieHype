{
 "cells": [
  {
   "cell_type": "code",
   "execution_count": 13,
   "metadata": {},
   "outputs": [],
   "source": [
    "import numpy as np\n",
    "import pandas as pd\n",
    "import os\n",
    "import math as m\n",
    "import matplotlib.pyplot as plt\n",
    "import time"
   ]
  },
  {
   "cell_type": "markdown",
   "metadata": {},
   "source": [
    "## Import Data Functions"
   ]
  },
  {
   "cell_type": "code",
   "execution_count": 14,
   "metadata": {},
   "outputs": [],
   "source": [
    "def import_dataset(path):\n",
    "    df = pd.read_csv(path, sep=';')\n",
    "    df.columns = [\"Name\", \"Cost\",\"S1\",\"S2\",\"S3\",\"S4\",\"S5\",\"S6\",\"S7\",\"S8\",\"S9\",\"S10\",\"S11\",\"S12\",\"S13\",\"S14\",\"S15\",\"S16\",\"S17\", \"S18\"]\n",
    "    return df\n",
    "\n",
    "def reduce_size(df_tot):\n",
    "    for col in df_tot.columns :\n",
    "        if col not in [\"Configuration\", \"Instance\", \"Solution\", \"Cost\"]:\n",
    "            df_tot[col] = pd.to_numeric(df_tot[col], errors=\"ignore\", downcast='float')\n",
    "        else : \n",
    "            df_tot[col] = pd.to_numeric(df_tot[col], errors=\"ignore\", downcast='integer')\n",
    "    return df_tot\n",
    "\n",
    "def tirage_repartition(indice, nb):\n",
    "    tirage = []\n",
    "    bond = int((len(indice)-1)/(nb-1))\n",
    "    for k in range(0, len(indice), bond):\n",
    "        tirage.append(indice[k])\n",
    "    \n",
    "    for element in tirage:\n",
    "        indice.remove(element)\n",
    "\n",
    "    return tirage, indice\n",
    "    \n",
    "def create_samples(p_train, nb_train, nb_test, nb_verify, seed):\n",
    "    # Mettre la même seed pour avoir des résultats constants\n",
    "    np.random.seed(seed)\n",
    "\n",
    "    # Création des variables utiles\n",
    "    fichiers_2113 = os.listdir('../HGS/2113/')\n",
    "    fichiers_2213 = os.listdir('../HGS/2213/')\n",
    "    fichiers_3113 = os.listdir('../HGS/3113/')\n",
    "    fichiers_3213 = os.listdir('../HGS/3213/')\n",
    "\n",
    "    #Shuffle \n",
    "    np.random.shuffle(fichiers_2113)\n",
    "    np.random.shuffle(fichiers_2213)\n",
    "    np.random.shuffle(fichiers_3113)\n",
    "    np.random.shuffle(fichiers_3213)\n",
    "\n",
    "    #Choix des fichiers trains et test (On arrondie au supérieur)\n",
    "    train_list = {}\n",
    "    test_list = {}\n",
    "    train_list[\"2113\"], test_list[\"2113\"] = fichiers_2113[:m.ceil(p_train*len(fichiers_2113))], fichiers_2113[m.ceil(p_train*len(fichiers_2113)):]\n",
    "    train_list[\"2213\"], test_list[\"2213\"] = fichiers_2213[:m.ceil(p_train*len(fichiers_2213))], fichiers_2213[m.ceil(p_train*len(fichiers_2213)):]\n",
    "    train_list[\"3113\"], test_list[\"3113\"] = fichiers_3113[:m.ceil(p_train*len(fichiers_3113))], fichiers_3113[m.ceil(p_train*len(fichiers_3113)):]\n",
    "    train_list[\"3213\"], test_list[\"3213\"] = fichiers_3213[:m.ceil(p_train*len(fichiers_3213))], fichiers_3213[m.ceil(p_train*len(fichiers_3213)):]\n",
    "\n",
    "    #On créer les trois data_frames\n",
    "    colonnes = [\"Configuration\", \"Instance\", \"Solution\", \"Cost\",\"S1\",\"S2\",\"S3\",\"S4\",\"S5\",\"S6\",\"S7\",\"S8\",\"S9\",\"S10\",\"S11\",\"S12\",\"S13\",\"S14\",\"S15\",\"S16\",\"S17\", \"S18\"]\n",
    "    lignes_train = []\n",
    "    lignes_verify = []\n",
    "    lignes_test = []\n",
    "\n",
    "\n",
    "    for instance in train_list.keys():\n",
    "        fichiers_train = train_list[instance]\n",
    "        fichiers_test = test_list[instance]\n",
    "\n",
    "        for path_fichier in fichiers_train:\n",
    "            df = import_dataset(f\"../HGS/{instance}/\" + path_fichier)\n",
    "            path_fichier = path_fichier.split(\"_\")\n",
    "            num = path_fichier[-1].replace(\".csv\", \"\")\n",
    "\n",
    "            #On trie le dataset pour avoir un échantillon représentatif \n",
    "            df = df.sort_values(by = \"Cost\", ascending=False)\n",
    "            df = df.reset_index().drop(columns=[\"index\"])\n",
    "\n",
    "\n",
    "            indice = [k for k in range(df.shape[0])]\n",
    "            tirage_train, indice = tirage_repartition(indice, nb_train)\n",
    "            tirage_verify, indice = tirage_repartition(indice, nb_verify)\n",
    "\n",
    "            for i in range(nb_train):\n",
    "                row_index = tirage_train.pop(0)\n",
    "                row = list(df.iloc[row_index])\n",
    "                row.pop(0)\n",
    "                row = [int(instance), int(num), row_index] + row \n",
    "                lignes_train.append(row)\n",
    "                \n",
    "            for i in range(nb_verify):\n",
    "                row_index = tirage_verify.pop(0)\n",
    "                row = list(df.iloc[row_index])\n",
    "                row.pop(0)\n",
    "                row = [int(instance), int(num), row_index] + row \n",
    "                lignes_verify.append(row)\n",
    "                \n",
    "\n",
    "        for path_fichier in fichiers_test:\n",
    "            df = import_dataset(f\"../HGS/{instance}/\" + path_fichier)\n",
    "            path_fichier = path_fichier.split(\"_\")\n",
    "            num = path_fichier[-1].replace(\".csv\", \"\")\n",
    "\n",
    "            #On trie le dataset pour avoir un échantillon représentatif \n",
    "            df = df.sort_values(by = \"Cost\", ascending=False)\n",
    "            df = df.reset_index().drop(columns=[\"index\"])\n",
    "            indice = [k for k in range(df.shape[0])]\n",
    "            tirage_test, indice = tirage_repartition(indice, nb_test)\n",
    "            tirage_verify, indice = tirage_repartition(indice, nb_verify)\n",
    "\n",
    "            for i in range(nb_test):\n",
    "                row_index = tirage_test.pop(0)\n",
    "                row = list(df.iloc[row_index])\n",
    "                row.pop(0)\n",
    "                row = [int(instance), int(num), row_index] + row \n",
    "                lignes_test.append(row)\n",
    "            for i in range(nb_verify):\n",
    "                row_index = tirage_verify.pop(0)\n",
    "                row = list(df.iloc[row_index])\n",
    "                row.pop(0)\n",
    "                row = [int(instance), int(num), row_index] + row \n",
    "                lignes_verify.append(row)\n",
    "        \n",
    "\n",
    "\n",
    "    #Création des data frames\n",
    "\n",
    "    df_train = pd.DataFrame(lignes_train, columns=colonnes)\n",
    "    df_verify = pd.DataFrame(lignes_verify, columns=colonnes)\n",
    "    df_test = pd.DataFrame(lignes_test, columns=colonnes)\n",
    "\n",
    "    df_train = df_train.drop(columns=['S7'])\n",
    "    df_verify = df_verify.drop(columns=['S7'])\n",
    "    df_test = df_test.drop(columns=['S7'])\n",
    "    return reduce_size(df_train), reduce_size(df_verify), reduce_size(df_test)\n"
   ]
  },
  {
   "cell_type": "markdown",
   "metadata": {},
   "source": [
    "## Datasets and Scaling"
   ]
  },
  {
   "cell_type": "code",
   "execution_count": 15,
   "metadata": {},
   "outputs": [],
   "source": [
    "df_train, df_verify, df_test = create_samples(0.8, 10000, 1000, 1000, 1)"
   ]
  },
  {
   "cell_type": "code",
   "execution_count": 16,
   "metadata": {},
   "outputs": [],
   "source": [
    "X_train, Y_train = df_train.drop(columns=[\"Configuration\", \"Instance\", \"Solution\", \"Cost\"]), df_train['Cost']\n",
    "X_verify, Y_verify = df_verify.drop(columns=[\"Configuration\", \"Instance\", \"Solution\", \"Cost\"]), df_verify['Cost']\n",
    "X_test, Y_test = df_test.drop(columns=[\"Configuration\", \"Instance\", \"Solution\", \"Cost\"]), df_test['Cost']"
   ]
  },
  {
   "cell_type": "code",
   "execution_count": 17,
   "metadata": {},
   "outputs": [
    {
     "name": "stdout",
     "output_type": "stream",
     "text": [
      "Done\n"
     ]
    }
   ],
   "source": [
    "from sklearn.preprocessing import StandardScaler\n",
    "\n",
    "X_train_f = StandardScaler().fit(X_train).transform(X_train)\n",
    "Y_train_f = StandardScaler().fit(Y_train.values.reshape(-1,1)).transform(Y_train.values.reshape(-1,1))\n",
    "\n",
    "X_verify_f = StandardScaler().fit(X_verify).transform(X_verify)\n",
    "Y_verify_f = StandardScaler().fit(Y_verify.values.reshape(-1,1)).transform(Y_verify.values.reshape(-1,1))\n",
    "\n",
    "X_test_f = StandardScaler().fit(X_test).transform(X_test)\n",
    "Y_test_f = StandardScaler().fit(Y_test.values.reshape(-1,1)).transform(Y_test.values.reshape(-1,1))\n",
    "\n",
    "print(\"Done\")"
   ]
  },
  {
   "cell_type": "markdown",
   "metadata": {},
   "source": [
    "## Model"
   ]
  },
  {
   "cell_type": "code",
   "execution_count": 20,
   "metadata": {},
   "outputs": [
    {
     "name": "stdout",
     "output_type": "stream",
     "text": [
      "Temps exécution :  0.07699871063232422\n"
     ]
    }
   ],
   "source": [
    "from sklearn.neighbors import KNeighborsRegressor\n",
    "\n",
    "start = time.time()\n",
    "regr = KNeighborsRegressor(n_neighbors=4)\n",
    "regr.fit(X_train_f, Y_train_f)\n",
    "end = time.time()\n",
    "elapsed = end - start\n",
    "\n",
    "print(\"Temps exécution : \", elapsed)"
   ]
  },
  {
   "cell_type": "code",
   "execution_count": 19,
   "metadata": {},
   "outputs": [
    {
     "name": "stdout",
     "output_type": "stream",
     "text": [
      "Temps exécution :  1086.0301818847656\n",
      "MAPE :  0.3844596841141698\n",
      "MAE :  0.2639730443035203\n"
     ]
    }
   ],
   "source": [
    "from sklearn.metrics import mean_absolute_percentage_error \n",
    "from sklearn.metrics import mean_absolute_error\n",
    "\n",
    "#Get the time of execution\n",
    "start = time.time()\n",
    "\n",
    "\n",
    "score_mape = mean_absolute_percentage_error(Y_test_f, regr.predict(X_test_f))\n",
    "score_mae = mean_absolute_error(Y_test_f, regr.predict(X_test_f))\n",
    "\n",
    "\n",
    "end = time.time()\n",
    "elapsed = end - start\n",
    "\n",
    "print(\"Temps exécution : \", elapsed)\n",
    "print(\"MAPE : \", score_mape)\n",
    "print(\"MAE : \", score_mae)"
   ]
  },
  {
   "cell_type": "markdown",
   "metadata": {},
   "source": [
    "Cross validation"
   ]
  },
  {
   "cell_type": "code",
   "execution_count": 21,
   "metadata": {},
   "outputs": [
    {
     "name": "stdout",
     "output_type": "stream",
     "text": [
      "Temps exécution :  474.5206470489502\n",
      "0.29 accuracy with a standard deviation of 0.33\n"
     ]
    }
   ],
   "source": [
    "from sklearn.metrics import mean_absolute_percentage_error \n",
    "from sklearn.metrics import make_scorer\n",
    "from sklearn.model_selection import cross_val_score\n",
    "\n",
    "#Get the time of execution\n",
    "start = time.time()\n",
    "\n",
    "scorer = make_scorer(mean_absolute_percentage_error)\n",
    "score = cross_val_score(regr, X_train_f, Y_train_f, cv=10, scoring=scorer)\n",
    "\n",
    "\n",
    "end = time.time()\n",
    "elapsed = end - start\n",
    "\n",
    "print(\"Temps exécution : \", elapsed)\n",
    "print(\"%0.2f accuracy with a standard deviation of %0.2f\" % (score.mean(), score.std()))"
   ]
  },
  {
   "cell_type": "markdown",
   "metadata": {},
   "source": [
    "## Tuning some shit"
   ]
  },
  {
   "cell_type": "code",
   "execution_count": null,
   "metadata": {},
   "outputs": [],
   "source": [
    "from sklearn.metrics import mean_absolute_percentage_error \n",
    "from sklearn.metrics import make_scorer\n",
    "\n",
    "score_test = []\n",
    "score_verify = []\n",
    "scorer = make_scorer(mean_absolute_percentage_error, greater_is_better=False)\n",
    "\n",
    "for n_neighbors in range(2, 10):\n",
    "    neigh = KNeighborsRegressor(n_neighbors=n_neighbors)\n",
    "    neigh.fit(X_train_f, Y_train_f)\n",
    "    score_test.append(mean_absolute_percentage_error(Y_test_f, regr.predict(X_test_f)))\n",
    "    score_verify.append(mean_absolute_percentage_error(Y_verify_f, regr.predict(X_verify_f)))\n",
    "\n",
    "print(score_test, score_verify)"
   ]
  },
  {
   "cell_type": "code",
   "execution_count": null,
   "metadata": {},
   "outputs": [],
   "source": [
    "plt.plot([k for k in range(2,10)], score_test, label='Test')\n",
    "plt.plot([k for k in range(2,10)], score_verify, label='Verify')"
   ]
  },
  {
   "cell_type": "markdown",
   "metadata": {},
   "source": [
    "## HomeMade CrossValidation"
   ]
  },
  {
   "cell_type": "code",
   "execution_count": null,
   "metadata": {},
   "outputs": [],
   "source": [
    "def training(seed):\n",
    "    df_train, df_verify, df_test = create_samples(0.8, 10000, 1000, 1000, seed)\n",
    "    X_train, Y_train = df_train.drop(columns=[\"Configuration\", \"Instance\", \"Solution\", \"Cost\"]), df_train['Cost']\n",
    "    X_verify, Y_verify = df_verify.drop(columns=[\"Configuration\", \"Instance\", \"Solution\", \"Cost\"]), df_verify['Cost']\n",
    "    X_test, Y_test = df_test.drop(columns=[\"Configuration\", \"Instance\", \"Solution\", \"Cost\"]), df_test['Cost']\n",
    "\n",
    "    X_train_f = StandardScaler().fit(X_train).transform(X_train)\n",
    "    Y_train_f = StandardScaler().fit(Y_train.values.reshape(-1,1)).transform(Y_train.values.reshape(-1,1))\n",
    "\n",
    "    X_test_f = StandardScaler().fit(X_test).transform(X_test)\n",
    "    Y_test_f = StandardScaler().fit(Y_test.values.reshape(-1,1)).transform(Y_test.values.reshape(-1,1))\n",
    "\n",
    "    regr = KNeighborsRegressor(n_neighbors=4)\n",
    "    regr.fit(X_train_f, Y_train_f)\n",
    "    score_mape = mean_absolute_percentage_error(Y_test_f, regr.predict(X_test_f))\n",
    "    score_mae = mean_absolute_error(Y_test_f, regr.predict(X_test_f))\n",
    "\n",
    "\n",
    "    return score_mape, score_mae\n",
    "\n",
    "\n",
    "\n",
    "scores_mape, scores_mae = [], []\n",
    "\n",
    "\n",
    "for seed in range(10):\n",
    "    score_mape, score_mae = training(seed)\n",
    "    scores_mape.append(score_mape)\n",
    "    scores_mae.append(score_mae)\n",
    "\n",
    "\n",
    "\n",
    "print(\"Mean scores mape : \" , np.mean(scores_mape))\n",
    "print(\"Mean scores mae : \" , np.mean(scores_mae))\n",
    "    "
   ]
  }
 ],
 "metadata": {
  "kernelspec": {
   "display_name": "Python 3.9.7 ('base')",
   "language": "python",
   "name": "python3"
  },
  "language_info": {
   "codemirror_mode": {
    "name": "ipython",
    "version": 3
   },
   "file_extension": ".py",
   "mimetype": "text/x-python",
   "name": "python",
   "nbconvert_exporter": "python",
   "pygments_lexer": "ipython3",
   "version": "3.9.7"
  },
  "orig_nbformat": 4,
  "vscode": {
   "interpreter": {
    "hash": "fc0a915e5fff88658cabdf6b5db03c516d85c73603b294f779065857f3811826"
   }
  }
 },
 "nbformat": 4,
 "nbformat_minor": 2
}
