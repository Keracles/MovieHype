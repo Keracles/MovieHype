{
 "cells": [
  {
   "cell_type": "code",
   "execution_count": 1,
   "metadata": {},
   "outputs": [],
   "source": [
    "import numpy as np\n",
    "import pandas as pd\n",
    "import os\n",
    "import math as m\n",
    "import matplotlib.pyplot as plt\n",
    "import time"
   ]
  },
  {
   "cell_type": "markdown",
   "metadata": {},
   "source": [
    "## Import Data Functions"
   ]
  },
  {
   "cell_type": "code",
   "execution_count": 2,
   "metadata": {},
   "outputs": [
    {
     "data": {
      "text/plain": [
       "Index(['titre', 'budget', 'recette', 'duree', 'realisateur', 'casting',\n",
       "       'compagnies_production', 'suite', 'Comedy', 'Drama', 'Horror',\n",
       "       'Thriller', 'Action', 'Adventure', 'Science Fiction', 'Fantasy',\n",
       "       'Family', 'Crime', 'Romance', 'Animation', 'Mystery', 'War', 'Music',\n",
       "       'Western', 'History', 'Documentary', 'TV Movie', 'benefice global',\n",
       "       'saison', 'casting_score_sum', 'casting_score_mean',\n",
       "       'casting_score_med', 'casting_score_min', 'casting_score_max',\n",
       "       'director_score_sum', 'director_score_mean', 'director_score_med',\n",
       "       'director_score_min', 'director_score_max', 'compagnies_score_sum',\n",
       "       'compagnies_score_mean', 'compagnies_score_med', 'compagnies_score_min',\n",
       "       'compagnies_score_max'],\n",
       "      dtype='object')"
      ]
     },
     "execution_count": 2,
     "metadata": {},
     "output_type": "execute_result"
    }
   ],
   "source": [
    "df = pd.read_csv(r\"..\\data\\dataset_new_score_v3.csv\").drop(columns=\"Unnamed: 0\")\n",
    "df.columns"
   ]
  },
  {
   "cell_type": "markdown",
   "metadata": {},
   "source": [
    "## Datasets and Scaling"
   ]
  },
  {
   "cell_type": "code",
   "execution_count": 17,
   "metadata": {},
   "outputs": [],
   "source": [
    "from sklearn.model_selection import train_test_split\n",
    "\n",
    "TEST_RATIO = 0.9\n",
    " \n",
    "X_train, X_test, Y_train, Y_test = train_test_split(df.drop(columns=[\"titre\", \"recette\", \"realisateur\", \"casting\", \"compagnies_production\", \"benefice global\",'director_score_mean', 'director_score_med',\n",
    "       'director_score_min', 'director_score_max', 'compagnies_score_mean', 'compagnies_score_med', 'compagnies_score_min',\n",
    "       'compagnies_score_max']), df[\"benefice global\"], test_size = TEST_RATIO, shuffle=True, random_state = 1)"
   ]
  },
  {
   "cell_type": "code",
   "execution_count": 18,
   "metadata": {},
   "outputs": [
    {
     "name": "stdout",
     "output_type": "stream",
     "text": [
      "Done\n"
     ]
    }
   ],
   "source": [
    "from sklearn.preprocessing import StandardScaler\n",
    "\n",
    "X_train_f = StandardScaler().fit(np.array(X_train)).transform(np.array(X_train))\n",
    "\n",
    "\n",
    "X_test_f = StandardScaler().fit(np.array(X_test)).transform(np.array(X_test))\n",
    "\n",
    "print(\"Done\")"
   ]
  },
  {
   "cell_type": "markdown",
   "metadata": {},
   "source": [
    "## Model"
   ]
  },
  {
   "cell_type": "code",
   "execution_count": 19,
   "metadata": {},
   "outputs": [
    {
     "name": "stdout",
     "output_type": "stream",
     "text": [
      "Temps exécution :  0.8233120441436768\n"
     ]
    }
   ],
   "source": [
    "from sklearn.ensemble import RandomForestRegressor\n",
    "\n",
    "start = time.time()\n",
    "regr = RandomForestRegressor(random_state=0)\n",
    "regr.fit(X_train_f, Y_train)\n",
    "end = time.time()\n",
    "elapsed1 = end - start\n",
    "\n",
    "print(\"Temps exécution : \", elapsed1)\n"
   ]
  },
  {
   "cell_type": "code",
   "execution_count": 20,
   "metadata": {},
   "outputs": [
    {
     "name": "stdout",
     "output_type": "stream",
     "text": [
      "Temps exécution :  1.1378686428070068\n",
      "MAPE :  2.6718079065813444e+16\n",
      "MAE :  302.3839189312093\n"
     ]
    }
   ],
   "source": [
    "from sklearn.metrics import mean_absolute_percentage_error \n",
    "from sklearn.metrics import mean_absolute_error\n",
    "\n",
    "#Get the time of execution\n",
    "start = time.time()\n",
    "\n",
    "\n",
    "score_mape = mean_absolute_percentage_error(Y_test, regr.predict(X_test_f))\n",
    "score_mae = mean_absolute_error(Y_test, regr.predict(X_test_f))\n",
    "\n",
    "\n",
    "end = time.time()\n",
    "elapsed2 = elapsed1 + end - start\n",
    "\n",
    "print(\"Temps exécution : \", elapsed2)\n",
    "print(\"MAPE : \", score_mape)\n",
    "print(\"MAE : \", score_mae)"
   ]
  },
  {
   "cell_type": "markdown",
   "metadata": {},
   "source": [
    "Cross validation"
   ]
  },
  {
   "cell_type": "code",
   "execution_count": 21,
   "metadata": {},
   "outputs": [
    {
     "name": "stdout",
     "output_type": "stream",
     "text": [
      "257.16 MAE with a standard deviation of 65.65\n",
      "1010552469790827.75 MAPE with a standard deviation of 3031657409372456.00\n"
     ]
    }
   ],
   "source": [
    "from sklearn.metrics import mean_absolute_error\n",
    "from sklearn.metrics import mean_absolute_percentage_error \n",
    "from sklearn.metrics import make_scorer\n",
    "from sklearn.model_selection import cross_val_score\n",
    "\n",
    "#Get the time of execution\n",
    "\n",
    "scorer = make_scorer(mean_absolute_error)\n",
    "score = cross_val_score(regr, X_train_f, Y_train, cv=10, scoring=scorer)\n",
    "\n",
    "\n",
    "print(\"%0.2f MAE with a standard deviation of %0.2f\" % (score.mean(), score.std()))\n",
    "\n",
    "\n",
    "\n",
    "\n",
    "scorer = make_scorer(mean_absolute_percentage_error)\n",
    "score = cross_val_score(regr, X_train_f, Y_train, cv=10, scoring=scorer)\n",
    "\n",
    "\n",
    "\n",
    "print(\"%0.2f MAPE with a standard deviation of %0.2f\" % (score.mean(), score.std()))\n"
   ]
  },
  {
   "cell_type": "markdown",
   "metadata": {},
   "source": [
    "## Tuning some shit"
   ]
  },
  {
   "cell_type": "code",
   "execution_count": null,
   "metadata": {},
   "outputs": [],
   "source": [
    "K = 10 #crossvalidation\n",
    "from sklearn.model_selection import GridSearchCV\n",
    "from sklearn.metrics import mean_absolute_percentage_error \n",
    "from sklearn.metrics import make_scorer\n",
    "\n",
    "# Paramètres à piper so good\n",
    "scorer = make_scorer(mean_absolute_percentage_error)\n",
    "parameters = [{'max_depth': [k for k in range(3,10)], 'criterion': [\"squared_error\",\"absolute_error\",\"poisson\"]}]\n",
    "print(\"ça tune de la thune\")\n",
    "regr_t = GridSearchCV(RandomForestRegressor(), parameters, cv = K, scoring = scorer)\n",
    "regr_t.fit(X_test_f, Y_test)\n",
    "\n",
    "# On check les scores\n",
    "print(\"Grid scores\")\n",
    "means = regr_t.cv_results_['mean_test_score']\n",
    "stds = regr_t.cv_results_['std_test_score']\n",
    "for mean, std, params in zip(means, stds, regr_t.cv_results_['params']):\n",
    "    print(\"%0.3f (+/-%0.03f) for %r\"% (mean, std * 2, params))"
   ]
  }
 ],
 "metadata": {
  "kernelspec": {
   "display_name": "Python 3.9.7 ('base')",
   "language": "python",
   "name": "python3"
  },
  "language_info": {
   "codemirror_mode": {
    "name": "ipython",
    "version": 3
   },
   "file_extension": ".py",
   "mimetype": "text/x-python",
   "name": "python",
   "nbconvert_exporter": "python",
   "pygments_lexer": "ipython3",
   "version": "3.9.7 (default, Sep 16 2021, 16:59:28) [MSC v.1916 64 bit (AMD64)]"
  },
  "orig_nbformat": 4,
  "vscode": {
   "interpreter": {
    "hash": "fc0a915e5fff88658cabdf6b5db03c516d85c73603b294f779065857f3811826"
   }
  }
 },
 "nbformat": 4,
 "nbformat_minor": 2
}
