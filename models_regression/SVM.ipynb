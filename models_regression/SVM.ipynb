{
 "cells": [
  {
   "cell_type": "code",
   "execution_count": 3,
   "metadata": {},
   "outputs": [],
   "source": [
    "import numpy as np\n",
    "import pandas as pd\n",
    "import os\n",
    "import math as m\n",
    "import matplotlib.pyplot as plt\n",
    "import time"
   ]
  },
  {
   "cell_type": "markdown",
   "metadata": {},
   "source": [
    "## Import Data Functions"
   ]
  },
  {
   "cell_type": "code",
   "execution_count": 4,
   "metadata": {},
   "outputs": [
    {
     "data": {
      "text/plain": [
       "Index(['titre', 'budget', 'recette', 'duree', 'realisateur', 'casting',\n",
       "       'compagnies_production', 'suite', 'Comedy', 'Drama', 'Horror',\n",
       "       'Thriller', 'Action', 'Adventure', 'Science Fiction', 'Fantasy',\n",
       "       'Family', 'Crime', 'Romance', 'Animation', 'Mystery', 'War', 'Music',\n",
       "       'Western', 'History', 'Documentary', 'TV Movie', 'benefice global',\n",
       "       'saison', 'casting_score_sum', 'casting_score_mean',\n",
       "       'casting_score_med', 'casting_score_min', 'casting_score_max',\n",
       "       'director_score_sum', 'director_score_mean', 'director_score_med',\n",
       "       'director_score_min', 'director_score_max', 'compagnies_score_sum',\n",
       "       'compagnies_score_mean', 'compagnies_score_med', 'compagnies_score_min',\n",
       "       'compagnies_score_max'],\n",
       "      dtype='object')"
      ]
     },
     "execution_count": 4,
     "metadata": {},
     "output_type": "execute_result"
    }
   ],
   "source": [
    "df = pd.read_csv(r\"..\\data\\dataset_new_score_v3.csv\").drop(columns=\"Unnamed: 0\")\n",
    "df.columns"
   ]
  },
  {
   "cell_type": "markdown",
   "metadata": {},
   "source": [
    "## Datasets and Scaling"
   ]
  },
  {
   "cell_type": "code",
   "execution_count": 5,
   "metadata": {},
   "outputs": [],
   "source": [
    "from sklearn.model_selection import train_test_split\n",
    "\n",
    "TEST_RATIO = 0.9\n",
    " \n",
    "X_train, X_test, Y_train, Y_test = train_test_split(df.drop(columns=[\"titre\", \"recette\", \"realisateur\", \"casting\", \"compagnies_production\", \"benefice global\"]), df[\"benefice global\"], test_size = TEST_RATIO, shuffle=True, random_state = 1)"
   ]
  },
  {
   "cell_type": "code",
   "execution_count": 6,
   "metadata": {},
   "outputs": [
    {
     "name": "stdout",
     "output_type": "stream",
     "text": [
      "Done\n"
     ]
    }
   ],
   "source": [
    "from sklearn.preprocessing import StandardScaler\n",
    "\n",
    "X_train_f = StandardScaler().fit(np.array(X_train)).transform(np.array(X_train))\n",
    "\n",
    "\n",
    "X_test_f = StandardScaler().fit(np.array(X_test)).transform(np.array(X_test))\n",
    "\n",
    "print(\"Done\")"
   ]
  },
  {
   "cell_type": "markdown",
   "metadata": {},
   "source": [
    "## Model"
   ]
  },
  {
   "cell_type": "code",
   "execution_count": 7,
   "metadata": {},
   "outputs": [
    {
     "name": "stdout",
     "output_type": "stream",
     "text": [
      "Temps exécution :  0.026971817016601562\n"
     ]
    }
   ],
   "source": [
    "from sklearn import svm\n",
    "\n",
    "start = time.time()\n",
    "regr = svm.SVR(gamma=0.01, C=10)\n",
    "regr.fit(X_train_f, Y_train)\n",
    "end = time.time()\n",
    "elapsed1 = end - start\n",
    "\n",
    "print(\"Temps exécution : \", elapsed1)"
   ]
  },
  {
   "cell_type": "code",
   "execution_count": 8,
   "metadata": {},
   "outputs": [
    {
     "name": "stdout",
     "output_type": "stream",
     "text": [
      "Temps exécution :  0.9149565696716309\n",
      "MAPE :  2429046475978963.5\n",
      "MAE :  230.42393792958546\n"
     ]
    }
   ],
   "source": [
    "from sklearn.metrics import mean_absolute_percentage_error \n",
    "from sklearn.metrics import mean_absolute_error\n",
    "\n",
    "#Get the time of execution\n",
    "start = time.time()\n",
    "\n",
    "\n",
    "score_mape = mean_absolute_percentage_error(Y_test, regr.predict(X_test_f))\n",
    "score_mae = mean_absolute_error(Y_test, regr.predict(X_test_f))\n",
    "\n",
    "\n",
    "end = time.time()\n",
    "elapsed2 = elapsed1 + end - start\n",
    "\n",
    "print(\"Temps exécution : \", elapsed2)\n",
    "print(\"MAPE : \", score_mape)\n",
    "print(\"MAE : \", score_mae)"
   ]
  },
  {
   "cell_type": "code",
   "execution_count": 9,
   "metadata": {},
   "outputs": [
    {
     "name": "stdout",
     "output_type": "stream",
     "text": [
      "246.02 MAE with a standard deviation of 86.71\n",
      "771167787537418.00 MAPE with a standard deviation of 2313503362612242.50\n"
     ]
    }
   ],
   "source": [
    "from sklearn.metrics import mean_absolute_error\n",
    "from sklearn.metrics import mean_absolute_percentage_error \n",
    "from sklearn.metrics import make_scorer\n",
    "from sklearn.model_selection import cross_val_score\n",
    "\n",
    "#Get the time of execution\n",
    "\n",
    "scorer = make_scorer(mean_absolute_error)\n",
    "score = cross_val_score(regr, X_train_f, Y_train, cv=10, scoring=scorer)\n",
    "\n",
    "\n",
    "print(\"%0.2f MAE with a standard deviation of %0.2f\" % (score.mean(), score.std()))\n",
    "\n",
    "\n",
    "\n",
    "\n",
    "scorer = make_scorer(mean_absolute_percentage_error)\n",
    "score = cross_val_score(regr, X_train_f, Y_train, cv=10, scoring=scorer)\n",
    "\n",
    "\n",
    "\n",
    "print(\"%0.2f MAPE with a standard deviation of %0.2f\" % (score.mean(), score.std()))\n"
   ]
  },
  {
   "attachments": {},
   "cell_type": "markdown",
   "metadata": {},
   "source": [
    "### GridSearch"
   ]
  },
  {
   "cell_type": "code",
   "execution_count": null,
   "metadata": {},
   "outputs": [],
   "source": [
    "from sklearn.model_selection import GridSearchCV\n",
    "\n",
    "C = [0.1,0.5,1,2,3]\n",
    "gamma = [0.1, 0.2,0.3]\n",
    "\n",
    "params_grid = {'C': C, 'gamma': gamma}\n",
    "\n",
    "rf_clf = svm.SVR()\n",
    "\n",
    "rf_cv = GridSearchCV(rf_clf, params_grid, scoring=\"neg_mean_absolute_error\", cv=10)\n",
    "rf_cv.fit(X_train, Y_train)\n",
    "\n",
    "\n",
    "print('GridSearch CV best score : {:.4f}\\n\\n'.format(rf_cv.best_score_))\n",
    "\n",
    "# print parameters that give the best results\n",
    "print('Parameters that give the best results :','\\n\\n', (rf_cv.best_params_))\n",
    "\n",
    "# print estimator that was chosen by the GridSearch\n",
    "print('\\n\\nEstimator that was chosen by the search :','\\n\\n', (rf_cv.best_estimator_))"
   ]
  }
 ],
 "metadata": {
  "kernelspec": {
   "display_name": "Python 3.9.7 ('base')",
   "language": "python",
   "name": "python3"
  },
  "language_info": {
   "codemirror_mode": {
    "name": "ipython",
    "version": 3
   },
   "file_extension": ".py",
   "mimetype": "text/x-python",
   "name": "python",
   "nbconvert_exporter": "python",
   "pygments_lexer": "ipython3",
   "version": "3.9.7 (default, Sep 16 2021, 16:59:28) [MSC v.1916 64 bit (AMD64)]"
  },
  "orig_nbformat": 4,
  "vscode": {
   "interpreter": {
    "hash": "fc0a915e5fff88658cabdf6b5db03c516d85c73603b294f779065857f3811826"
   }
  }
 },
 "nbformat": 4,
 "nbformat_minor": 2
}
