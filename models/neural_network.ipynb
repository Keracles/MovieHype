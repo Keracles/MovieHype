{
 "cells": [
  {
   "cell_type": "markdown",
   "metadata": {},
   "source": [
    "# Regression using neural network"
   ]
  },
  {
   "cell_type": "markdown",
   "metadata": {},
   "source": [
    "## 1. Useful import"
   ]
  },
  {
   "cell_type": "code",
   "execution_count": 33,
   "metadata": {},
   "outputs": [],
   "source": [
    "import torch\n",
    "from torch import nn\n",
    "from torch.utils.data import DataLoader\n",
    "from sklearn.preprocessing import StandardScaler\n",
    "from sklearn.model_selection import train_test_split\n",
    "import pandas as pd\n",
    "import numpy as np\n",
    "import matplotlib.pyplot as plt"
   ]
  },
  {
   "cell_type": "markdown",
   "metadata": {},
   "source": [
    "## 2. Import dataset // Training set"
   ]
  },
  {
   "cell_type": "code",
   "execution_count": 3,
   "metadata": {},
   "outputs": [],
   "source": [
    "df = pd.read_csv(r\"C:\\Users\\Khéo\\OneDrive\\IMT\\A2\\Ue-Journey\\Projet\\Code\\MovieHype\\data\\arrange.csv\")\n",
    "df = df.drop(columns = [\"compagnies_production\", \"realisateur\", \"casting\", \"Mystery\", \"Unnamed: 0\"])\n",
    "\n",
    "#Date\n",
    "df['date'] = df['date'].fillna('pas de date')\n",
    "index_names = df[(df['date'] == 'pas de date')].index\n",
    "df = df.drop(index=index_names)\n",
    "df [\"date\"] = pd.to_datetime(df[\"date\"])\n",
    "df[\"year\"] = df[\"date\"].dt.year\n",
    "df[\"month\"] = df[\"date\"].dt.month\n",
    "df[\"day\"] = df[\"date\"].dt.day\n",
    "\n",
    "\n",
    "#Import well\n",
    "df = df.reindex(columns=[\"titre\",\"year\", \"month\", \"day\", \"date\", \"duree\", \"budget\", \"recette\", \"casting_score\", \"realisateur_score\", \"compagny_score\", \"suite\", \"Action\", \"Adventure\", \"Animation\", \"Comedy\", \"Crime\", \"Documentary\", \"Drama\", \"Family\", \"Fantasy\", \"History\", \"Horror\", \"Music\", \"Romance\", \"Science Fiction\", \"TV Movie\", \"Thriller\", \"War\", \"Western\"])\n"
   ]
  },
  {
   "cell_type": "code",
   "execution_count": 4,
   "metadata": {},
   "outputs": [
    {
     "name": "stdout",
     "output_type": "stream",
     "text": [
      "X_train (3303, 27)\n",
      "Y_train (368, 27)\n",
      "X_test (3303,)\n",
      "Y_test (368,)\n"
     ]
    }
   ],
   "source": [
    "\"\"\"\n",
    "    Constant indicating the proportion of the dataset to use as training set.\n",
    "\"\"\"\n",
    "\n",
    "TRAINING_SET_RATIO = 0.9\n",
    "\n",
    "#Training datatset\n",
    "bins = 15\n",
    "\n",
    "recette_price_bins = pd.qcut(df['recette'], q=bins, labels=list(range(bins)))\n",
    "\n",
    "X_train, X_test, Y_train, Y_test = train_test_split(df.drop(columns=['titre','recette', \"date\"]), df['recette'], train_size=TRAINING_SET_RATIO, random_state=12, stratify=recette_price_bins)\n",
    "\n",
    "# Info\n",
    "print(\"X_train\", X_train.shape)\n",
    "print(\"Y_train\", X_test.shape)\n",
    "print(\"X_test\", Y_train.shape)\n",
    "print(\"Y_test\", Y_test.shape)"
   ]
  },
  {
   "cell_type": "markdown",
   "metadata": {},
   "source": [
    "## 3. Setup for pytorch"
   ]
  },
  {
   "cell_type": "markdown",
   "metadata": {},
   "source": [
    "### Neural network architeccture"
   ]
  },
  {
   "cell_type": "code",
   "execution_count": 43,
   "metadata": {},
   "outputs": [],
   "source": [
    "class MLP(nn.Module):\n",
    "  '''\n",
    "    Multilayer Perceptron for regression.\n",
    "  '''\n",
    "  def __init__(self):\n",
    "    super().__init__()\n",
    "    self.layers = nn.Sequential(\n",
    "      nn.Linear(27, 64),\n",
    "      nn.ReLU(),\n",
    "      nn.Linear(64, 32),\n",
    "      nn.ReLU(),\n",
    "      nn.Linear(32, 32),\n",
    "      nn.ReLU(),\n",
    "      nn.Linear(32, 32),\n",
    "      nn.ReLU(),\n",
    "      nn.Linear(32, 1)\n",
    "    )\n",
    "\n",
    "\n",
    "  def forward(self, x):\n",
    "    '''\n",
    "      Forward pass\n",
    "    '''\n",
    "    return self.layers(x)"
   ]
  },
  {
   "cell_type": "code",
   "execution_count": null,
   "metadata": {},
   "outputs": [],
   "source": [
    "import torch.nn as nn\n",
    "\n",
    "class Net2(nn.Module): \n",
    "\n",
    "    def __init__(self):\n",
    "        super(Net2,self).__init__()\n",
    "        self.conv1 = nn.Conv2d(in_channels=1, out_channels=32, kernel_size=2) # kernel_size taille du coté de la fenetre, in_channels epaisseur de l'image, out_channels nombre de filtres obtenus\n",
    "        self.relu1 = nn.ReLU()\n",
    "        self.conv2 = nn.Conv2d(in_channels=32, out_channels=32, kernel_size=2)\n",
    "        self.relu2 = nn.ReLU()\n",
    "        self.maxpl1 = nn.MaxPool2d(kernel_size=2) # kernel_size pour dire par combien on divise\n",
    "        self.conv3 = nn.Conv2d(in_channels=32, out_channels=32, kernel_size=2) # kernel_size taille du coté de la fenetre, in_channels epaisseur de l'image, out_channels nombre de filtres obtenus\n",
    "        self.relu3 = nn.ReLU()\n",
    "        self.conv4 = nn.Conv2d(in_channels=32, out_channels=32, kernel_size=2)\n",
    "        self.relu4 = nn.ReLU()\n",
    "        self.maxpl2 = nn.MaxPool2d(kernel_size=2) # kernel_size pour dire par combien on divise\n",
    "        self.fc1 = nn.Linear(32*4*4, 10)\n",
    "        self.drop1 = nn.Dropout(0.3)\n",
    "        self.drop2 = nn.Dropout(0.3)\n",
    "        \n",
    "    def forward(self,x):\n",
    "      x = self.relu1(self.conv1(x))\n",
    "      x = self.relu2(self.conv2(x))\n",
    "      x = self.maxpl1(x)\n",
    "      x = self.drop1(x)\n",
    "      x = self.relu3(self.conv3(x))\n",
    "      x = self.relu4(self.conv4(x))\n",
    "      x = self.maxpl2(x)\n",
    "      x = x.view(x.size(0), -1)\n",
    "      x = self.fc1(self.drop2(x))     \n",
    "      return x"
   ]
  },
  {
   "cell_type": "markdown",
   "metadata": {},
   "source": [
    "## 4. Instanciating the model"
   ]
  },
  {
   "cell_type": "markdown",
   "metadata": {},
   "source": [
    "### Device setup"
   ]
  },
  {
   "cell_type": "code",
   "execution_count": 5,
   "metadata": {},
   "outputs": [
    {
     "name": "stdout",
     "output_type": "stream",
     "text": [
      "False\n"
     ]
    }
   ],
   "source": [
    "# Check if GPU is available\n",
    "is_cuda = torch.cuda.is_available()\n",
    "\n",
    "# Select it as default, or CPU otherwise\n",
    "print(is_cuda)\n",
    "if is_cuda:\n",
    "    device = torch.device(\"cuda\")\n",
    "else:\n",
    "    device = torch.device(\"cpu\")"
   ]
  },
  {
   "cell_type": "markdown",
   "metadata": {},
   "source": [
    "### Scaling Data"
   ]
  },
  {
   "cell_type": "code",
   "execution_count": 44,
   "metadata": {},
   "outputs": [
    {
     "name": "stdout",
     "output_type": "stream",
     "text": [
      "Done\n"
     ]
    }
   ],
   "source": [
    "X_train_f = StandardScaler().fit(X_train).transform(X_train)\n",
    "Y_train_f = StandardScaler().fit(Y_train.values.reshape(-1,1)).transform(Y_train.values.reshape(-1,1))\n",
    "\n",
    "X_test_f = StandardScaler().fit(X_test).transform(X_test)\n",
    "Y_test_f = StandardScaler().fit(Y_test.values.reshape(-1,1)).transform(Y_test.values.reshape(-1,1))\n",
    "\n",
    "print(\"Done\")"
   ]
  },
  {
   "cell_type": "markdown",
   "metadata": {},
   "source": [
    "### Converting to tensor"
   ]
  },
  {
   "cell_type": "code",
   "execution_count": 45,
   "metadata": {},
   "outputs": [
    {
     "name": "stdout",
     "output_type": "stream",
     "text": [
      "Done\n"
     ]
    }
   ],
   "source": [
    "from torch.autograd import Variable \n",
    "\n",
    "X_train_t = Variable(torch.FloatTensor(X_train_f))\n",
    "Y_train_t = Variable(torch.FloatTensor(Y_train_f))\n",
    "\n",
    "X_test_t = Variable(torch.FloatTensor(X_test_f))\n",
    "Y_test_t = Variable(torch.FloatTensor(Y_test_f))\n",
    "\n",
    "print(\"Done\")"
   ]
  },
  {
   "cell_type": "markdown",
   "metadata": {},
   "source": [
    "### Dataset setup"
   ]
  },
  {
   "cell_type": "code",
   "execution_count": 46,
   "metadata": {},
   "outputs": [],
   "source": [
    "databatch_train = torch.utils.data.TensorDataset(X_train_t, Y_train_t)\n",
    "databatch_test = torch.utils.data.TensorDataset(X_train_t, Y_train_t)\n",
    "trainloader_train = torch.utils.data.DataLoader(databatch_train, batch_size=10, shuffle=True, num_workers=0)\n",
    "trainloader_test = torch.utils.data.DataLoader(databatch_test, batch_size=10, shuffle=True, num_workers=0)\n"
   ]
  },
  {
   "cell_type": "markdown",
   "metadata": {},
   "source": [
    "### Model, Loss function and optimizer"
   ]
  },
  {
   "cell_type": "code",
   "execution_count": 47,
   "metadata": {},
   "outputs": [],
   "source": [
    "# Initialize the MLP\n",
    "mlp = MLP()\n",
    "\n",
    "# Define the loss function and optimizer\n",
    "loss_function = torch.nn.MSELoss()\n",
    "optimizer = torch.optim.Adam(mlp.parameters(), lr=1e-4)"
   ]
  },
  {
   "cell_type": "markdown",
   "metadata": {},
   "source": [
    "### Training"
   ]
  },
  {
   "cell_type": "code",
   "execution_count": 48,
   "metadata": {},
   "outputs": [
    {
     "name": "stderr",
     "output_type": "stream",
     "text": [
      "c:\\ProgramData\\Anaconda3NotStupid\\lib\\site-packages\\torch\\nn\\modules\\loss.py:530: UserWarning: Using a target size (torch.Size([10, 1])) that is different to the input size (torch.Size([10, 27])). This will likely lead to incorrect results due to broadcasting. Please ensure they have the same size.\n",
      "  return F.mse_loss(input, target, reduction=self.reduction)\n",
      "c:\\ProgramData\\Anaconda3NotStupid\\lib\\site-packages\\torch\\nn\\modules\\loss.py:530: UserWarning: Using a target size (torch.Size([3, 1])) that is different to the input size (torch.Size([3, 27])). This will likely lead to incorrect results due to broadcasting. Please ensure they have the same size.\n",
      "  return F.mse_loss(input, target, reduction=self.reduction)\n"
     ]
    },
    {
     "name": "stdout",
     "output_type": "stream",
     "text": [
      "Starting epoch 100\n",
      "Starting epoch 200\n",
      "Training process has finished.\n"
     ]
    }
   ],
   "source": [
    "train_losses, test_losses = [], []\n",
    "n_epochs = 200 #Overfit\n",
    "# Run the training loop\n",
    "for epoch in range(0, n_epochs): # 10 epochs at maximum\n",
    "\n",
    "    # Print epoch\n",
    "    if (epoch+1) % 100 == 0 : \n",
    "        print(f'Starting epoch {epoch+1}')\n",
    "\n",
    "    # Set current loss value\n",
    "    train_loss, test_loss = 0.0, 0.0\n",
    "\n",
    "    # Iterate over the DataLoader for training data\n",
    "    for data_train, data_test in zip(trainloader_train, trainloader_test):\n",
    "        \n",
    "        # Get and prepare inputs\n",
    "        inputs, targets =  data_train\n",
    "        inputs_test, targets_test =  data_test\n",
    "        \n",
    "        # Zero the gradients\n",
    "        optimizer.zero_grad()\n",
    "        \n",
    "        # Perform forward pass\n",
    "        outputs = mlp(inputs)\n",
    "        \n",
    "        # Compute loss\n",
    "        loss = loss_function(outputs, targets)\n",
    "        \n",
    "        # Perform backward pass\n",
    "        loss.backward()\n",
    "        \n",
    "        # Perform optimization\n",
    "        optimizer.step()\n",
    "        \n",
    "        # Loss\n",
    "        train_loss += loss.item()\n",
    "        \n",
    "        with torch.no_grad():\n",
    "            mlp.eval()\n",
    "            pred_ytest = mlp.forward(inputs_test)\n",
    "            test_loss += loss_function(inputs_test, targets_test).item()\n",
    "\n",
    "        train_losses.append(train_loss / len(trainloader_train))\n",
    "        test_losses.append(test_loss / len(trainloader_test))\n",
    "        \n",
    "# Process is complete.\n",
    "print('Training process has finished.')"
   ]
  },
  {
   "cell_type": "code",
   "execution_count": 49,
   "metadata": {},
   "outputs": [
    {
     "data": {
      "text/plain": [
       "Text(0, 0.5, 'MSE')"
      ]
     },
     "execution_count": 49,
     "metadata": {},
     "output_type": "execute_result"
    },
    {
     "data": {
      "image/png": "[encoded data removed]",
      "text/plain": [
       "<Figure size 432x288 with 1 Axes>"
      ]
     },
     "metadata": {
      "needs_background": "light"
     },
     "output_type": "display_data"
    }
   ],
   "source": [
    "plt.plot(\n",
    "    np.array(train_losses).reshape((n_epochs, -1)).mean(axis=1),\n",
    "    label='Training loss'\n",
    ")\n",
    "plt.plot(\n",
    "    np.array(test_losses).reshape((n_epochs, -1)).mean(axis=1),\n",
    "    label='Validation loss'\n",
    ")\n",
    "plt.legend(frameon=False)\n",
    "plt.xlabel('epochs')\n",
    "plt.ylabel('MSE')"
   ]
  }
 ],
 "metadata": {
  "kernelspec": {
   "display_name": "Python 3.9.7 ('base')",
   "language": "python",
   "name": "python3"
  },
  "language_info": {
   "codemirror_mode": {
    "name": "ipython",
    "version": 3
   },
   "file_extension": ".py",
   "mimetype": "text/x-python",
   "name": "python",
   "nbconvert_exporter": "python",
   "pygments_lexer": "ipython3",
   "version": "3.9.7"
  },
  "orig_nbformat": 4,
  "vscode": {
   "interpreter": {
    "hash": "fc0a915e5fff88658cabdf6b5db03c516d85c73603b294f779065857f3811826"
   }
  }
 },
 "nbformat": 4,
 "nbformat_minor": 2
}
