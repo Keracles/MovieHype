{
 "cells": [
  {
   "cell_type": "code",
   "execution_count": 2,
   "metadata": {},
   "outputs": [],
   "source": [
    "import requests\n",
    "import pandas as pd \n",
    "import numpy as np\n",
    "import json\n",
    "import time\n",
    "\n",
    "api_key = \"6df661d9964de19e4ca7721d9cce69a6\"\n",
    "url_api = \"https://api.themoviedb.org/3\""
   ]
  },
  {
   "cell_type": "code",
   "execution_count": 3,
   "metadata": {},
   "outputs": [],
   "source": [
    "def get(string):\n",
    "    return requests.get(url_api + string + \"?api_key=\" + api_key)\n",
    "\n",
    "def get_movie_id(id):\n",
    "    return get(f\"/movie/{id}\")\n",
    "\n",
    "def get_casting_id(id):\n",
    "    return get(f\"/movie/{id}/credits\")\n",
    "\n",
    "def search_movie(name):\n",
    "    return requests.get(url_api + \"/search/movie\" + \"?api_key=\" + api_key + \"&query=\" + name)\n",
    "\n",
    "\n",
    "def get_collections(id):\n",
    "    return get(f\"/collection/{id}\")\n",
    "\n",
    "#print(get_collections(531241).text)\n",
    "#print(get_movie_id(634649).text)\n",
    "#print(search_movie(\"Spider-Man\"))\n",
    "\n"
   ]
  },
  {
   "cell_type": "code",
   "execution_count": 5,
   "metadata": {},
   "outputs": [
    {
     "name": "stderr",
     "output_type": "stream",
     "text": [
      "C:\\Users\\kerac\\AppData\\Local\\Temp\\ipykernel_13696\\755748901.py:107: VisibleDeprecationWarning: Creating an ndarray from ragged nested sequences (which is a list-or-tuple of lists-or-tuples-or ndarrays with different lengths or shapes) is deprecated. If you meant to do this, you must specify 'dtype=object' when creating the ndarray.\n",
      "  df = pd.DataFrame(np.array(array),columns=columns)\n"
     ]
    }
   ],
   "source": [
    "# Construction de la database\n",
    "\n",
    "columns = ['date', 'titre', 'budget', 'recette', 'duree', 'genres', 'synopsis', 'tagline', 'realisateur', 'casting', 'compagnies_production', 'suite', 'production_countries', 'langues', 'imdb_id', 'vote_average', 'vote_count', 'status' ]\n",
    "\n",
    "def build_base(start, end):\n",
    "    array = []\n",
    "    \n",
    "    for id in range(start, end):\n",
    "        response = get_movie_id(id)\n",
    "        \n",
    "        if response.status_code == requests.codes.OK :\n",
    "            dict = json.loads(response.text)\n",
    "            features = []\n",
    "            if dict[\"budget\"] != 0 or dict[\"revenue\"] != 0:\n",
    "                #On ajoute les features\n",
    "                features.append(dict[\"release_date\"])\n",
    "                features.append(dict[\"original_title\"])\n",
    "                features.append(dict[\"budget\"])\n",
    "                features.append(dict[\"revenue\"])\n",
    "                \n",
    "\n",
    "                features.append(dict[\"runtime\"])\n",
    "\n",
    "                genres = []\n",
    "                for ele in dict[\"genres\"]:\n",
    "                    genres.append(ele['name'])\n",
    "\n",
    "                features.append(genres)\n",
    "                features.append(dict['overview'])\n",
    "                features.append(dict[\"tagline\"])\n",
    "\n",
    "\n",
    "                #Casting, réalisateur\n",
    "                response = get_casting_id(id)\n",
    "                cast = []\n",
    "                realisateur = []\n",
    "                if response.status_code == requests.codes.OK :\n",
    "                    dict_casting = json.loads(response.text)\n",
    "                    for ele in dict_casting[\"cast\"]:\n",
    "                        if ele[\"known_for_department\"] == \"Acting\":\n",
    "                            cast.append(ele[\"name\"])\n",
    "                    \n",
    "                    for ele in dict_casting[\"crew\"]:\n",
    "                        if ele[\"known_for_department\"] == \"Directing\":\n",
    "                            if \"job\" in ele.keys():\n",
    "                                if ele[\"job\"] == \"Director\":\n",
    "                                    realisateur.append(ele[\"name\"])\n",
    "                features.append(realisateur)\n",
    "                features.append(cast)\n",
    "\n",
    "\n",
    "                #Compagnies_production\n",
    "                compagnies_production = []\n",
    "                for ele in dict[\"production_companies\"]:\n",
    "                    compagnies_production.append(ele[\"name\"])\n",
    "                features.append(compagnies_production)\n",
    "\n",
    "\n",
    "                #Suite\n",
    "                if dict[\"belongs_to_collection\"] != None:\n",
    "                    response = get_collections(dict[\"belongs_to_collection\"][\"id\"])\n",
    "                    if response.status_code == requests.codes.OK :\n",
    "                        dict_collection = json.loads(response.text)\n",
    "                        k = 1\n",
    "                        for ele in dict_collection[\"parts\"]:\n",
    "                            if ele[\"original_title\"] == dict[\"original_title\"]:\n",
    "                                features.append(k)\n",
    "                                break\n",
    "                            k += 1\n",
    "                else : \n",
    "                    features.append(1)\n",
    "                #Production_countries\n",
    "                production_countries = []\n",
    "                for ele in dict['production_countries']:\n",
    "                    production_countries.append(ele[\"iso_3166_1\"])\n",
    "                \n",
    "                features.append(production_countries)\n",
    "\n",
    "\n",
    "                #Langues\n",
    "                langues = []\n",
    "                for ele in dict[\"spoken_languages\"]:\n",
    "                    langues.append(ele[\"iso_639_1\"])\n",
    "                \n",
    "                features.append(langues)\n",
    "\n",
    "                #imdb_id\n",
    "\n",
    "                features.append(dict[\"imdb_id\"])\n",
    "\n",
    "                #vote_average\n",
    "                features.append(dict[\"vote_average\"])\n",
    "\n",
    "                #vote_count\n",
    "                features.append(dict[\"vote_count\"])\n",
    "\n",
    "                #status\n",
    "                features.append(dict[\"status\"])\n",
    "\n",
    "\n",
    "\n",
    "                #Ajout ligne\n",
    "                array.append(features)\n",
    "\n",
    "\n",
    "\n",
    "    df = pd.DataFrame(np.array(array),columns=columns)\n",
    "    df.to_csv(f\"csv/{start}_{end}.csv\")\n",
    "\n",
    "    return \n",
    "build_base(1,100)"
   ]
  },
  {
   "cell_type": "code",
   "execution_count": 22,
   "metadata": {},
   "outputs": [],
   "source": [
    "#Construction\n",
    "\n",
    "def build_all_base(debut):\n",
    "    for k in range(debut,1000000, 1000):\n",
    "        if k==1:\n",
    "            build_base(1, 1000)\n",
    "        else: \n",
    "            build_base(k, k+1000)\n",
    "        time.sleep(600)"
   ]
  },
  {
   "cell_type": "code",
   "execution_count": 23,
   "metadata": {},
   "outputs": [
    {
     "name": "stderr",
     "output_type": "stream",
     "text": [
      "C:\\Users\\kerac\\AppData\\Local\\Temp\\ipykernel_4124\\472915361.py:107: VisibleDeprecationWarning: Creating an ndarray from ragged nested sequences (which is a list-or-tuple of lists-or-tuples-or ndarrays with different lengths or shapes) is deprecated. If you meant to do this, you must specify 'dtype=object' when creating the ndarray.\n",
      "  df = pd.DataFrame(np.array(array),columns=columns)\n"
     ]
    }
   ],
   "source": [
    "build_all_base(1)"
   ]
  }
 ],
 "metadata": {
  "kernelspec": {
   "display_name": "Python 3.10.4 64-bit",
   "language": "python",
   "name": "python3"
  },
  "language_info": {
   "codemirror_mode": {
    "name": "ipython",
    "version": 3
   },
   "file_extension": ".py",
   "mimetype": "text/x-python",
   "name": "python",
   "nbconvert_exporter": "python",
   "pygments_lexer": "ipython3",
   "version": "3.10.4"
  },
  "orig_nbformat": 4,
  "vscode": {
   "interpreter": {
    "hash": "0c14ccc5b3ff786abe9a4baafc0b7c30365212b53965231e36a0ab75826396c6"
   }
  }
 },
 "nbformat": 4,
 "nbformat_minor": 2
}
