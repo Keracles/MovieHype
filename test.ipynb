{
 "cells": [
  {
   "cell_type": "code",
   "execution_count": null,
   "metadata": {},
   "outputs": [],
   "source": [
    "import pandas as pd\n",
    "from difflib import SequenceMatcher"
   ]
  },
  {
   "cell_type": "code",
   "execution_count": null,
   "metadata": {},
   "outputs": [],
   "source": [
    "list_keys = ['genres', 'production_countries', 'realisateur', 'casting', 'compagnies_production', 'langues']\n",
    "\n",
    "def str_to_list(df, key):\n",
    "    df_new = df\n",
    "\n",
    "    for k in key: #on parcourt les clés à modifier spécifiées en argument de la fonction\n",
    "\n",
    "        for ind in range(df_new.shape[0]): #on parcourt toutes les lignes du Dataframe\n",
    "\n",
    "            string = df_new[k].iloc[ind] #on récupère la valeur à modifier pour chaque ligne\n",
    "\n",
    "            if type(string) == str : # on vérifie si c'est bien une string\n",
    "                \n",
    "                #création de la nouvelle variable de type liste qui remplacera l'ancienne\n",
    "\n",
    "                liste_finale = []\n",
    "\n",
    "                #remplissage de la variable de type liste en faisant des opérations sur la string\n",
    "\n",
    "                list_string = string[1:-1].split(',')\n",
    "                for i,j in enumerate(list_string):\n",
    "                    if i == 0:\n",
    "                        mot = j[1:-1]\n",
    "                        if mot not in liste_finale:\n",
    "                            liste_finale.append(mot)\n",
    "                    else:\n",
    "                        mot = j[2:-1]\n",
    "                        if mot not in liste_finale:\n",
    "                            liste_finale.append(mot)\n",
    "                \n",
    "                #affectation de la nouvelle valeur de type liste à l'élément modifié du Dataframe\n",
    "\n",
    "                df_new.at[ind,k] = liste_finale\n",
    "\n",
    "    return df_new"
   ]
  },
  {
   "cell_type": "code",
   "execution_count": null,
   "metadata": {},
   "outputs": [],
   "source": [
    "#Importation des datasets\n",
    "df  = pd.read_csv(\"total.csv\").drop(columns=\"Unnamed: 0\") \n",
    "df = str_to_list(df, list_keys)\n",
    "actor = pd.read_csv(\"data//actor_scrap.csv\").drop(columns=\"Unnamed: 0\")\n",
    "director = pd.read_csv(r\"data\\director_scrap.csv\").drop(columns=\"Unnamed: 0\")"
   ]
  },
  {
   "cell_type": "code",
   "execution_count": null,
   "metadata": {},
   "outputs": [],
   "source": [
    "#Contruction des notes des acteurs/réalisateur\n",
    "#Acteur\n",
    "actor[\"rating\"] = 100*actor[\"Worldwide_box_office\"]/actor['Worldwide_box_office'].max()\n",
    "actor[\"rating\"] = actor[\"rating\"].astype(int)\n",
    "\n",
    "#Réalisateur\n",
    "director[\"rating\"] = 100*director[\"Worldwide_box_office\"]/director['Worldwide_box_office'].max()\n",
    "director[\"rating\"] = director[\"rating\"].astype(int)\n"
   ]
  },
  {
   "cell_type": "code",
   "execution_count": null,
   "metadata": {},
   "outputs": [],
   "source": [
    "#Création des dictionnaires\n",
    "actor_dict = {}\n",
    "for i, row in actor.iterrows():\n",
    "    actor_dict[row.Actor_Name] = row.rating\n",
    "\n",
    "director_dict = {}\n",
    "for i, row in director.iterrows():\n",
    "   director_dict[row.Director_Name] = row.rating\n"
   ]
  },
  {
   "cell_type": "code",
   "execution_count": null,
   "metadata": {},
   "outputs": [],
   "source": [
    "def comparaison_string(str1, str2): #Renvoie la ressemblance en deux strings\n",
    "    S = SequenceMatcher(lambda x: x in \" \\t\",  str1, str2)\n",
    "    if S.ratio() > 0.8 :\n",
    "        return True\n",
    "    else :\n",
    "        return False\n",
    "\n",
    "def comparaison_dict(string, dict): #Renvoie le rating associé à un acteur\n",
    "    for name, rating in dict.items():\n",
    "        if comparaison_string(string, name):\n",
    "            return rating\n",
    "    return 0"
   ]
  },
  {
   "cell_type": "code",
   "execution_count": null,
   "metadata": {},
   "outputs": [],
   "source": [
    "for i, row in df.iterrows():\n",
    "    sum_actor = 0\n",
    "    sum_director = 0\n",
    "    for actor in row.casting:\n",
    "        sum_actor += comparaison_dict(actor, actor_dict)\n",
    "    for director in row.realisateur:\n",
    "        sum_director += comparaison_dict(director, director_dict)\n",
    "    \n",
    "    row.casting = sum_actor\n",
    "    row.realisateur = sum_director\n",
    "\n",
    "df.head()"
   ]
  }
 ],
 "metadata": {
  "kernelspec": {
   "display_name": "Python 3.10.7 ('venv': venv)",
   "language": "python",
   "name": "python3"
  },
  "language_info": {
   "codemirror_mode": {
    "name": "ipython",
    "version": 3
   },
   "file_extension": ".py",
   "mimetype": "text/x-python",
   "name": "python",
   "nbconvert_exporter": "python",
   "pygments_lexer": "ipython3",
   "version": "3.10.7"
  },
  "orig_nbformat": 4,
  "vscode": {
   "interpreter": {
    "hash": "7dcec0d3762b780a2125411d3645fa378dcc0bb88d5f6382eaf2fa36db609c76"
   }
  }
 },
 "nbformat": 4,
 "nbformat_minor": 2
}
