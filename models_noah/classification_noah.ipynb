{
 "cells": [
  {
   "cell_type": "markdown",
   "metadata": {},
   "source": [
    "### import des bibliothèques"
   ]
  },
  {
   "cell_type": "code",
   "execution_count": 40,
   "metadata": {},
   "outputs": [],
   "source": [
    "import pandas as pd\n",
    "import numpy as np\n",
    "import matplotlib.pyplot as plt\n",
    "import seaborn as sns\n",
    "import scipy"
   ]
  },
  {
   "cell_type": "markdown",
   "metadata": {},
   "source": [
    "### import du dataset"
   ]
  },
  {
   "cell_type": "code",
   "execution_count": 41,
   "metadata": {},
   "outputs": [
    {
     "data": {
      "text/html": [
       "<div>\n",
       "<style scoped>\n",
       "    .dataframe tbody tr th:only-of-type {\n",
       "        vertical-align: middle;\n",
       "    }\n",
       "\n",
       "    .dataframe tbody tr th {\n",
       "        vertical-align: top;\n",
       "    }\n",
       "\n",
       "    .dataframe thead th {\n",
       "        text-align: right;\n",
       "    }\n",
       "</style>\n",
       "<table border=\"1\" class=\"dataframe\">\n",
       "  <thead>\n",
       "    <tr style=\"text-align: right;\">\n",
       "      <th></th>\n",
       "      <th>titre</th>\n",
       "      <th>budget</th>\n",
       "      <th>recette</th>\n",
       "      <th>duree</th>\n",
       "      <th>realisateur</th>\n",
       "      <th>casting</th>\n",
       "      <th>compagnies_production</th>\n",
       "      <th>suite</th>\n",
       "      <th>Comedy</th>\n",
       "      <th>Drama</th>\n",
       "      <th>...</th>\n",
       "      <th>director_score_sum</th>\n",
       "      <th>director_score_mean</th>\n",
       "      <th>director_score_med</th>\n",
       "      <th>director_score_min</th>\n",
       "      <th>director_score_max</th>\n",
       "      <th>compagnies_score_sum</th>\n",
       "      <th>compagnies_score_mean</th>\n",
       "      <th>compagnies_score_med</th>\n",
       "      <th>compagnies_score_min</th>\n",
       "      <th>compagnies_score_max</th>\n",
       "    </tr>\n",
       "  </thead>\n",
       "  <tbody>\n",
       "    <tr>\n",
       "      <th>0</th>\n",
       "      <td>Dumb and Dumber To</td>\n",
       "      <td>40000000</td>\n",
       "      <td>169837010</td>\n",
       "      <td>110</td>\n",
       "      <td>['Bobby Farrelly', 'Peter Farrelly']</td>\n",
       "      <td>['Jim Carrey', 'Jeff Daniels', 'Laurie Holden'...</td>\n",
       "      <td>['New Line Cinema', 'Universal Pictures', 'Con...</td>\n",
       "      <td>3</td>\n",
       "      <td>1</td>\n",
       "      <td>0</td>\n",
       "      <td>...</td>\n",
       "      <td>27</td>\n",
       "      <td>13.5</td>\n",
       "      <td>13</td>\n",
       "      <td>13</td>\n",
       "      <td>14</td>\n",
       "      <td>135</td>\n",
       "      <td>33.75</td>\n",
       "      <td>18</td>\n",
       "      <td>0</td>\n",
       "      <td>99</td>\n",
       "    </tr>\n",
       "    <tr>\n",
       "      <th>1</th>\n",
       "      <td>Марс</td>\n",
       "      <td>2000000</td>\n",
       "      <td>240000</td>\n",
       "      <td>100</td>\n",
       "      <td>['Anna Melikyan']</td>\n",
       "      <td>['Nana Kiknadze', 'Artur Smolyaninov', 'Yevgen...</td>\n",
       "      <td>['Central Partnership', 'Studio SLON']</td>\n",
       "      <td>1</td>\n",
       "      <td>1</td>\n",
       "      <td>1</td>\n",
       "      <td>...</td>\n",
       "      <td>0</td>\n",
       "      <td>0.0</td>\n",
       "      <td>0</td>\n",
       "      <td>0</td>\n",
       "      <td>0</td>\n",
       "      <td>0</td>\n",
       "      <td>0.00</td>\n",
       "      <td>0</td>\n",
       "      <td>0</td>\n",
       "      <td>0</td>\n",
       "    </tr>\n",
       "    <tr>\n",
       "      <th>2</th>\n",
       "      <td>Captain America: The Winter Soldier</td>\n",
       "      <td>170000000</td>\n",
       "      <td>714766572</td>\n",
       "      <td>136</td>\n",
       "      <td>['Anthony Russo', 'Joe Russo']</td>\n",
       "      <td>['Chris Evans', 'Scarlett Johansson', 'Sebasti...</td>\n",
       "      <td>['Marvel Studios']</td>\n",
       "      <td>2</td>\n",
       "      <td>0</td>\n",
       "      <td>0</td>\n",
       "      <td>...</td>\n",
       "      <td>128</td>\n",
       "      <td>64.0</td>\n",
       "      <td>64</td>\n",
       "      <td>64</td>\n",
       "      <td>64</td>\n",
       "      <td>81</td>\n",
       "      <td>81.00</td>\n",
       "      <td>81</td>\n",
       "      <td>81</td>\n",
       "      <td>81</td>\n",
       "    </tr>\n",
       "    <tr>\n",
       "      <th>3</th>\n",
       "      <td>Тот ещё Карлосон!</td>\n",
       "      <td>4000000</td>\n",
       "      <td>9938268</td>\n",
       "      <td>80</td>\n",
       "      <td>['Sarik Andreasyan']</td>\n",
       "      <td>['Mikhail Galustyan', 'Igor Vernik', 'Mariya S...</td>\n",
       "      <td>['Enjoy Movies']</td>\n",
       "      <td>1</td>\n",
       "      <td>1</td>\n",
       "      <td>0</td>\n",
       "      <td>...</td>\n",
       "      <td>0</td>\n",
       "      <td>0.0</td>\n",
       "      <td>0</td>\n",
       "      <td>0</td>\n",
       "      <td>0</td>\n",
       "      <td>0</td>\n",
       "      <td>0.00</td>\n",
       "      <td>0</td>\n",
       "      <td>0</td>\n",
       "      <td>0</td>\n",
       "    </tr>\n",
       "    <tr>\n",
       "      <th>4</th>\n",
       "      <td>The Saint</td>\n",
       "      <td>68000000</td>\n",
       "      <td>118063304</td>\n",
       "      <td>116</td>\n",
       "      <td>['Phillip Noyce']</td>\n",
       "      <td>['Val Kilmer', 'Elisabeth Shue', 'Rade Šerbedž...</td>\n",
       "      <td>['Paramount', 'Mace Neufeld Productions', 'Rys...</td>\n",
       "      <td>1</td>\n",
       "      <td>0</td>\n",
       "      <td>0</td>\n",
       "      <td>...</td>\n",
       "      <td>11</td>\n",
       "      <td>11.0</td>\n",
       "      <td>11</td>\n",
       "      <td>11</td>\n",
       "      <td>11</td>\n",
       "      <td>9</td>\n",
       "      <td>3.00</td>\n",
       "      <td>0</td>\n",
       "      <td>0</td>\n",
       "      <td>9</td>\n",
       "    </tr>\n",
       "  </tbody>\n",
       "</table>\n",
       "<p>5 rows × 44 columns</p>\n",
       "</div>"
      ],
      "text/plain": [
       "                                 titre     budget    recette  duree  \\\n",
       "0                   Dumb and Dumber To   40000000  169837010    110   \n",
       "1                                 Марс    2000000     240000    100   \n",
       "2  Captain America: The Winter Soldier  170000000  714766572    136   \n",
       "3                    Тот ещё Карлосон!    4000000    9938268     80   \n",
       "4                            The Saint   68000000  118063304    116   \n",
       "\n",
       "                            realisateur  \\\n",
       "0  ['Bobby Farrelly', 'Peter Farrelly']   \n",
       "1                     ['Anna Melikyan']   \n",
       "2        ['Anthony Russo', 'Joe Russo']   \n",
       "3                  ['Sarik Andreasyan']   \n",
       "4                     ['Phillip Noyce']   \n",
       "\n",
       "                                             casting  \\\n",
       "0  ['Jim Carrey', 'Jeff Daniels', 'Laurie Holden'...   \n",
       "1  ['Nana Kiknadze', 'Artur Smolyaninov', 'Yevgen...   \n",
       "2  ['Chris Evans', 'Scarlett Johansson', 'Sebasti...   \n",
       "3  ['Mikhail Galustyan', 'Igor Vernik', 'Mariya S...   \n",
       "4  ['Val Kilmer', 'Elisabeth Shue', 'Rade Šerbedž...   \n",
       "\n",
       "                               compagnies_production  suite  Comedy  Drama  \\\n",
       "0  ['New Line Cinema', 'Universal Pictures', 'Con...      3       1      0   \n",
       "1             ['Central Partnership', 'Studio SLON']      1       1      1   \n",
       "2                                 ['Marvel Studios']      2       0      0   \n",
       "3                                   ['Enjoy Movies']      1       1      0   \n",
       "4  ['Paramount', 'Mace Neufeld Productions', 'Rys...      1       0      0   \n",
       "\n",
       "   ...  director_score_sum  director_score_mean  director_score_med  \\\n",
       "0  ...                  27                 13.5                  13   \n",
       "1  ...                   0                  0.0                   0   \n",
       "2  ...                 128                 64.0                  64   \n",
       "3  ...                   0                  0.0                   0   \n",
       "4  ...                  11                 11.0                  11   \n",
       "\n",
       "   director_score_min  director_score_max  compagnies_score_sum  \\\n",
       "0                  13                  14                   135   \n",
       "1                   0                   0                     0   \n",
       "2                  64                  64                    81   \n",
       "3                   0                   0                     0   \n",
       "4                  11                  11                     9   \n",
       "\n",
       "   compagnies_score_mean  compagnies_score_med  compagnies_score_min  \\\n",
       "0                  33.75                    18                     0   \n",
       "1                   0.00                     0                     0   \n",
       "2                  81.00                    81                    81   \n",
       "3                   0.00                     0                     0   \n",
       "4                   3.00                     0                     0   \n",
       "\n",
       "   compagnies_score_max  \n",
       "0                    99  \n",
       "1                     0  \n",
       "2                    81  \n",
       "3                     0  \n",
       "4                     9  \n",
       "\n",
       "[5 rows x 44 columns]"
      ]
     },
     "execution_count": 41,
     "metadata": {},
     "output_type": "execute_result"
    }
   ],
   "source": [
    "df = pd.read_csv('..\\data\\dataset_new_score_v3.csv', index_col=0)\n",
    "df.head()"
   ]
  },
  {
   "cell_type": "code",
   "execution_count": 42,
   "metadata": {},
   "outputs": [],
   "source": [
    "df['compagnies_score_mean'] = df['compagnies_score_mean'].map(int)\n",
    "df['casting_score_mean'] = df['casting_score_mean'].map(int)\n",
    "df['director_score_mean'] = df['director_score_mean'].map(int)\n",
    "df['benefice global'] = df['benefice global'].map(int)\n",
    "df.drop(columns = ['titre', 'realisateur', 'casting', 'compagnies_production', 'recette', 'budget'], inplace = True)"
   ]
  },
  {
   "cell_type": "markdown",
   "metadata": {},
   "source": [
    "### Librairies pour la prédiction"
   ]
  },
  {
   "cell_type": "code",
   "execution_count": 74,
   "metadata": {},
   "outputs": [],
   "source": [
    "from random import shuffle\n",
    "from sklearn import tree, preprocessing, svm\n",
    "from sklearn.neighbors import KNeighborsClassifier\n",
    "from sklearn.dummy import DummyClassifier\n",
    "from sklearn.metrics import precision_score, recall_score, classification_report, confusion_matrix\n",
    "from sklearn.linear_model import LogisticRegression\n",
    "from sklearn.model_selection import KFold, GridSearchCV, cross_val_score\n"
   ]
  },
  {
   "cell_type": "markdown",
   "metadata": {},
   "source": [
    "### Création de catégorie de bénéfice global"
   ]
  },
  {
   "cell_type": "code",
   "execution_count": 44,
   "metadata": {},
   "outputs": [
    {
     "data": {
      "text/plain": [
       "count     4695.000000\n",
       "mean       214.260490\n",
       "std        562.405316\n",
       "min        -98.000000\n",
       "25%        -29.000000\n",
       "50%         77.000000\n",
       "75%        259.500000\n",
       "max      12400.000000\n",
       "Name: benefice global, dtype: float64"
      ]
     },
     "execution_count": 44,
     "metadata": {},
     "output_type": "execute_result"
    }
   ],
   "source": [
    "df.describe()['benefice global']"
   ]
  },
  {
   "cell_type": "code",
   "execution_count": 45,
   "metadata": {},
   "outputs": [],
   "source": [
    "df['tranche benef'] = 0\n",
    "df.loc[df['benefice global'] >= df['benefice global'].quantile(0.25), 'tranche benef'] = 1\n",
    "df.loc[df['benefice global'] >= df['benefice global'].quantile(0.5), 'tranche benef'] = 2\n",
    "df.loc[df['benefice global'] >= df['benefice global'].quantile(0.75), 'tranche benef'] = 3"
   ]
  },
  {
   "cell_type": "code",
   "execution_count": 46,
   "metadata": {},
   "outputs": [
    {
     "data": {
      "text/plain": [
       "1    1185\n",
       "2    1178\n",
       "3    1174\n",
       "0    1158\n",
       "Name: tranche benef, dtype: int64"
      ]
     },
     "execution_count": 46,
     "metadata": {},
     "output_type": "execute_result"
    }
   ],
   "source": [
    "df['tranche benef'].value_counts()"
   ]
  },
  {
   "cell_type": "markdown",
   "metadata": {},
   "source": [
    "### creation d'un train et d'un texte"
   ]
  },
  {
   "cell_type": "code",
   "execution_count": 47,
   "metadata": {},
   "outputs": [],
   "source": [
    "X = df.drop(columns = ['tranche benef', 'benefice global'])\n",
    "Y = df['tranche benef']"
   ]
  },
  {
   "cell_type": "markdown",
   "metadata": {},
   "source": [
    "division du dataset en un train et un test"
   ]
  },
  {
   "cell_type": "code",
   "execution_count": 48,
   "metadata": {},
   "outputs": [],
   "source": [
    "\"\"\"\n",
    "    Constant indicating the proportion of the dataset to use as training set.\n",
    "\"\"\"\n",
    "\n",
    "TRAINING_SET_RATIO = 0.9"
   ]
  },
  {
   "cell_type": "code",
   "execution_count": 49,
   "metadata": {},
   "outputs": [],
   "source": [
    "ind = [i for i in range(df.shape[0])]\n",
    "shuffle(ind)\n",
    "X_train=X.iloc[ind[:int(TRAINING_SET_RATIO*df.shape[0])]]\n",
    "Y_train=Y.iloc[ind[:int(TRAINING_SET_RATIO*df.shape[0])]]\n",
    "X_test=X.iloc[ind[int(TRAINING_SET_RATIO*df.shape[0]):]]\n",
    "Y_test=Y.iloc[ind[int(TRAINING_SET_RATIO*df.shape[0]):]]"
   ]
  },
  {
   "cell_type": "markdown",
   "metadata": {},
   "source": [
    "### méthode du Decision Tree Classifier "
   ]
  },
  {
   "cell_type": "code",
   "execution_count": 50,
   "metadata": {},
   "outputs": [
    {
     "name": "stderr",
     "output_type": "stream",
     "text": [
      "No artists with labels found to put in legend.  Note that artists whose label start with an underscore are ignored when legend() is called with no argument.\n",
      "No artists with labels found to put in legend.  Note that artists whose label start with an underscore are ignored when legend() is called with no argument.\n"
     ]
    },
    {
     "data": {
      "image/png": "[encoded data removed]",
      "text/plain": [
       "<Figure size 1800x600 with 3 Axes>"
      ]
     },
     "metadata": {},
     "output_type": "display_data"
    }
   ],
   "source": [
    "train_scores_dico = {}\n",
    "test_scores_dico = {}\n",
    "criteria = [\"gini\", \"entropy\", \"log_loss\"]\n",
    "for criterion in [\"gini\", \"entropy\", \"log_loss\"]:\n",
    "    train_scores = []\n",
    "    test_scores = []\n",
    "    depths = [i for i in range(2,25)]\n",
    "    for depth in depths:\n",
    "        clf = tree.DecisionTreeClassifier(criterion = criterion , max_depth = depth, min_samples_split = 2, min_samples_leaf = 2)\n",
    "        clf = clf.fit(X_train, Y_train)\n",
    "        train_score = clf.score(X_train, Y_train)\n",
    "        train_scores.append(1 - train_score)\n",
    "        test_score = clf.score(X_test,Y_test)\n",
    "        test_scores.append(1 - test_score)\n",
    "    train_scores_dico[criterion] = train_scores\n",
    "    test_scores_dico[criterion] = test_scores\n",
    "\n",
    "fig, ax = plt.subplots(1,3, figsize = (18,6))\n",
    "for i, criterion in enumerate(criteria):\n",
    "    ax[i].set_title(f'error for {criterion} method')\n",
    "    ax[i].plot(depths, train_scores_dico[criterion], label=f\"train\")\n",
    "    ax[i].plot(depths, test_scores_dico[criterion], label=f\"test\")\n",
    "    ax[i].set_xlabel(\"depth\")\n",
    "    ax[i].set_ylabel(\"error\")\n",
    "    plt.legend()\n",
    "\n",
    "fig.tight_layout()\n",
    "plt.show()"
   ]
  },
  {
   "cell_type": "code",
   "execution_count": 51,
   "metadata": {},
   "outputs": [],
   "source": [
    "clf = tree.DecisionTreeClassifier(criterion = \"gini\", max_depth = 5, min_samples_split = 2, min_samples_leaf = 2)\n",
    "clf.fit(X_train, Y_train)\n",
    "Y_pred_test = clf.predict(X_test)"
   ]
  },
  {
   "cell_type": "code",
   "execution_count": 52,
   "metadata": {},
   "outputs": [
    {
     "data": {
      "text/plain": [
       "array([[54, 14, 10, 30],\n",
       "       [40, 22, 32, 44],\n",
       "       [24, 13, 37, 36],\n",
       "       [14, 12, 39, 49]], dtype=int64)"
      ]
     },
     "execution_count": 52,
     "metadata": {},
     "output_type": "execute_result"
    }
   ],
   "source": [
    "confusion_matrix(Y_test, Y_pred_test, labels=[0,1,2,3])"
   ]
  },
  {
   "cell_type": "code",
   "execution_count": 53,
   "metadata": {},
   "outputs": [
    {
     "name": "stdout",
     "output_type": "stream",
     "text": [
      "              precision    recall  f1-score   support\n",
      "\n",
      "           0     0.4091    0.5000    0.4500       108\n",
      "           1     0.3607    0.1594    0.2211       138\n",
      "           2     0.3136    0.3364    0.3246       110\n",
      "           3     0.3082    0.4298    0.3590       114\n",
      "\n",
      "    accuracy                         0.3447       470\n",
      "   macro avg     0.3479    0.3564    0.3387       470\n",
      "weighted avg     0.3480    0.3447    0.3314       470\n",
      "\n"
     ]
    }
   ],
   "source": [
    "print(classification_report(Y_test, Y_pred_test, digits = 4))"
   ]
  },
  {
   "cell_type": "markdown",
   "metadata": {},
   "source": [
    "### méthode KNN Classifier"
   ]
  },
  {
   "cell_type": "code",
   "execution_count": 54,
   "metadata": {},
   "outputs": [
    {
     "data": {
      "text/plain": [
       "<matplotlib.legend.Legend at 0x26c553a3af0>"
      ]
     },
     "execution_count": 54,
     "metadata": {},
     "output_type": "execute_result"
    },
    {
     "data": {
      "image/png": "[encoded data removed]",
      "text/plain": [
       "<Figure size 640x480 with 1 Axes>"
      ]
     },
     "metadata": {},
     "output_type": "display_data"
    }
   ],
   "source": [
    "n_neighbors = [n for n in range(1,10)]\n",
    "test_scores = []\n",
    "train_scores = []\n",
    "verify_scores = []\n",
    "\n",
    "for n in n_neighbors:\n",
    "    neigh = KNeighborsClassifier(n_neighbors = n)\n",
    "    neigh.fit(X_train, Y_train)\n",
    "    score_train = neigh.score(X_train, Y_train)\n",
    "    score_test = neigh.score(X_test, Y_test)\n",
    "    train_scores.append(1 - train_score)\n",
    "    test_scores.append(1 - score_test)\n",
    "\n",
    "fig, ax = plt.subplots()\n",
    "ax.plot(n_neighbors, train_scores, label=\"train\")\n",
    "ax.plot(n_neighbors, test_scores, label=\"test\")\n",
    "ax.set_xlabel(\"number of neighbors\")\n",
    "ax.set_ylabel(\"error\")\n",
    "plt.legend()"
   ]
  },
  {
   "cell_type": "code",
   "execution_count": 55,
   "metadata": {},
   "outputs": [],
   "source": [
    "neigh = KNeighborsClassifier(n_neighbors = 7)\n",
    "neigh.fit(X_train, Y_train)\n",
    "Y_pred_neigh_test = neigh.predict(X_test)"
   ]
  },
  {
   "cell_type": "code",
   "execution_count": 56,
   "metadata": {},
   "outputs": [
    {
     "data": {
      "text/plain": [
       "array([[58, 30, 11,  9],\n",
       "       [46, 35, 39, 18],\n",
       "       [32, 36, 24, 18],\n",
       "       [28, 32, 21, 33]], dtype=int64)"
      ]
     },
     "execution_count": 56,
     "metadata": {},
     "output_type": "execute_result"
    }
   ],
   "source": [
    "confusion_matrix(Y_test, Y_pred_neigh_test, labels=[0,1,2,3])"
   ]
  },
  {
   "cell_type": "code",
   "execution_count": 57,
   "metadata": {},
   "outputs": [
    {
     "name": "stdout",
     "output_type": "stream",
     "text": [
      "              precision    recall  f1-score   support\n",
      "\n",
      "           0     0.4091    0.5000    0.4500       108\n",
      "           1     0.3607    0.1594    0.2211       138\n",
      "           2     0.3136    0.3364    0.3246       110\n",
      "           3     0.3082    0.4298    0.3590       114\n",
      "\n",
      "    accuracy                         0.3447       470\n",
      "   macro avg     0.3479    0.3564    0.3387       470\n",
      "weighted avg     0.3480    0.3447    0.3314       470\n",
      "\n"
     ]
    }
   ],
   "source": [
    "print(classification_report(Y_test, Y_pred_test, digits = 4))"
   ]
  },
  {
   "cell_type": "markdown",
   "metadata": {},
   "source": [
    "### methode du Dummy Classifier"
   ]
  },
  {
   "cell_type": "code",
   "execution_count": 58,
   "metadata": {},
   "outputs": [
    {
     "name": "stdout",
     "output_type": "stream",
     "text": [
      "test_score = 0.23404255319148937\n"
     ]
    }
   ],
   "source": [
    "Dum = DummyClassifier()\n",
    "Dum.fit(X_train, Y_train)\n",
    "test_score = Dum.score(X_test, Y_test)\n",
    "print(f'test_score = {test_score}')"
   ]
  },
  {
   "cell_type": "markdown",
   "metadata": {},
   "source": [
    "### methode de la Logistic Regression"
   ]
  },
  {
   "cell_type": "markdown",
   "metadata": {},
   "source": [
    "création d'un score binaire pour les tranche de benefice globale sur df (0 : film à perte, 1 : film ayant un benefice global positif)"
   ]
  },
  {
   "cell_type": "code",
   "execution_count": 59,
   "metadata": {},
   "outputs": [
    {
     "data": {
      "text/plain": [
       "1    3122\n",
       "0    1573\n",
       "Name: tranche benef binaire, dtype: int64"
      ]
     },
     "execution_count": 59,
     "metadata": {},
     "output_type": "execute_result"
    }
   ],
   "source": [
    "df['tranche benef binaire'] = 0\n",
    "df.loc[df['benefice global'] > 0, 'tranche benef binaire'] = 1\n",
    "df['tranche benef binaire'].value_counts()"
   ]
  },
  {
   "cell_type": "code",
   "execution_count": 60,
   "metadata": {},
   "outputs": [],
   "source": [
    "X_bin = df.drop(columns = ['tranche benef', 'benefice global', 'tranche benef binaire'])\n",
    "Y_bin = df['tranche benef binaire']"
   ]
  },
  {
   "cell_type": "code",
   "execution_count": 61,
   "metadata": {},
   "outputs": [],
   "source": [
    "ind = [i for i in range(df.shape[0])]\n",
    "shuffle(ind)\n",
    "X_train_bin=X_bin.iloc[ind[:int(TRAINING_SET_RATIO*df.shape[0])]]\n",
    "Y_train_bin=Y_bin.iloc[ind[:int(TRAINING_SET_RATIO*df.shape[0])]]\n",
    "X_test_bin=X_bin.iloc[ind[int(TRAINING_SET_RATIO*df.shape[0]):]]\n",
    "Y_test_bin=Y_bin.iloc[ind[int(TRAINING_SET_RATIO*df.shape[0]):]]"
   ]
  },
  {
   "cell_type": "code",
   "execution_count": 62,
   "metadata": {},
   "outputs": [
    {
     "name": "stdout",
     "output_type": "stream",
     "text": [
      "DescribeResult(nobs=4225, minmax=(array([-2.23233655, -0.23066832, -0.72399605, -0.95395816, -0.3448317 ,\n",
      "       -0.59986051, -0.61592746, -0.46419561, -0.34095212, -0.35294118,\n",
      "       -0.35505788, -0.42368462, -0.46494873, -0.25712163, -0.3161866 ,\n",
      "       -0.19252093, -0.18167921, -0.10719842, -0.24432357, -0.100203  ,\n",
      "       -0.0266564 , -1.38865635, -0.67801062, -0.61622075, -0.06355187,\n",
      "       -0.01646476, -0.93080207, -0.50042734, -0.5065859 , -0.50658206,\n",
      "       -0.50330557, -0.50982759, -0.72548287, -0.60920434, -0.44747617,\n",
      "       -0.2322986 , -0.7299516 ]), array([10.35440837, 28.08000991,  1.38122301,  1.04826401,  2.89996544,\n",
      "        1.66705422,  1.62356782,  2.15426425,  2.93296313,  2.83333333,\n",
      "        2.81644221,  2.36024618,  2.1507748 ,  3.88920997,  3.16268939,\n",
      "        5.19424032,  5.50420715,  9.32849577,  4.09293304,  9.97974138,\n",
      "       37.51444166,  1.39019102, 27.11795357, 15.21416254, 43.39417106,\n",
      "       64.90958392,  3.25869471,  9.58532913,  7.77801028,  7.7769894 ,\n",
      "        7.7850715 ,  7.75104135,  4.8828314 ,  5.41806684,  5.86766304,\n",
      "        7.9901518 ,  2.3078518 ])), mean=array([-3.27942801e-17,  6.22250443e-17,  1.34540636e-17,  1.00064598e-16,\n",
      "        2.52263693e-17, -3.61577960e-17,  2.52263693e-18,  9.24966875e-18,\n",
      "        8.74514136e-17, -3.11125222e-17, -8.91331716e-17,  4.37257068e-17,\n",
      "       -9.24966875e-18, -8.24061398e-17, -5.04527386e-18,  2.69081273e-17,\n",
      "       -2.85898852e-17, -9.24966875e-18,  7.73608659e-17, -2.69081273e-17,\n",
      "       -2.52263693e-18, -2.01810955e-17, -4.37257068e-17,  1.26131847e-17,\n",
      "        5.88615284e-18, -5.04527386e-18,  1.93402165e-17,  2.35446114e-17,\n",
      "       -1.51358216e-17, -1.00905477e-17,  1.17723057e-17, -1.17723057e-17,\n",
      "       -1.93402165e-17,  2.12321942e-17,  4.20439489e-18, -1.68175795e-18,\n",
      "       -1.97606560e-17]), variance=array([1., 1., 1., 1., 1., 1., 1., 1., 1., 1., 1., 1., 1., 1., 1., 1., 1.,\n",
      "       1., 1., 1., 1., 1., 1., 1., 1., 1., 1., 1., 1., 1., 1., 1., 1., 1.,\n",
      "       1., 1., 1.]), skewness=array([1.48833190e+00, 1.23363194e+01, 6.57226968e-01, 9.43058487e-02,\n",
      "       2.55513374e+00, 1.06719370e+00, 1.00764036e+00, 1.69006865e+00,\n",
      "       2.59201101e+00, 2.48039216e+00, 2.46138433e+00, 1.93656157e+00,\n",
      "       1.68582607e+00, 3.63208834e+00, 2.84650279e+00, 5.00171938e+00,\n",
      "       5.32252794e+00, 9.22129735e+00, 3.84860947e+00, 9.87953839e+00,\n",
      "       3.74877853e+01, 7.78060344e-03, 9.32296433e+00, 3.94030268e+00,\n",
      "       2.71944599e+01, 6.47349014e+01, 1.29115175e+00, 4.18297076e+00,\n",
      "       3.95855474e+00, 3.95703206e+00, 3.97115604e+00, 3.92432513e+00,\n",
      "       1.49053338e+00, 2.51901582e+00, 3.26863147e+00, 5.96439074e+00,\n",
      "       1.37604350e+00]), kurtosis=array([ 5.63299048e+00,  2.44118539e+02, -1.56805271e+00, -1.99110641e+00,\n",
      "        4.52870845e+00, -8.61097597e-01, -9.84660905e-01,  8.56332033e-01,\n",
      "        4.71852108e+00,  4.15234525e+00,  4.05841282e+00,  1.75027071e+00,\n",
      "        8.42009541e-01,  1.11920657e+01,  6.10257813e+00,  2.30171968e+01,\n",
      "        2.63293036e+01,  8.30323248e+01,  1.28117948e+01,  9.56052787e+01,\n",
      "        1.40333404e+03, -1.26907189e+00,  2.08789424e+02,  3.39794109e+01,\n",
      "        9.63639280e+02,  4.19855413e+03,  1.23725541e+00,  2.46594864e+01,\n",
      "        2.15050439e+01,  2.14921445e+01,  2.16008595e+01,  2.11848699e+01,\n",
      "        1.33108535e+00,  7.65057099e+00,  1.19553207e+01,  3.85960100e+01,\n",
      "        4.85767073e-01]))\n"
     ]
    }
   ],
   "source": [
    "stds = preprocessing.StandardScaler()\n",
    "\n",
    "Z_train = stds.fit_transform(X_train_bin)\n",
    "\n",
    "print(scipy.stats.describe(Z_train, axis=0, ddof=0))"
   ]
  },
  {
   "cell_type": "code",
   "execution_count": 66,
   "metadata": {},
   "outputs": [
    {
     "name": "stderr",
     "output_type": "stream",
     "text": [
      "c:\\School_projects\\DaSci_project\\MovieHype\\venv\\lib\\site-packages\\sklearn\\linear_model\\_logistic.py:444: ConvergenceWarning: lbfgs failed to converge (status=1):\n",
      "STOP: TOTAL NO. of ITERATIONS REACHED LIMIT.\n",
      "\n",
      "Increase the number of iterations (max_iter) or scale the data as shown in:\n",
      "    https://scikit-learn.org/stable/modules/preprocessing.html\n",
      "Please also refer to the documentation for alternative solver options:\n",
      "    https://scikit-learn.org/stable/modules/linear_model.html#logistic-regression\n",
      "  n_iter_i = _check_optimize_result(\n",
      "c:\\School_projects\\DaSci_project\\MovieHype\\venv\\lib\\site-packages\\sklearn\\linear_model\\_logistic.py:444: ConvergenceWarning: lbfgs failed to converge (status=1):\n",
      "STOP: TOTAL NO. of ITERATIONS REACHED LIMIT.\n",
      "\n",
      "Increase the number of iterations (max_iter) or scale the data as shown in:\n",
      "    https://scikit-learn.org/stable/modules/preprocessing.html\n",
      "Please also refer to the documentation for alternative solver options:\n",
      "    https://scikit-learn.org/stable/modules/linear_model.html#logistic-regression\n",
      "  n_iter_i = _check_optimize_result(\n",
      "c:\\School_projects\\DaSci_project\\MovieHype\\venv\\lib\\site-packages\\sklearn\\linear_model\\_logistic.py:444: ConvergenceWarning: lbfgs failed to converge (status=1):\n",
      "STOP: TOTAL NO. of ITERATIONS REACHED LIMIT.\n",
      "\n",
      "Increase the number of iterations (max_iter) or scale the data as shown in:\n",
      "    https://scikit-learn.org/stable/modules/preprocessing.html\n",
      "Please also refer to the documentation for alternative solver options:\n",
      "    https://scikit-learn.org/stable/modules/linear_model.html#logistic-regression\n",
      "  n_iter_i = _check_optimize_result(\n",
      "c:\\School_projects\\DaSci_project\\MovieHype\\venv\\lib\\site-packages\\sklearn\\linear_model\\_logistic.py:444: ConvergenceWarning: lbfgs failed to converge (status=1):\n",
      "STOP: TOTAL NO. of ITERATIONS REACHED LIMIT.\n",
      "\n",
      "Increase the number of iterations (max_iter) or scale the data as shown in:\n",
      "    https://scikit-learn.org/stable/modules/preprocessing.html\n",
      "Please also refer to the documentation for alternative solver options:\n",
      "    https://scikit-learn.org/stable/modules/linear_model.html#logistic-regression\n",
      "  n_iter_i = _check_optimize_result(\n",
      "c:\\School_projects\\DaSci_project\\MovieHype\\venv\\lib\\site-packages\\sklearn\\linear_model\\_logistic.py:444: ConvergenceWarning: lbfgs failed to converge (status=1):\n",
      "STOP: TOTAL NO. of ITERATIONS REACHED LIMIT.\n",
      "\n",
      "Increase the number of iterations (max_iter) or scale the data as shown in:\n",
      "    https://scikit-learn.org/stable/modules/preprocessing.html\n",
      "Please also refer to the documentation for alternative solver options:\n",
      "    https://scikit-learn.org/stable/modules/linear_model.html#logistic-regression\n",
      "  n_iter_i = _check_optimize_result(\n",
      "c:\\School_projects\\DaSci_project\\MovieHype\\venv\\lib\\site-packages\\sklearn\\linear_model\\_logistic.py:444: ConvergenceWarning: lbfgs failed to converge (status=1):\n",
      "STOP: TOTAL NO. of ITERATIONS REACHED LIMIT.\n",
      "\n",
      "Increase the number of iterations (max_iter) or scale the data as shown in:\n",
      "    https://scikit-learn.org/stable/modules/preprocessing.html\n",
      "Please also refer to the documentation for alternative solver options:\n",
      "    https://scikit-learn.org/stable/modules/linear_model.html#logistic-regression\n",
      "  n_iter_i = _check_optimize_result(\n",
      "c:\\School_projects\\DaSci_project\\MovieHype\\venv\\lib\\site-packages\\sklearn\\linear_model\\_logistic.py:444: ConvergenceWarning: lbfgs failed to converge (status=1):\n",
      "STOP: TOTAL NO. of ITERATIONS REACHED LIMIT.\n",
      "\n",
      "Increase the number of iterations (max_iter) or scale the data as shown in:\n",
      "    https://scikit-learn.org/stable/modules/preprocessing.html\n",
      "Please also refer to the documentation for alternative solver options:\n",
      "    https://scikit-learn.org/stable/modules/linear_model.html#logistic-regression\n",
      "  n_iter_i = _check_optimize_result(\n",
      "c:\\School_projects\\DaSci_project\\MovieHype\\venv\\lib\\site-packages\\sklearn\\linear_model\\_logistic.py:444: ConvergenceWarning: lbfgs failed to converge (status=1):\n",
      "STOP: TOTAL NO. of ITERATIONS REACHED LIMIT.\n",
      "\n",
      "Increase the number of iterations (max_iter) or scale the data as shown in:\n",
      "    https://scikit-learn.org/stable/modules/preprocessing.html\n",
      "Please also refer to the documentation for alternative solver options:\n",
      "    https://scikit-learn.org/stable/modules/linear_model.html#logistic-regression\n",
      "  n_iter_i = _check_optimize_result(\n",
      "c:\\School_projects\\DaSci_project\\MovieHype\\venv\\lib\\site-packages\\sklearn\\linear_model\\_logistic.py:444: ConvergenceWarning: lbfgs failed to converge (status=1):\n",
      "STOP: TOTAL NO. of ITERATIONS REACHED LIMIT.\n",
      "\n",
      "Increase the number of iterations (max_iter) or scale the data as shown in:\n",
      "    https://scikit-learn.org/stable/modules/preprocessing.html\n",
      "Please also refer to the documentation for alternative solver options:\n",
      "    https://scikit-learn.org/stable/modules/linear_model.html#logistic-regression\n",
      "  n_iter_i = _check_optimize_result(\n",
      "c:\\School_projects\\DaSci_project\\MovieHype\\venv\\lib\\site-packages\\sklearn\\linear_model\\_logistic.py:444: ConvergenceWarning: lbfgs failed to converge (status=1):\n",
      "STOP: TOTAL NO. of ITERATIONS REACHED LIMIT.\n",
      "\n",
      "Increase the number of iterations (max_iter) or scale the data as shown in:\n",
      "    https://scikit-learn.org/stable/modules/preprocessing.html\n",
      "Please also refer to the documentation for alternative solver options:\n",
      "    https://scikit-learn.org/stable/modules/linear_model.html#logistic-regression\n",
      "  n_iter_i = _check_optimize_result(\n",
      "c:\\School_projects\\DaSci_project\\MovieHype\\venv\\lib\\site-packages\\sklearn\\linear_model\\_logistic.py:444: ConvergenceWarning: lbfgs failed to converge (status=1):\n",
      "STOP: TOTAL NO. of ITERATIONS REACHED LIMIT.\n",
      "\n",
      "Increase the number of iterations (max_iter) or scale the data as shown in:\n",
      "    https://scikit-learn.org/stable/modules/preprocessing.html\n",
      "Please also refer to the documentation for alternative solver options:\n",
      "    https://scikit-learn.org/stable/modules/linear_model.html#logistic-regression\n",
      "  n_iter_i = _check_optimize_result(\n",
      "c:\\School_projects\\DaSci_project\\MovieHype\\venv\\lib\\site-packages\\sklearn\\linear_model\\_logistic.py:444: ConvergenceWarning: lbfgs failed to converge (status=1):\n",
      "STOP: TOTAL NO. of ITERATIONS REACHED LIMIT.\n",
      "\n",
      "Increase the number of iterations (max_iter) or scale the data as shown in:\n",
      "    https://scikit-learn.org/stable/modules/preprocessing.html\n",
      "Please also refer to the documentation for alternative solver options:\n",
      "    https://scikit-learn.org/stable/modules/linear_model.html#logistic-regression\n",
      "  n_iter_i = _check_optimize_result(\n",
      "c:\\School_projects\\DaSci_project\\MovieHype\\venv\\lib\\site-packages\\sklearn\\linear_model\\_logistic.py:444: ConvergenceWarning: lbfgs failed to converge (status=1):\n",
      "STOP: TOTAL NO. of ITERATIONS REACHED LIMIT.\n",
      "\n",
      "Increase the number of iterations (max_iter) or scale the data as shown in:\n",
      "    https://scikit-learn.org/stable/modules/preprocessing.html\n",
      "Please also refer to the documentation for alternative solver options:\n",
      "    https://scikit-learn.org/stable/modules/linear_model.html#logistic-regression\n",
      "  n_iter_i = _check_optimize_result(\n",
      "c:\\School_projects\\DaSci_project\\MovieHype\\venv\\lib\\site-packages\\sklearn\\linear_model\\_logistic.py:444: ConvergenceWarning: lbfgs failed to converge (status=1):\n",
      "STOP: TOTAL NO. of ITERATIONS REACHED LIMIT.\n",
      "\n",
      "Increase the number of iterations (max_iter) or scale the data as shown in:\n",
      "    https://scikit-learn.org/stable/modules/preprocessing.html\n",
      "Please also refer to the documentation for alternative solver options:\n",
      "    https://scikit-learn.org/stable/modules/linear_model.html#logistic-regression\n",
      "  n_iter_i = _check_optimize_result(\n",
      "c:\\School_projects\\DaSci_project\\MovieHype\\venv\\lib\\site-packages\\sklearn\\linear_model\\_logistic.py:444: ConvergenceWarning: lbfgs failed to converge (status=1):\n",
      "STOP: TOTAL NO. of ITERATIONS REACHED LIMIT.\n",
      "\n",
      "Increase the number of iterations (max_iter) or scale the data as shown in:\n",
      "    https://scikit-learn.org/stable/modules/preprocessing.html\n",
      "Please also refer to the documentation for alternative solver options:\n",
      "    https://scikit-learn.org/stable/modules/linear_model.html#logistic-regression\n",
      "  n_iter_i = _check_optimize_result(\n",
      "c:\\School_projects\\DaSci_project\\MovieHype\\venv\\lib\\site-packages\\sklearn\\model_selection\\_validation.py:378: FitFailedWarning: \n",
      "5 fits failed out of a total of 30.\n",
      "The score on these train-test partitions for these parameters will be set to nan.\n",
      "If these failures are not expected, you can try to debug them by setting error_score='raise'.\n",
      "\n",
      "Below are more details about the failures:\n",
      "--------------------------------------------------------------------------------\n",
      "5 fits failed with the following error:\n",
      "Traceback (most recent call last):\n",
      "  File \"c:\\School_projects\\DaSci_project\\MovieHype\\venv\\lib\\site-packages\\sklearn\\model_selection\\_validation.py\", line 686, in _fit_and_score\n",
      "    estimator.fit(X_train, y_train, **fit_params)\n",
      "  File \"c:\\School_projects\\DaSci_project\\MovieHype\\venv\\lib\\site-packages\\sklearn\\linear_model\\_logistic.py\", line 1091, in fit\n",
      "    solver = _check_solver(self.solver, self.penalty, self.dual)\n",
      "  File \"c:\\School_projects\\DaSci_project\\MovieHype\\venv\\lib\\site-packages\\sklearn\\linear_model\\_logistic.py\", line 61, in _check_solver\n",
      "    raise ValueError(\n",
      "ValueError: Solver lbfgs supports only 'l2' or 'none' penalties, got l1 penalty.\n",
      "\n",
      "  warnings.warn(some_fits_failed_message, FitFailedWarning)\n",
      "c:\\School_projects\\DaSci_project\\MovieHype\\venv\\lib\\site-packages\\sklearn\\model_selection\\_search.py:953: UserWarning: One or more of the test scores are non-finite: [       nan 0.66982249 0.66982249 0.67053254 0.66982249 0.67053254]\n",
      "  warnings.warn(\n",
      "c:\\School_projects\\DaSci_project\\MovieHype\\venv\\lib\\site-packages\\sklearn\\linear_model\\_logistic.py:444: ConvergenceWarning: lbfgs failed to converge (status=1):\n",
      "STOP: TOTAL NO. of ITERATIONS REACHED LIMIT.\n",
      "\n",
      "Increase the number of iterations (max_iter) or scale the data as shown in:\n",
      "    https://scikit-learn.org/stable/modules/preprocessing.html\n",
      "Please also refer to the documentation for alternative solver options:\n",
      "    https://scikit-learn.org/stable/modules/linear_model.html#logistic-regression\n",
      "  n_iter_i = _check_optimize_result(\n"
     ]
    },
    {
     "data": {
      "text/html": [
       "<style>#sk-container-id-1 {color: black;background-color: white;}#sk-container-id-1 pre{padding: 0;}#sk-container-id-1 div.sk-toggleable {background-color: white;}#sk-container-id-1 label.sk-toggleable__label {cursor: pointer;display: block;width: 100%;margin-bottom: 0;padding: 0.3em;box-sizing: border-box;text-align: center;}#sk-container-id-1 label.sk-toggleable__label-arrow:before {content: \"▸\";float: left;margin-right: 0.25em;color: #696969;}#sk-container-id-1 label.sk-toggleable__label-arrow:hover:before {color: black;}#sk-container-id-1 div.sk-estimator:hover label.sk-toggleable__label-arrow:before {color: black;}#sk-container-id-1 div.sk-toggleable__content {max-height: 0;max-width: 0;overflow: hidden;text-align: left;background-color: #f0f8ff;}#sk-container-id-1 div.sk-toggleable__content pre {margin: 0.2em;color: black;border-radius: 0.25em;background-color: #f0f8ff;}#sk-container-id-1 input.sk-toggleable__control:checked~div.sk-toggleable__content {max-height: 200px;max-width: 100%;overflow: auto;}#sk-container-id-1 input.sk-toggleable__control:checked~label.sk-toggleable__label-arrow:before {content: \"▾\";}#sk-container-id-1 div.sk-estimator input.sk-toggleable__control:checked~label.sk-toggleable__label {background-color: #d4ebff;}#sk-container-id-1 div.sk-label input.sk-toggleable__control:checked~label.sk-toggleable__label {background-color: #d4ebff;}#sk-container-id-1 input.sk-hidden--visually {border: 0;clip: rect(1px 1px 1px 1px);clip: rect(1px, 1px, 1px, 1px);height: 1px;margin: -1px;overflow: hidden;padding: 0;position: absolute;width: 1px;}#sk-container-id-1 div.sk-estimator {font-family: monospace;background-color: #f0f8ff;border: 1px dotted black;border-radius: 0.25em;box-sizing: border-box;margin-bottom: 0.5em;}#sk-container-id-1 div.sk-estimator:hover {background-color: #d4ebff;}#sk-container-id-1 div.sk-parallel-item::after {content: \"\";width: 100%;border-bottom: 1px solid gray;flex-grow: 1;}#sk-container-id-1 div.sk-label:hover label.sk-toggleable__label {background-color: #d4ebff;}#sk-container-id-1 div.sk-serial::before {content: \"\";position: absolute;border-left: 1px solid gray;box-sizing: border-box;top: 0;bottom: 0;left: 50%;z-index: 0;}#sk-container-id-1 div.sk-serial {display: flex;flex-direction: column;align-items: center;background-color: white;padding-right: 0.2em;padding-left: 0.2em;position: relative;}#sk-container-id-1 div.sk-item {position: relative;z-index: 1;}#sk-container-id-1 div.sk-parallel {display: flex;align-items: stretch;justify-content: center;background-color: white;position: relative;}#sk-container-id-1 div.sk-item::before, #sk-container-id-1 div.sk-parallel-item::before {content: \"\";position: absolute;border-left: 1px solid gray;box-sizing: border-box;top: 0;bottom: 0;left: 50%;z-index: -1;}#sk-container-id-1 div.sk-parallel-item {display: flex;flex-direction: column;z-index: 1;position: relative;background-color: white;}#sk-container-id-1 div.sk-parallel-item:first-child::after {align-self: flex-end;width: 50%;}#sk-container-id-1 div.sk-parallel-item:last-child::after {align-self: flex-start;width: 50%;}#sk-container-id-1 div.sk-parallel-item:only-child::after {width: 0;}#sk-container-id-1 div.sk-dashed-wrapped {border: 1px dashed gray;margin: 0 0.4em 0.5em 0.4em;box-sizing: border-box;padding-bottom: 0.4em;background-color: white;}#sk-container-id-1 div.sk-label label {font-family: monospace;font-weight: bold;display: inline-block;line-height: 1.2em;}#sk-container-id-1 div.sk-label-container {text-align: center;}#sk-container-id-1 div.sk-container {/* jupyter's `normalize.less` sets `[hidden] { display: none; }` but bootstrap.min.css set `[hidden] { display: none !important; }` so we also need the `!important` here to be able to override the default hidden behavior on the sphinx rendered scikit-learn.org. See: https://github.com/scikit-learn/scikit-learn/issues/21755 */display: inline-block !important;position: relative;}#sk-container-id-1 div.sk-text-repr-fallback {display: none;}</style><div id=\"sk-container-id-1\" class=\"sk-top-container\"><div class=\"sk-text-repr-fallback\"><pre>GridSearchCV(cv=5, estimator=LogisticRegression(),\n",
       "             param_grid=[{&#x27;penalty&#x27;: [&#x27;l1&#x27;, &#x27;l2&#x27;]}, {&#x27;C&#x27;: [1, 10, 100, 1000]}],\n",
       "             scoring=&#x27;accuracy&#x27;)</pre><b>In a Jupyter environment, please rerun this cell to show the HTML representation or trust the notebook. <br />On GitHub, the HTML representation is unable to render, please try loading this page with nbviewer.org.</b></div><div class=\"sk-container\" hidden><div class=\"sk-item sk-dashed-wrapped\"><div class=\"sk-label-container\"><div class=\"sk-label sk-toggleable\"><input class=\"sk-toggleable__control sk-hidden--visually\" id=\"sk-estimator-id-1\" type=\"checkbox\" ><label for=\"sk-estimator-id-1\" class=\"sk-toggleable__label sk-toggleable__label-arrow\">GridSearchCV</label><div class=\"sk-toggleable__content\"><pre>GridSearchCV(cv=5, estimator=LogisticRegression(),\n",
       "             param_grid=[{&#x27;penalty&#x27;: [&#x27;l1&#x27;, &#x27;l2&#x27;]}, {&#x27;C&#x27;: [1, 10, 100, 1000]}],\n",
       "             scoring=&#x27;accuracy&#x27;)</pre></div></div></div><div class=\"sk-parallel\"><div class=\"sk-parallel-item\"><div class=\"sk-item\"><div class=\"sk-label-container\"><div class=\"sk-label sk-toggleable\"><input class=\"sk-toggleable__control sk-hidden--visually\" id=\"sk-estimator-id-2\" type=\"checkbox\" ><label for=\"sk-estimator-id-2\" class=\"sk-toggleable__label sk-toggleable__label-arrow\">estimator: LogisticRegression</label><div class=\"sk-toggleable__content\"><pre>LogisticRegression()</pre></div></div></div><div class=\"sk-serial\"><div class=\"sk-item\"><div class=\"sk-estimator sk-toggleable\"><input class=\"sk-toggleable__control sk-hidden--visually\" id=\"sk-estimator-id-3\" type=\"checkbox\" ><label for=\"sk-estimator-id-3\" class=\"sk-toggleable__label sk-toggleable__label-arrow\">LogisticRegression</label><div class=\"sk-toggleable__content\"><pre>LogisticRegression()</pre></div></div></div></div></div></div></div></div></div></div>"
      ],
      "text/plain": [
       "GridSearchCV(cv=5, estimator=LogisticRegression(),\n",
       "             param_grid=[{'penalty': ['l1', 'l2']}, {'C': [1, 10, 100, 1000]}],\n",
       "             scoring='accuracy')"
      ]
     },
     "execution_count": 66,
     "metadata": {},
     "output_type": "execute_result"
    }
   ],
   "source": [
    "logit = LogisticRegression()\n",
    "\n",
    "parameters = [{'penalty':['l1','l2']}, \n",
    "              {'C':[1, 10, 100, 1000]}]\n",
    "\n",
    "\n",
    "\n",
    "grid_search = GridSearchCV(estimator = logit,  \n",
    "                           param_grid = parameters,\n",
    "                           scoring = 'accuracy',\n",
    "                           cv = 5,\n",
    "                           verbose=0)\n",
    "\n",
    "\n",
    "grid_search.fit(Z_train, Y_train_bin)"
   ]
  },
  {
   "cell_type": "code",
   "execution_count": 67,
   "metadata": {},
   "outputs": [
    {
     "name": "stdout",
     "output_type": "stream",
     "text": [
      "GridSearch CV best score : 0.6705\n",
      "\n",
      "\n",
      "Parameters that give the best results : \n",
      "\n",
      " {'C': 10}\n",
      "\n",
      "\n",
      "Estimator that was chosen by the search : \n",
      "\n",
      " LogisticRegression(C=10)\n"
     ]
    }
   ],
   "source": [
    "# best score achieved during the GridSearchCV\n",
    "print('GridSearch CV best score : {:.4f}\\n\\n'.format(grid_search.best_score_))\n",
    "\n",
    "# print parameters that give the best results\n",
    "print('Parameters that give the best results :','\\n\\n', (grid_search.best_params_))\n",
    "\n",
    "# print estimator that was chosen by the GridSearch\n",
    "print('\\n\\nEstimator that was chosen by the search :','\\n\\n', (grid_search.best_estimator_))"
   ]
  },
  {
   "cell_type": "code",
   "execution_count": 69,
   "metadata": {},
   "outputs": [
    {
     "name": "stdout",
     "output_type": "stream",
     "text": [
      "                      var      coef        OR\n",
      "0                   duree  0.305143  1.356819\n",
      "1                   suite  0.396176  1.486131\n",
      "2                  Comedy  0.117534  1.124720\n",
      "3                   Drama -0.104534  0.900744\n",
      "4                  Horror  0.186597  1.205141\n",
      "5                Thriller -0.008325  0.991710\n",
      "6                  Action  0.058105  1.059827\n",
      "7               Adventure -0.017800  0.982357\n",
      "8         Science Fiction -0.069932  0.932458\n",
      "9                 Fantasy -0.017046  0.983098\n",
      "10                 Family  0.117971  1.125212\n",
      "11                  Crime  0.011282  1.011346\n",
      "12                Romance  0.045932  1.047003\n",
      "13              Animation  0.014291  1.014393\n",
      "14                Mystery -0.002733  0.997270\n",
      "15                    War -0.052870  0.948503\n",
      "16                  Music -0.013208  0.986879\n",
      "17                Western -0.063590  0.938390\n",
      "18                History -0.097993  0.906655\n",
      "19            Documentary  0.088074  1.092069\n",
      "20               TV Movie -0.027387  0.972985\n",
      "21                 saison  0.037418  1.038127\n",
      "22      casting_score_sum  0.785395  2.193272\n",
      "23     casting_score_mean -0.209839  0.810714\n",
      "24      casting_score_med  0.145445  1.156554\n",
      "25      casting_score_min  0.009259  1.009302\n",
      "26      casting_score_max -0.221182  0.801570\n",
      "27     director_score_sum  0.271640  1.312115\n",
      "28    director_score_mean  0.247794  1.281196\n",
      "29     director_score_med  0.995866  2.707069\n",
      "30     director_score_min -0.042325  0.958558\n",
      "31     director_score_max -1.190979  0.303924\n",
      "32   compagnies_score_sum  0.249034  1.282785\n",
      "33  compagnies_score_mean  0.440189  1.553001\n",
      "34   compagnies_score_med -0.133797  0.874768\n",
      "35   compagnies_score_min -0.149663  0.860998\n",
      "36   compagnies_score_max -0.241031  0.785817\n"
     ]
    },
    {
     "name": "stderr",
     "output_type": "stream",
     "text": [
      "c:\\School_projects\\DaSci_project\\MovieHype\\venv\\lib\\site-packages\\sklearn\\linear_model\\_logistic.py:444: ConvergenceWarning: lbfgs failed to converge (status=1):\n",
      "STOP: TOTAL NO. of ITERATIONS REACHED LIMIT.\n",
      "\n",
      "Increase the number of iterations (max_iter) or scale the data as shown in:\n",
      "    https://scikit-learn.org/stable/modules/preprocessing.html\n",
      "Please also refer to the documentation for alternative solver options:\n",
      "    https://scikit-learn.org/stable/modules/linear_model.html#logistic-regression\n",
      "  n_iter_i = _check_optimize_result(\n"
     ]
    }
   ],
   "source": [
    "logit = LogisticRegression(C=10, max_iter = 60)\n",
    "\n",
    "#Starting calculations and no need to add the constant\n",
    "logit.fit(Z_train,Y_train_bin)\n",
    "\n",
    "# computing OR\n",
    "print(pd.DataFrame({\"var\":X_train.columns,\"coef\":logit.coef_[0], \"OR\":np.exp(logit.coef_[0])}))"
   ]
  },
  {
   "cell_type": "code",
   "execution_count": 70,
   "metadata": {},
   "outputs": [],
   "source": [
    "# transforming the test sample\n",
    "\n",
    "Z_test = stds.transform(X_test)"
   ]
  },
  {
   "cell_type": "code",
   "execution_count": 73,
   "metadata": {},
   "outputs": [
    {
     "name": "stdout",
     "output_type": "stream",
     "text": [
      "              precision    recall  f1-score   support\n",
      "\n",
      "           0       0.34      0.12      0.18       149\n",
      "           1       0.69      0.89      0.78       321\n",
      "\n",
      "    accuracy                           0.65       470\n",
      "   macro avg       0.51      0.51      0.48       470\n",
      "weighted avg       0.58      0.65      0.59       470\n",
      "\n"
     ]
    }
   ],
   "source": [
    "predlog_test = logit.predict(Z_test)\n",
    "\n",
    "print(classification_report(Y_test_bin,predlog_test))"
   ]
  },
  {
   "cell_type": "code",
   "execution_count": 75,
   "metadata": {},
   "outputs": [
    {
     "name": "stdout",
     "output_type": "stream",
     "text": [
      "Cross-validation scores:[0.68284024 0.67337278 0.66508876 0.6591716  0.67218935]\n"
     ]
    },
    {
     "name": "stderr",
     "output_type": "stream",
     "text": [
      "c:\\School_projects\\DaSci_project\\MovieHype\\venv\\lib\\site-packages\\sklearn\\linear_model\\_logistic.py:444: ConvergenceWarning: lbfgs failed to converge (status=1):\n",
      "STOP: TOTAL NO. of ITERATIONS REACHED LIMIT.\n",
      "\n",
      "Increase the number of iterations (max_iter) or scale the data as shown in:\n",
      "    https://scikit-learn.org/stable/modules/preprocessing.html\n",
      "Please also refer to the documentation for alternative solver options:\n",
      "    https://scikit-learn.org/stable/modules/linear_model.html#logistic-regression\n",
      "  n_iter_i = _check_optimize_result(\n",
      "c:\\School_projects\\DaSci_project\\MovieHype\\venv\\lib\\site-packages\\sklearn\\linear_model\\_logistic.py:444: ConvergenceWarning: lbfgs failed to converge (status=1):\n",
      "STOP: TOTAL NO. of ITERATIONS REACHED LIMIT.\n",
      "\n",
      "Increase the number of iterations (max_iter) or scale the data as shown in:\n",
      "    https://scikit-learn.org/stable/modules/preprocessing.html\n",
      "Please also refer to the documentation for alternative solver options:\n",
      "    https://scikit-learn.org/stable/modules/linear_model.html#logistic-regression\n",
      "  n_iter_i = _check_optimize_result(\n",
      "c:\\School_projects\\DaSci_project\\MovieHype\\venv\\lib\\site-packages\\sklearn\\linear_model\\_logistic.py:444: ConvergenceWarning: lbfgs failed to converge (status=1):\n",
      "STOP: TOTAL NO. of ITERATIONS REACHED LIMIT.\n",
      "\n",
      "Increase the number of iterations (max_iter) or scale the data as shown in:\n",
      "    https://scikit-learn.org/stable/modules/preprocessing.html\n",
      "Please also refer to the documentation for alternative solver options:\n",
      "    https://scikit-learn.org/stable/modules/linear_model.html#logistic-regression\n",
      "  n_iter_i = _check_optimize_result(\n",
      "c:\\School_projects\\DaSci_project\\MovieHype\\venv\\lib\\site-packages\\sklearn\\linear_model\\_logistic.py:444: ConvergenceWarning: lbfgs failed to converge (status=1):\n",
      "STOP: TOTAL NO. of ITERATIONS REACHED LIMIT.\n",
      "\n",
      "Increase the number of iterations (max_iter) or scale the data as shown in:\n",
      "    https://scikit-learn.org/stable/modules/preprocessing.html\n",
      "Please also refer to the documentation for alternative solver options:\n",
      "    https://scikit-learn.org/stable/modules/linear_model.html#logistic-regression\n",
      "  n_iter_i = _check_optimize_result(\n",
      "c:\\School_projects\\DaSci_project\\MovieHype\\venv\\lib\\site-packages\\sklearn\\linear_model\\_logistic.py:444: ConvergenceWarning: lbfgs failed to converge (status=1):\n",
      "STOP: TOTAL NO. of ITERATIONS REACHED LIMIT.\n",
      "\n",
      "Increase the number of iterations (max_iter) or scale the data as shown in:\n",
      "    https://scikit-learn.org/stable/modules/preprocessing.html\n",
      "Please also refer to the documentation for alternative solver options:\n",
      "    https://scikit-learn.org/stable/modules/linear_model.html#logistic-regression\n",
      "  n_iter_i = _check_optimize_result(\n"
     ]
    }
   ],
   "source": [
    "stds = preprocessing.StandardScaler()\n",
    "\n",
    "Z = stds.fit_transform(X) \n",
    "\n",
    "scores = cross_val_score(logit, Z_train, Y_train_bin, cv = 5, scoring='accuracy')\n",
    "\n",
    "print('Cross-validation scores:{}'.format(scores))"
   ]
  },
  {
   "cell_type": "code",
   "execution_count": 76,
   "metadata": {},
   "outputs": [
    {
     "name": "stdout",
     "output_type": "stream",
     "text": [
      "Average cross-validation score: 0.6705\n"
     ]
    }
   ],
   "source": [
    "print('Average cross-validation score: {:.4f}'.format(scores.mean()))"
   ]
  },
  {
   "cell_type": "code",
   "execution_count": 77,
   "metadata": {},
   "outputs": [
    {
     "name": "stdout",
     "output_type": "stream",
     "text": [
      "Average cross-validation score: 0.0080\n"
     ]
    }
   ],
   "source": [
    "print('Average cross-validation score: {:.4f}'.format(scores.std()))"
   ]
  },
  {
   "cell_type": "markdown",
   "metadata": {},
   "source": [
    "### Méthode SVM"
   ]
  },
  {
   "cell_type": "code",
   "execution_count": 78,
   "metadata": {},
   "outputs": [],
   "source": [
    "# Extract some useful information\n",
    "num_classes = 4\n",
    "classes_labels = [0,1,2,3]\n",
    "\n",
    "# Initialize classfier\n",
    "clf = svm.SVC()\n",
    "stds = preprocessing.StandardScaler()\n",
    "Z_train = stds.fit_transform(X_train)\n",
    "Z_test = stds.transform(X_test)\n",
    "clf.fit(Z_train, Y_train)\n",
    "Y_pred = clf.predict(Z_test)"
   ]
  },
  {
   "cell_type": "code",
   "execution_count": 79,
   "metadata": {},
   "outputs": [
    {
     "name": "stdout",
     "output_type": "stream",
     "text": [
      "              precision    recall  f1-score   support\n",
      "\n",
      "           0     0.3681    0.5556    0.4428       108\n",
      "           1     0.3861    0.2826    0.3264       138\n",
      "           2     0.3271    0.3182    0.3226       110\n",
      "           3     0.4545    0.3947    0.4225       114\n",
      "\n",
      "    accuracy                         0.3809       470\n",
      "   macro avg     0.3840    0.3878    0.3786       470\n",
      "weighted avg     0.3848    0.3809    0.3756       470\n",
      "\n"
     ]
    }
   ],
   "source": [
    "print(classification_report(Y_test, Y_pred, digits=4))"
   ]
  },
  {
   "cell_type": "code",
   "execution_count": 84,
   "metadata": {},
   "outputs": [],
   "source": [
    "def precision_recall_multilabels(y_true, y_pred, labels):\n",
    "    recalls = []\n",
    "    precisions = []\n",
    "    for label in labels:\n",
    "\n",
    "        pos_true = y_true == label\n",
    "        pos_pred = y_pred == label\n",
    "\n",
    "        # By hand\n",
    "        true_pos = pos_pred & pos_true\n",
    "        recalls.append(np.sum(true_pos) / np.sum(pos_true))\n",
    "        precisions.append(np.sum(true_pos) / np.sum(pos_pred))\n",
    "\n",
    "        # With sklearn\n",
    "        # precisions.append(precision_score(pos_test, pos_pred))\n",
    "        # recalls.append(recall_score(pos_test, pos_pred))\n",
    "\n",
    "    return precisions, recalls"
   ]
  },
  {
   "cell_type": "code",
   "execution_count": 80,
   "metadata": {},
   "outputs": [],
   "source": [
    "def kfold_multimodels_report(clfs_results: dict[str, dict[str, list[list[float]]]]):\n",
    "    \"\"\"\n",
    "    Prints a report for the results of experiments on multiple models,\n",
    "    each one evaluated using k-fold cross-validation.\n",
    "\n",
    "    The results of the experiments should be given as the 'clfs_stats'\n",
    "    argument, with the following structure:\n",
    "\n",
    "    {\n",
    "        \"clf_name1\": {\"metric1\": list[list], \"metric2\": list[list], ...},\n",
    "        \"clf_name2\": {\"metric1\": list[list], \"metric2\": list[list], ...},\n",
    "        ...\n",
    "    }\n",
    "\n",
    "    with each list[list] being of shape (num_folds, num_classes).\n",
    "    \"\"\"\n",
    "    clfs_stats = kfold_summarize_results(clfs_results)\n",
    "    with np.printoptions(precision=2, floatmode=\"fixed\"):\n",
    "        for clf_name, clf_stats in clfs_stats.items():\n",
    "            print(f\"{clf_name:<15}\")\n",
    "            for metric_name, stats in clf_stats.items():\n",
    "                print(f\"{metric_name:>15}\")\n",
    "                for stat_name, data in stats.items():\n",
    "                    print(f\"{stat_name:>20}: {data}\")\n",
    "                    \n",
    "def kfold_summarize_results(clfs_results):\n",
    "    \"\"\"Computes stats on results of multi-models k-folds experiments.\n",
    "\n",
    "    Takes:\n",
    "\n",
    "    {\n",
    "        \"clf_name1\": {\"metric1\": list[list], \"metric2\": list[list], ...},\n",
    "        \"clf_name2\": {\"metric1\": list[list], \"metric2\": list[list], ...},\n",
    "        ...\n",
    "    }\n",
    "\n",
    "    Returns:\n",
    "\n",
    "    {\n",
    "        \"clf_name1\": {\"metric1\": {\"mean\": value, \"std\": value ...}, ...},\n",
    "        ...\n",
    "    }\n",
    "    \"\"\"\n",
    "    clfs_stats = {clf_name: {} for clf_name in clfs_results}\n",
    "    for clf_name, clf_results in clfs_results.items():\n",
    "        for metric, data in clf_results.items():\n",
    "            clfs_stats[clf_name][metric] = {\n",
    "                \"mean\": np.mean(data, axis=0),\n",
    "                \"std\": np.std(data, axis=0),\n",
    "            }\n",
    "    return clfs_stats"
   ]
  },
  {
   "cell_type": "code",
   "execution_count": 81,
   "metadata": {},
   "outputs": [],
   "source": [
    "def kfold_precisions_recalls(X, y, labels, clf, kf: KFold):\n",
    "    \"\"\"Returns the history of precisions and recalls through K-fold training\n",
    "\n",
    "    Parameters\n",
    "    ----------\n",
    "    X, y : data\n",
    "    labels : list[int]\n",
    "    clf : classifier\n",
    "    kf : KFold instance\n",
    "\n",
    "    Returns\n",
    "    -------\n",
    "    precisions : list[list], shape (num_folds, len(labels))\n",
    "    recalls : list[list], shape (num_folds, len(labels))\n",
    "    \"\"\"\n",
    "    precisions, recalls = [], []\n",
    "    for train_index, test_index in kf.split(X):\n",
    "        X_train, X_test = X.iloc[train_index], X.iloc[test_index]\n",
    "        y_train, y_test = y.iloc[train_index], y.iloc[test_index]\n",
    "\n",
    "        clf.fit(X_train, y_train)\n",
    "        y_pred = clf.predict(X_test)\n",
    "\n",
    "        precisions_, recalls_ = precision_recall_multilabels(y_test, y_pred, labels)\n",
    "\n",
    "        precisions.append(precisions_)\n",
    "        recalls.append(recalls_)\n",
    "\n",
    "    return precisions, recalls"
   ]
  },
  {
   "cell_type": "code",
   "execution_count": 82,
   "metadata": {},
   "outputs": [],
   "source": [
    "clfs = {\n",
    "    \"linear\": svm.SVC(kernel=\"linear\", C=1.0),\n",
    "    \"poly2\": svm.SVC(kernel=\"poly\", C=1.0, degree=2, gamma=\"scale\", coef0=0.0),\n",
    "    \"poly3\": svm.SVC(kernel=\"poly\", C=1.0, degree=3, gamma=\"scale\", coef0=0.0),\n",
    "    \"poly4\": svm.SVC(kernel=\"poly\", C=1.0, degree=4, gamma=\"scale\", coef0=0.0),\n",
    "    \"rbf\": svm.SVC(kernel=\"rbf\", C=1.0, gamma=\"scale\"),\n",
    "    # \"sigmoid\": svm.SVC(kernel=\"sigmoid\", C=1.0, gamma=\"scale\", coef0=0.0),\n",
    "}\n",
    "\n",
    "clfs_results = {clf_name: {\"precisions\": None, \"recalls\": None} for clf_name in clfs}"
   ]
  },
  {
   "cell_type": "code",
   "execution_count": 85,
   "metadata": {},
   "outputs": [
    {
     "name": "stderr",
     "output_type": "stream",
     "text": [
      "C:\\Users\\Utilisateur\\AppData\\Local\\Temp\\ipykernel_5904\\500844500.py:11: RuntimeWarning: invalid value encountered in longlong_scalars\n",
      "  recalls.append(np.sum(true_pos) / np.sum(pos_true))\n",
      "C:\\Users\\Utilisateur\\AppData\\Local\\Temp\\ipykernel_5904\\500844500.py:12: RuntimeWarning: invalid value encountered in longlong_scalars\n",
      "  precisions.append(np.sum(true_pos) / np.sum(pos_pred))\n",
      "C:\\Users\\Utilisateur\\AppData\\Local\\Temp\\ipykernel_5904\\500844500.py:11: RuntimeWarning: invalid value encountered in longlong_scalars\n",
      "  recalls.append(np.sum(true_pos) / np.sum(pos_true))\n",
      "C:\\Users\\Utilisateur\\AppData\\Local\\Temp\\ipykernel_5904\\500844500.py:12: RuntimeWarning: invalid value encountered in longlong_scalars\n",
      "  precisions.append(np.sum(true_pos) / np.sum(pos_pred))\n",
      "C:\\Users\\Utilisateur\\AppData\\Local\\Temp\\ipykernel_5904\\500844500.py:11: RuntimeWarning: invalid value encountered in longlong_scalars\n",
      "  recalls.append(np.sum(true_pos) / np.sum(pos_true))\n",
      "C:\\Users\\Utilisateur\\AppData\\Local\\Temp\\ipykernel_5904\\500844500.py:12: RuntimeWarning: invalid value encountered in longlong_scalars\n",
      "  precisions.append(np.sum(true_pos) / np.sum(pos_pred))\n",
      "C:\\Users\\Utilisateur\\AppData\\Local\\Temp\\ipykernel_5904\\500844500.py:11: RuntimeWarning: invalid value encountered in longlong_scalars\n",
      "  recalls.append(np.sum(true_pos) / np.sum(pos_true))\n",
      "C:\\Users\\Utilisateur\\AppData\\Local\\Temp\\ipykernel_5904\\500844500.py:12: RuntimeWarning: invalid value encountered in longlong_scalars\n",
      "  precisions.append(np.sum(true_pos) / np.sum(pos_pred))\n",
      "C:\\Users\\Utilisateur\\AppData\\Local\\Temp\\ipykernel_5904\\500844500.py:11: RuntimeWarning: invalid value encountered in longlong_scalars\n",
      "  recalls.append(np.sum(true_pos) / np.sum(pos_true))\n",
      "C:\\Users\\Utilisateur\\AppData\\Local\\Temp\\ipykernel_5904\\500844500.py:12: RuntimeWarning: invalid value encountered in longlong_scalars\n",
      "  precisions.append(np.sum(true_pos) / np.sum(pos_pred))\n",
      "C:\\Users\\Utilisateur\\AppData\\Local\\Temp\\ipykernel_5904\\500844500.py:11: RuntimeWarning: invalid value encountered in longlong_scalars\n",
      "  recalls.append(np.sum(true_pos) / np.sum(pos_true))\n",
      "C:\\Users\\Utilisateur\\AppData\\Local\\Temp\\ipykernel_5904\\500844500.py:12: RuntimeWarning: invalid value encountered in longlong_scalars\n",
      "  precisions.append(np.sum(true_pos) / np.sum(pos_pred))\n",
      "C:\\Users\\Utilisateur\\AppData\\Local\\Temp\\ipykernel_5904\\500844500.py:11: RuntimeWarning: invalid value encountered in longlong_scalars\n",
      "  recalls.append(np.sum(true_pos) / np.sum(pos_true))\n",
      "C:\\Users\\Utilisateur\\AppData\\Local\\Temp\\ipykernel_5904\\500844500.py:12: RuntimeWarning: invalid value encountered in longlong_scalars\n",
      "  precisions.append(np.sum(true_pos) / np.sum(pos_pred))\n",
      "C:\\Users\\Utilisateur\\AppData\\Local\\Temp\\ipykernel_5904\\500844500.py:11: RuntimeWarning: invalid value encountered in longlong_scalars\n",
      "  recalls.append(np.sum(true_pos) / np.sum(pos_true))\n",
      "C:\\Users\\Utilisateur\\AppData\\Local\\Temp\\ipykernel_5904\\500844500.py:12: RuntimeWarning: invalid value encountered in longlong_scalars\n",
      "  precisions.append(np.sum(true_pos) / np.sum(pos_pred))\n",
      "C:\\Users\\Utilisateur\\AppData\\Local\\Temp\\ipykernel_5904\\500844500.py:11: RuntimeWarning: invalid value encountered in longlong_scalars\n",
      "  recalls.append(np.sum(true_pos) / np.sum(pos_true))\n",
      "C:\\Users\\Utilisateur\\AppData\\Local\\Temp\\ipykernel_5904\\500844500.py:12: RuntimeWarning: invalid value encountered in longlong_scalars\n",
      "  precisions.append(np.sum(true_pos) / np.sum(pos_pred))\n",
      "C:\\Users\\Utilisateur\\AppData\\Local\\Temp\\ipykernel_5904\\500844500.py:11: RuntimeWarning: invalid value encountered in longlong_scalars\n",
      "  recalls.append(np.sum(true_pos) / np.sum(pos_true))\n",
      "C:\\Users\\Utilisateur\\AppData\\Local\\Temp\\ipykernel_5904\\500844500.py:12: RuntimeWarning: invalid value encountered in longlong_scalars\n",
      "  precisions.append(np.sum(true_pos) / np.sum(pos_pred))\n",
      "C:\\Users\\Utilisateur\\AppData\\Local\\Temp\\ipykernel_5904\\500844500.py:11: RuntimeWarning: invalid value encountered in longlong_scalars\n",
      "  recalls.append(np.sum(true_pos) / np.sum(pos_true))\n",
      "C:\\Users\\Utilisateur\\AppData\\Local\\Temp\\ipykernel_5904\\500844500.py:12: RuntimeWarning: invalid value encountered in longlong_scalars\n",
      "  precisions.append(np.sum(true_pos) / np.sum(pos_pred))\n",
      "C:\\Users\\Utilisateur\\AppData\\Local\\Temp\\ipykernel_5904\\500844500.py:11: RuntimeWarning: invalid value encountered in longlong_scalars\n",
      "  recalls.append(np.sum(true_pos) / np.sum(pos_true))\n",
      "C:\\Users\\Utilisateur\\AppData\\Local\\Temp\\ipykernel_5904\\500844500.py:12: RuntimeWarning: invalid value encountered in longlong_scalars\n",
      "  precisions.append(np.sum(true_pos) / np.sum(pos_pred))\n",
      "C:\\Users\\Utilisateur\\AppData\\Local\\Temp\\ipykernel_5904\\500844500.py:11: RuntimeWarning: invalid value encountered in longlong_scalars\n",
      "  recalls.append(np.sum(true_pos) / np.sum(pos_true))\n",
      "C:\\Users\\Utilisateur\\AppData\\Local\\Temp\\ipykernel_5904\\500844500.py:12: RuntimeWarning: invalid value encountered in longlong_scalars\n",
      "  precisions.append(np.sum(true_pos) / np.sum(pos_pred))\n",
      "C:\\Users\\Utilisateur\\AppData\\Local\\Temp\\ipykernel_5904\\500844500.py:11: RuntimeWarning: invalid value encountered in longlong_scalars\n",
      "  recalls.append(np.sum(true_pos) / np.sum(pos_true))\n",
      "C:\\Users\\Utilisateur\\AppData\\Local\\Temp\\ipykernel_5904\\500844500.py:12: RuntimeWarning: invalid value encountered in longlong_scalars\n",
      "  precisions.append(np.sum(true_pos) / np.sum(pos_pred))\n",
      "C:\\Users\\Utilisateur\\AppData\\Local\\Temp\\ipykernel_5904\\500844500.py:11: RuntimeWarning: invalid value encountered in longlong_scalars\n",
      "  recalls.append(np.sum(true_pos) / np.sum(pos_true))\n",
      "C:\\Users\\Utilisateur\\AppData\\Local\\Temp\\ipykernel_5904\\500844500.py:12: RuntimeWarning: invalid value encountered in longlong_scalars\n",
      "  precisions.append(np.sum(true_pos) / np.sum(pos_pred))\n",
      "C:\\Users\\Utilisateur\\AppData\\Local\\Temp\\ipykernel_5904\\500844500.py:11: RuntimeWarning: invalid value encountered in longlong_scalars\n",
      "  recalls.append(np.sum(true_pos) / np.sum(pos_true))\n",
      "C:\\Users\\Utilisateur\\AppData\\Local\\Temp\\ipykernel_5904\\500844500.py:12: RuntimeWarning: invalid value encountered in longlong_scalars\n",
      "  precisions.append(np.sum(true_pos) / np.sum(pos_pred))\n",
      "C:\\Users\\Utilisateur\\AppData\\Local\\Temp\\ipykernel_5904\\500844500.py:11: RuntimeWarning: invalid value encountered in longlong_scalars\n",
      "  recalls.append(np.sum(true_pos) / np.sum(pos_true))\n",
      "C:\\Users\\Utilisateur\\AppData\\Local\\Temp\\ipykernel_5904\\500844500.py:12: RuntimeWarning: invalid value encountered in longlong_scalars\n",
      "  precisions.append(np.sum(true_pos) / np.sum(pos_pred))\n",
      "C:\\Users\\Utilisateur\\AppData\\Local\\Temp\\ipykernel_5904\\500844500.py:11: RuntimeWarning: invalid value encountered in longlong_scalars\n",
      "  recalls.append(np.sum(true_pos) / np.sum(pos_true))\n",
      "C:\\Users\\Utilisateur\\AppData\\Local\\Temp\\ipykernel_5904\\500844500.py:12: RuntimeWarning: invalid value encountered in longlong_scalars\n",
      "  precisions.append(np.sum(true_pos) / np.sum(pos_pred))\n",
      "C:\\Users\\Utilisateur\\AppData\\Local\\Temp\\ipykernel_5904\\500844500.py:11: RuntimeWarning: invalid value encountered in longlong_scalars\n",
      "  recalls.append(np.sum(true_pos) / np.sum(pos_true))\n",
      "C:\\Users\\Utilisateur\\AppData\\Local\\Temp\\ipykernel_5904\\500844500.py:12: RuntimeWarning: invalid value encountered in longlong_scalars\n",
      "  precisions.append(np.sum(true_pos) / np.sum(pos_pred))\n",
      "C:\\Users\\Utilisateur\\AppData\\Local\\Temp\\ipykernel_5904\\500844500.py:11: RuntimeWarning: invalid value encountered in longlong_scalars\n",
      "  recalls.append(np.sum(true_pos) / np.sum(pos_true))\n",
      "C:\\Users\\Utilisateur\\AppData\\Local\\Temp\\ipykernel_5904\\500844500.py:12: RuntimeWarning: invalid value encountered in longlong_scalars\n",
      "  precisions.append(np.sum(true_pos) / np.sum(pos_pred))\n",
      "C:\\Users\\Utilisateur\\AppData\\Local\\Temp\\ipykernel_5904\\500844500.py:11: RuntimeWarning: invalid value encountered in longlong_scalars\n",
      "  recalls.append(np.sum(true_pos) / np.sum(pos_true))\n",
      "C:\\Users\\Utilisateur\\AppData\\Local\\Temp\\ipykernel_5904\\500844500.py:12: RuntimeWarning: invalid value encountered in longlong_scalars\n",
      "  precisions.append(np.sum(true_pos) / np.sum(pos_pred))\n",
      "C:\\Users\\Utilisateur\\AppData\\Local\\Temp\\ipykernel_5904\\500844500.py:11: RuntimeWarning: invalid value encountered in longlong_scalars\n",
      "  recalls.append(np.sum(true_pos) / np.sum(pos_true))\n",
      "C:\\Users\\Utilisateur\\AppData\\Local\\Temp\\ipykernel_5904\\500844500.py:12: RuntimeWarning: invalid value encountered in longlong_scalars\n",
      "  precisions.append(np.sum(true_pos) / np.sum(pos_pred))\n",
      "C:\\Users\\Utilisateur\\AppData\\Local\\Temp\\ipykernel_5904\\500844500.py:11: RuntimeWarning: invalid value encountered in longlong_scalars\n",
      "  recalls.append(np.sum(true_pos) / np.sum(pos_true))\n",
      "C:\\Users\\Utilisateur\\AppData\\Local\\Temp\\ipykernel_5904\\500844500.py:12: RuntimeWarning: invalid value encountered in longlong_scalars\n",
      "  precisions.append(np.sum(true_pos) / np.sum(pos_pred))\n",
      "C:\\Users\\Utilisateur\\AppData\\Local\\Temp\\ipykernel_5904\\500844500.py:11: RuntimeWarning: invalid value encountered in longlong_scalars\n",
      "  recalls.append(np.sum(true_pos) / np.sum(pos_true))\n",
      "C:\\Users\\Utilisateur\\AppData\\Local\\Temp\\ipykernel_5904\\500844500.py:12: RuntimeWarning: invalid value encountered in longlong_scalars\n",
      "  precisions.append(np.sum(true_pos) / np.sum(pos_pred))\n",
      "C:\\Users\\Utilisateur\\AppData\\Local\\Temp\\ipykernel_5904\\500844500.py:11: RuntimeWarning: invalid value encountered in longlong_scalars\n",
      "  recalls.append(np.sum(true_pos) / np.sum(pos_true))\n",
      "C:\\Users\\Utilisateur\\AppData\\Local\\Temp\\ipykernel_5904\\500844500.py:12: RuntimeWarning: invalid value encountered in longlong_scalars\n",
      "  precisions.append(np.sum(true_pos) / np.sum(pos_pred))\n",
      "C:\\Users\\Utilisateur\\AppData\\Local\\Temp\\ipykernel_5904\\500844500.py:11: RuntimeWarning: invalid value encountered in longlong_scalars\n",
      "  recalls.append(np.sum(true_pos) / np.sum(pos_true))\n",
      "C:\\Users\\Utilisateur\\AppData\\Local\\Temp\\ipykernel_5904\\500844500.py:12: RuntimeWarning: invalid value encountered in longlong_scalars\n",
      "  precisions.append(np.sum(true_pos) / np.sum(pos_pred))\n",
      "C:\\Users\\Utilisateur\\AppData\\Local\\Temp\\ipykernel_5904\\500844500.py:11: RuntimeWarning: invalid value encountered in longlong_scalars\n",
      "  recalls.append(np.sum(true_pos) / np.sum(pos_true))\n",
      "C:\\Users\\Utilisateur\\AppData\\Local\\Temp\\ipykernel_5904\\500844500.py:12: RuntimeWarning: invalid value encountered in longlong_scalars\n",
      "  precisions.append(np.sum(true_pos) / np.sum(pos_pred))\n",
      "C:\\Users\\Utilisateur\\AppData\\Local\\Temp\\ipykernel_5904\\500844500.py:11: RuntimeWarning: invalid value encountered in longlong_scalars\n",
      "  recalls.append(np.sum(true_pos) / np.sum(pos_true))\n",
      "C:\\Users\\Utilisateur\\AppData\\Local\\Temp\\ipykernel_5904\\500844500.py:12: RuntimeWarning: invalid value encountered in longlong_scalars\n",
      "  precisions.append(np.sum(true_pos) / np.sum(pos_pred))\n",
      "C:\\Users\\Utilisateur\\AppData\\Local\\Temp\\ipykernel_5904\\500844500.py:11: RuntimeWarning: invalid value encountered in longlong_scalars\n",
      "  recalls.append(np.sum(true_pos) / np.sum(pos_true))\n",
      "C:\\Users\\Utilisateur\\AppData\\Local\\Temp\\ipykernel_5904\\500844500.py:12: RuntimeWarning: invalid value encountered in longlong_scalars\n",
      "  precisions.append(np.sum(true_pos) / np.sum(pos_pred))\n",
      "C:\\Users\\Utilisateur\\AppData\\Local\\Temp\\ipykernel_5904\\500844500.py:11: RuntimeWarning: invalid value encountered in longlong_scalars\n",
      "  recalls.append(np.sum(true_pos) / np.sum(pos_true))\n",
      "C:\\Users\\Utilisateur\\AppData\\Local\\Temp\\ipykernel_5904\\500844500.py:12: RuntimeWarning: invalid value encountered in longlong_scalars\n",
      "  precisions.append(np.sum(true_pos) / np.sum(pos_pred))\n",
      "C:\\Users\\Utilisateur\\AppData\\Local\\Temp\\ipykernel_5904\\500844500.py:11: RuntimeWarning: invalid value encountered in longlong_scalars\n",
      "  recalls.append(np.sum(true_pos) / np.sum(pos_true))\n",
      "C:\\Users\\Utilisateur\\AppData\\Local\\Temp\\ipykernel_5904\\500844500.py:12: RuntimeWarning: invalid value encountered in longlong_scalars\n",
      "  precisions.append(np.sum(true_pos) / np.sum(pos_pred))\n",
      "C:\\Users\\Utilisateur\\AppData\\Local\\Temp\\ipykernel_5904\\500844500.py:11: RuntimeWarning: invalid value encountered in longlong_scalars\n",
      "  recalls.append(np.sum(true_pos) / np.sum(pos_true))\n",
      "C:\\Users\\Utilisateur\\AppData\\Local\\Temp\\ipykernel_5904\\500844500.py:12: RuntimeWarning: invalid value encountered in longlong_scalars\n",
      "  precisions.append(np.sum(true_pos) / np.sum(pos_pred))\n",
      "C:\\Users\\Utilisateur\\AppData\\Local\\Temp\\ipykernel_5904\\500844500.py:11: RuntimeWarning: invalid value encountered in longlong_scalars\n",
      "  recalls.append(np.sum(true_pos) / np.sum(pos_true))\n",
      "C:\\Users\\Utilisateur\\AppData\\Local\\Temp\\ipykernel_5904\\500844500.py:12: RuntimeWarning: invalid value encountered in longlong_scalars\n",
      "  precisions.append(np.sum(true_pos) / np.sum(pos_pred))\n",
      "C:\\Users\\Utilisateur\\AppData\\Local\\Temp\\ipykernel_5904\\500844500.py:11: RuntimeWarning: invalid value encountered in longlong_scalars\n",
      "  recalls.append(np.sum(true_pos) / np.sum(pos_true))\n",
      "C:\\Users\\Utilisateur\\AppData\\Local\\Temp\\ipykernel_5904\\500844500.py:12: RuntimeWarning: invalid value encountered in longlong_scalars\n",
      "  precisions.append(np.sum(true_pos) / np.sum(pos_pred))\n",
      "C:\\Users\\Utilisateur\\AppData\\Local\\Temp\\ipykernel_5904\\500844500.py:11: RuntimeWarning: invalid value encountered in longlong_scalars\n",
      "  recalls.append(np.sum(true_pos) / np.sum(pos_true))\n",
      "C:\\Users\\Utilisateur\\AppData\\Local\\Temp\\ipykernel_5904\\500844500.py:12: RuntimeWarning: invalid value encountered in longlong_scalars\n",
      "  precisions.append(np.sum(true_pos) / np.sum(pos_pred))\n",
      "C:\\Users\\Utilisateur\\AppData\\Local\\Temp\\ipykernel_5904\\500844500.py:11: RuntimeWarning: invalid value encountered in longlong_scalars\n",
      "  recalls.append(np.sum(true_pos) / np.sum(pos_true))\n",
      "C:\\Users\\Utilisateur\\AppData\\Local\\Temp\\ipykernel_5904\\500844500.py:12: RuntimeWarning: invalid value encountered in longlong_scalars\n",
      "  precisions.append(np.sum(true_pos) / np.sum(pos_pred))\n",
      "C:\\Users\\Utilisateur\\AppData\\Local\\Temp\\ipykernel_5904\\500844500.py:11: RuntimeWarning: invalid value encountered in longlong_scalars\n",
      "  recalls.append(np.sum(true_pos) / np.sum(pos_true))\n",
      "C:\\Users\\Utilisateur\\AppData\\Local\\Temp\\ipykernel_5904\\500844500.py:12: RuntimeWarning: invalid value encountered in longlong_scalars\n",
      "  precisions.append(np.sum(true_pos) / np.sum(pos_pred))\n",
      "C:\\Users\\Utilisateur\\AppData\\Local\\Temp\\ipykernel_5904\\500844500.py:11: RuntimeWarning: invalid value encountered in longlong_scalars\n",
      "  recalls.append(np.sum(true_pos) / np.sum(pos_true))\n",
      "C:\\Users\\Utilisateur\\AppData\\Local\\Temp\\ipykernel_5904\\500844500.py:12: RuntimeWarning: invalid value encountered in longlong_scalars\n",
      "  precisions.append(np.sum(true_pos) / np.sum(pos_pred))\n",
      "C:\\Users\\Utilisateur\\AppData\\Local\\Temp\\ipykernel_5904\\500844500.py:11: RuntimeWarning: invalid value encountered in longlong_scalars\n",
      "  recalls.append(np.sum(true_pos) / np.sum(pos_true))\n",
      "C:\\Users\\Utilisateur\\AppData\\Local\\Temp\\ipykernel_5904\\500844500.py:12: RuntimeWarning: invalid value encountered in longlong_scalars\n",
      "  precisions.append(np.sum(true_pos) / np.sum(pos_pred))\n",
      "C:\\Users\\Utilisateur\\AppData\\Local\\Temp\\ipykernel_5904\\500844500.py:11: RuntimeWarning: invalid value encountered in longlong_scalars\n",
      "  recalls.append(np.sum(true_pos) / np.sum(pos_true))\n",
      "C:\\Users\\Utilisateur\\AppData\\Local\\Temp\\ipykernel_5904\\500844500.py:12: RuntimeWarning: invalid value encountered in longlong_scalars\n",
      "  precisions.append(np.sum(true_pos) / np.sum(pos_pred))\n",
      "C:\\Users\\Utilisateur\\AppData\\Local\\Temp\\ipykernel_5904\\500844500.py:11: RuntimeWarning: invalid value encountered in longlong_scalars\n",
      "  recalls.append(np.sum(true_pos) / np.sum(pos_true))\n",
      "C:\\Users\\Utilisateur\\AppData\\Local\\Temp\\ipykernel_5904\\500844500.py:12: RuntimeWarning: invalid value encountered in longlong_scalars\n",
      "  precisions.append(np.sum(true_pos) / np.sum(pos_pred))\n",
      "C:\\Users\\Utilisateur\\AppData\\Local\\Temp\\ipykernel_5904\\500844500.py:11: RuntimeWarning: invalid value encountered in longlong_scalars\n",
      "  recalls.append(np.sum(true_pos) / np.sum(pos_true))\n",
      "C:\\Users\\Utilisateur\\AppData\\Local\\Temp\\ipykernel_5904\\500844500.py:12: RuntimeWarning: invalid value encountered in longlong_scalars\n",
      "  precisions.append(np.sum(true_pos) / np.sum(pos_pred))\n",
      "C:\\Users\\Utilisateur\\AppData\\Local\\Temp\\ipykernel_5904\\500844500.py:11: RuntimeWarning: invalid value encountered in longlong_scalars\n",
      "  recalls.append(np.sum(true_pos) / np.sum(pos_true))\n",
      "C:\\Users\\Utilisateur\\AppData\\Local\\Temp\\ipykernel_5904\\500844500.py:12: RuntimeWarning: invalid value encountered in longlong_scalars\n",
      "  precisions.append(np.sum(true_pos) / np.sum(pos_pred))\n",
      "C:\\Users\\Utilisateur\\AppData\\Local\\Temp\\ipykernel_5904\\500844500.py:11: RuntimeWarning: invalid value encountered in longlong_scalars\n",
      "  recalls.append(np.sum(true_pos) / np.sum(pos_true))\n",
      "C:\\Users\\Utilisateur\\AppData\\Local\\Temp\\ipykernel_5904\\500844500.py:12: RuntimeWarning: invalid value encountered in longlong_scalars\n",
      "  precisions.append(np.sum(true_pos) / np.sum(pos_pred))\n",
      "C:\\Users\\Utilisateur\\AppData\\Local\\Temp\\ipykernel_5904\\500844500.py:11: RuntimeWarning: invalid value encountered in longlong_scalars\n",
      "  recalls.append(np.sum(true_pos) / np.sum(pos_true))\n",
      "C:\\Users\\Utilisateur\\AppData\\Local\\Temp\\ipykernel_5904\\500844500.py:12: RuntimeWarning: invalid value encountered in longlong_scalars\n",
      "  precisions.append(np.sum(true_pos) / np.sum(pos_pred))\n",
      "C:\\Users\\Utilisateur\\AppData\\Local\\Temp\\ipykernel_5904\\500844500.py:11: RuntimeWarning: invalid value encountered in longlong_scalars\n",
      "  recalls.append(np.sum(true_pos) / np.sum(pos_true))\n",
      "C:\\Users\\Utilisateur\\AppData\\Local\\Temp\\ipykernel_5904\\500844500.py:12: RuntimeWarning: invalid value encountered in longlong_scalars\n",
      "  precisions.append(np.sum(true_pos) / np.sum(pos_pred))\n",
      "C:\\Users\\Utilisateur\\AppData\\Local\\Temp\\ipykernel_5904\\500844500.py:11: RuntimeWarning: invalid value encountered in longlong_scalars\n",
      "  recalls.append(np.sum(true_pos) / np.sum(pos_true))\n",
      "C:\\Users\\Utilisateur\\AppData\\Local\\Temp\\ipykernel_5904\\500844500.py:12: RuntimeWarning: invalid value encountered in longlong_scalars\n",
      "  precisions.append(np.sum(true_pos) / np.sum(pos_pred))\n",
      "C:\\Users\\Utilisateur\\AppData\\Local\\Temp\\ipykernel_5904\\500844500.py:11: RuntimeWarning: invalid value encountered in longlong_scalars\n",
      "  recalls.append(np.sum(true_pos) / np.sum(pos_true))\n",
      "C:\\Users\\Utilisateur\\AppData\\Local\\Temp\\ipykernel_5904\\500844500.py:12: RuntimeWarning: invalid value encountered in longlong_scalars\n",
      "  precisions.append(np.sum(true_pos) / np.sum(pos_pred))\n",
      "C:\\Users\\Utilisateur\\AppData\\Local\\Temp\\ipykernel_5904\\500844500.py:11: RuntimeWarning: invalid value encountered in longlong_scalars\n",
      "  recalls.append(np.sum(true_pos) / np.sum(pos_true))\n",
      "C:\\Users\\Utilisateur\\AppData\\Local\\Temp\\ipykernel_5904\\500844500.py:12: RuntimeWarning: invalid value encountered in longlong_scalars\n",
      "  precisions.append(np.sum(true_pos) / np.sum(pos_pred))\n"
     ]
    },
    {
     "name": "stdout",
     "output_type": "stream",
     "text": [
      "linear         \n",
      "     precisions\n",
      "                mean: [0.37 0.30 0.35 0.40  nan]\n",
      "                 std: [0.04 0.05 0.06 0.07  nan]\n",
      "        recalls\n",
      "                mean: [0.67 0.30 0.16 0.30  nan]\n",
      "                 std: [0.04 0.04 0.03 0.06  nan]\n",
      "poly2          \n",
      "     precisions\n",
      "                mean: [0.30 0.24 0.33 0.46  nan]\n",
      "                 std: [0.03 0.04 0.04 0.12  nan]\n",
      "        recalls\n",
      "                mean: [0.80 0.12 0.23 0.10  nan]\n",
      "                 std: [0.02 0.05 0.05 0.03  nan]\n",
      "poly3          \n",
      "     precisions\n",
      "                mean: [0.30 0.25 0.32 0.47  nan]\n",
      "                 std: [0.03 0.05 0.05 0.12  nan]\n",
      "        recalls\n",
      "                mean: [0.85 0.10 0.19 0.09  nan]\n",
      "                 std: [0.02 0.04 0.05 0.03  nan]\n",
      "poly4          \n",
      "     precisions\n",
      "                mean: [0.29 0.25 0.32 0.43  nan]\n",
      "                 std: [0.02 0.08 0.04 0.14  nan]\n",
      "        recalls\n",
      "                mean: [0.88 0.07 0.17 0.09  nan]\n",
      "                 std: [0.02 0.03 0.05 0.03  nan]\n",
      "rbf            \n",
      "     precisions\n",
      "                mean: [0.34 0.26 0.33 0.42  nan]\n",
      "                 std: [0.04 0.05 0.04 0.11  nan]\n",
      "        recalls\n",
      "                mean: [0.65 0.17 0.36 0.14  nan]\n",
      "                 std: [0.05 0.03 0.06 0.03  nan]\n"
     ]
    },
    {
     "name": "stderr",
     "output_type": "stream",
     "text": [
      "C:\\Users\\Utilisateur\\AppData\\Local\\Temp\\ipykernel_5904\\500844500.py:11: RuntimeWarning: invalid value encountered in longlong_scalars\n",
      "  recalls.append(np.sum(true_pos) / np.sum(pos_true))\n",
      "C:\\Users\\Utilisateur\\AppData\\Local\\Temp\\ipykernel_5904\\500844500.py:12: RuntimeWarning: invalid value encountered in longlong_scalars\n",
      "  precisions.append(np.sum(true_pos) / np.sum(pos_pred))\n"
     ]
    }
   ],
   "source": [
    "kf = KFold(n_splits=10, shuffle=True, random_state=34)\n",
    "num_classes = 4\n",
    "classes_labels = [0,1,2,3,4]\n",
    "\n",
    "for clf_name, clf in clfs.items():\n",
    "    precisions, recalls = kfold_precisions_recalls(X, Y, classes_labels, clf, kf)\n",
    "\n",
    "    clfs_results[clf_name][\"precisions\"] = precisions\n",
    "    clfs_results[clf_name][\"recalls\"] = recalls\n",
    "\n",
    "kfold_multimodels_report(clfs_results)"
   ]
  }
 ],
 "metadata": {
  "kernelspec": {
   "display_name": "Python 3.10.7 ('venv': venv)",
   "language": "python",
   "name": "python3"
  },
  "language_info": {
   "codemirror_mode": {
    "name": "ipython",
    "version": 3
   },
   "file_extension": ".py",
   "mimetype": "text/x-python",
   "name": "python",
   "nbconvert_exporter": "python",
   "pygments_lexer": "ipython3",
   "version": "3.10.7"
  },
  "orig_nbformat": 4,
  "vscode": {
   "interpreter": {
    "hash": "7dcec0d3762b780a2125411d3645fa378dcc0bb88d5f6382eaf2fa36db609c76"
   }
  }
 },
 "nbformat": 4,
 "nbformat_minor": 2
}
