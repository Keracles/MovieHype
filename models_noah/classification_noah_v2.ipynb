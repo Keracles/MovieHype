{
 "cells": [
  {
   "cell_type": "code",
   "execution_count": 1,
   "metadata": {},
   "outputs": [],
   "source": [
    "import pandas as pd\n",
    "import numpy as np\n",
    "import matplotlib.pyplot as plt\n",
    "import seaborn as sns\n",
    "import scipy"
   ]
  },
  {
   "cell_type": "code",
   "execution_count": 2,
   "metadata": {},
   "outputs": [
    {
     "data": {
      "text/html": [
       "<div>\n",
       "<style scoped>\n",
       "    .dataframe tbody tr th:only-of-type {\n",
       "        vertical-align: middle;\n",
       "    }\n",
       "\n",
       "    .dataframe tbody tr th {\n",
       "        vertical-align: top;\n",
       "    }\n",
       "\n",
       "    .dataframe thead th {\n",
       "        text-align: right;\n",
       "    }\n",
       "</style>\n",
       "<table border=\"1\" class=\"dataframe\">\n",
       "  <thead>\n",
       "    <tr style=\"text-align: right;\">\n",
       "      <th></th>\n",
       "      <th>titre</th>\n",
       "      <th>budget</th>\n",
       "      <th>recette</th>\n",
       "      <th>duree</th>\n",
       "      <th>realisateur</th>\n",
       "      <th>casting</th>\n",
       "      <th>compagnies_production</th>\n",
       "      <th>suite</th>\n",
       "      <th>Comedy</th>\n",
       "      <th>Drama</th>\n",
       "      <th>...</th>\n",
       "      <th>director_score_sum</th>\n",
       "      <th>director_score_mean</th>\n",
       "      <th>director_score_med</th>\n",
       "      <th>director_score_min</th>\n",
       "      <th>director_score_max</th>\n",
       "      <th>compagnies_score_sum</th>\n",
       "      <th>compagnies_score_mean</th>\n",
       "      <th>compagnies_score_med</th>\n",
       "      <th>compagnies_score_min</th>\n",
       "      <th>compagnies_score_max</th>\n",
       "    </tr>\n",
       "  </thead>\n",
       "  <tbody>\n",
       "    <tr>\n",
       "      <th>0</th>\n",
       "      <td>Dumb and Dumber To</td>\n",
       "      <td>40000000</td>\n",
       "      <td>169837010</td>\n",
       "      <td>110</td>\n",
       "      <td>['Bobby Farrelly', 'Peter Farrelly']</td>\n",
       "      <td>['Jim Carrey', 'Jeff Daniels', 'Laurie Holden'...</td>\n",
       "      <td>['New Line Cinema', 'Universal Pictures', 'Con...</td>\n",
       "      <td>3</td>\n",
       "      <td>1</td>\n",
       "      <td>0</td>\n",
       "      <td>...</td>\n",
       "      <td>27</td>\n",
       "      <td>13.5</td>\n",
       "      <td>13</td>\n",
       "      <td>13</td>\n",
       "      <td>14</td>\n",
       "      <td>135</td>\n",
       "      <td>33.75</td>\n",
       "      <td>18</td>\n",
       "      <td>0</td>\n",
       "      <td>99</td>\n",
       "    </tr>\n",
       "    <tr>\n",
       "      <th>1</th>\n",
       "      <td>Марс</td>\n",
       "      <td>2000000</td>\n",
       "      <td>240000</td>\n",
       "      <td>100</td>\n",
       "      <td>['Anna Melikyan']</td>\n",
       "      <td>['Nana Kiknadze', 'Artur Smolyaninov', 'Yevgen...</td>\n",
       "      <td>['Central Partnership', 'Studio SLON']</td>\n",
       "      <td>1</td>\n",
       "      <td>1</td>\n",
       "      <td>1</td>\n",
       "      <td>...</td>\n",
       "      <td>0</td>\n",
       "      <td>0.0</td>\n",
       "      <td>0</td>\n",
       "      <td>0</td>\n",
       "      <td>0</td>\n",
       "      <td>0</td>\n",
       "      <td>0.00</td>\n",
       "      <td>0</td>\n",
       "      <td>0</td>\n",
       "      <td>0</td>\n",
       "    </tr>\n",
       "    <tr>\n",
       "      <th>2</th>\n",
       "      <td>Captain America: The Winter Soldier</td>\n",
       "      <td>170000000</td>\n",
       "      <td>714766572</td>\n",
       "      <td>136</td>\n",
       "      <td>['Anthony Russo', 'Joe Russo']</td>\n",
       "      <td>['Chris Evans', 'Scarlett Johansson', 'Sebasti...</td>\n",
       "      <td>['Marvel Studios']</td>\n",
       "      <td>2</td>\n",
       "      <td>0</td>\n",
       "      <td>0</td>\n",
       "      <td>...</td>\n",
       "      <td>128</td>\n",
       "      <td>64.0</td>\n",
       "      <td>64</td>\n",
       "      <td>64</td>\n",
       "      <td>64</td>\n",
       "      <td>81</td>\n",
       "      <td>81.00</td>\n",
       "      <td>81</td>\n",
       "      <td>81</td>\n",
       "      <td>81</td>\n",
       "    </tr>\n",
       "    <tr>\n",
       "      <th>3</th>\n",
       "      <td>Тот ещё Карлосон!</td>\n",
       "      <td>4000000</td>\n",
       "      <td>9938268</td>\n",
       "      <td>80</td>\n",
       "      <td>['Sarik Andreasyan']</td>\n",
       "      <td>['Mikhail Galustyan', 'Igor Vernik', 'Mariya S...</td>\n",
       "      <td>['Enjoy Movies']</td>\n",
       "      <td>1</td>\n",
       "      <td>1</td>\n",
       "      <td>0</td>\n",
       "      <td>...</td>\n",
       "      <td>0</td>\n",
       "      <td>0.0</td>\n",
       "      <td>0</td>\n",
       "      <td>0</td>\n",
       "      <td>0</td>\n",
       "      <td>0</td>\n",
       "      <td>0.00</td>\n",
       "      <td>0</td>\n",
       "      <td>0</td>\n",
       "      <td>0</td>\n",
       "    </tr>\n",
       "    <tr>\n",
       "      <th>4</th>\n",
       "      <td>The Saint</td>\n",
       "      <td>68000000</td>\n",
       "      <td>118063304</td>\n",
       "      <td>116</td>\n",
       "      <td>['Phillip Noyce']</td>\n",
       "      <td>['Val Kilmer', 'Elisabeth Shue', 'Rade Šerbedž...</td>\n",
       "      <td>['Paramount', 'Mace Neufeld Productions', 'Rys...</td>\n",
       "      <td>1</td>\n",
       "      <td>0</td>\n",
       "      <td>0</td>\n",
       "      <td>...</td>\n",
       "      <td>11</td>\n",
       "      <td>11.0</td>\n",
       "      <td>11</td>\n",
       "      <td>11</td>\n",
       "      <td>11</td>\n",
       "      <td>9</td>\n",
       "      <td>3.00</td>\n",
       "      <td>0</td>\n",
       "      <td>0</td>\n",
       "      <td>9</td>\n",
       "    </tr>\n",
       "  </tbody>\n",
       "</table>\n",
       "<p>5 rows × 44 columns</p>\n",
       "</div>"
      ],
      "text/plain": [
       "                                 titre     budget    recette  duree  \\\n",
       "0                   Dumb and Dumber To   40000000  169837010    110   \n",
       "1                                 Марс    2000000     240000    100   \n",
       "2  Captain America: The Winter Soldier  170000000  714766572    136   \n",
       "3                    Тот ещё Карлосон!    4000000    9938268     80   \n",
       "4                            The Saint   68000000  118063304    116   \n",
       "\n",
       "                            realisateur  \\\n",
       "0  ['Bobby Farrelly', 'Peter Farrelly']   \n",
       "1                     ['Anna Melikyan']   \n",
       "2        ['Anthony Russo', 'Joe Russo']   \n",
       "3                  ['Sarik Andreasyan']   \n",
       "4                     ['Phillip Noyce']   \n",
       "\n",
       "                                             casting  \\\n",
       "0  ['Jim Carrey', 'Jeff Daniels', 'Laurie Holden'...   \n",
       "1  ['Nana Kiknadze', 'Artur Smolyaninov', 'Yevgen...   \n",
       "2  ['Chris Evans', 'Scarlett Johansson', 'Sebasti...   \n",
       "3  ['Mikhail Galustyan', 'Igor Vernik', 'Mariya S...   \n",
       "4  ['Val Kilmer', 'Elisabeth Shue', 'Rade Šerbedž...   \n",
       "\n",
       "                               compagnies_production  suite  Comedy  Drama  \\\n",
       "0  ['New Line Cinema', 'Universal Pictures', 'Con...      3       1      0   \n",
       "1             ['Central Partnership', 'Studio SLON']      1       1      1   \n",
       "2                                 ['Marvel Studios']      2       0      0   \n",
       "3                                   ['Enjoy Movies']      1       1      0   \n",
       "4  ['Paramount', 'Mace Neufeld Productions', 'Rys...      1       0      0   \n",
       "\n",
       "   ...  director_score_sum  director_score_mean  director_score_med  \\\n",
       "0  ...                  27                 13.5                  13   \n",
       "1  ...                   0                  0.0                   0   \n",
       "2  ...                 128                 64.0                  64   \n",
       "3  ...                   0                  0.0                   0   \n",
       "4  ...                  11                 11.0                  11   \n",
       "\n",
       "   director_score_min  director_score_max  compagnies_score_sum  \\\n",
       "0                  13                  14                   135   \n",
       "1                   0                   0                     0   \n",
       "2                  64                  64                    81   \n",
       "3                   0                   0                     0   \n",
       "4                  11                  11                     9   \n",
       "\n",
       "   compagnies_score_mean  compagnies_score_med  compagnies_score_min  \\\n",
       "0                  33.75                    18                     0   \n",
       "1                   0.00                     0                     0   \n",
       "2                  81.00                    81                    81   \n",
       "3                   0.00                     0                     0   \n",
       "4                   3.00                     0                     0   \n",
       "\n",
       "   compagnies_score_max  \n",
       "0                    99  \n",
       "1                     0  \n",
       "2                    81  \n",
       "3                     0  \n",
       "4                     9  \n",
       "\n",
       "[5 rows x 44 columns]"
      ]
     },
     "execution_count": 2,
     "metadata": {},
     "output_type": "execute_result"
    }
   ],
   "source": [
    "df = pd.read_csv('..\\data\\dataset_new_score_v3.csv', index_col=0)\n",
    "df.head()"
   ]
  },
  {
   "cell_type": "code",
   "execution_count": 3,
   "metadata": {},
   "outputs": [],
   "source": [
    "df['compagnies_score_mean'] = df['compagnies_score_mean'].map(int)\n",
    "df['casting_score_mean'] = df['casting_score_mean'].map(int)\n",
    "df['director_score_mean'] = df['director_score_mean'].map(int)\n",
    "df['benefice global'] = df['benefice global'].map(int)\n",
    "df.drop(columns = ['titre', 'realisateur', 'casting', 'compagnies_production', 'recette'], inplace = True)"
   ]
  },
  {
   "cell_type": "code",
   "execution_count": 43,
   "metadata": {},
   "outputs": [],
   "source": [
    "import xgboost as xgb\n",
    "from sklearn.metrics import mean_squared_error\n",
    "from sklearn.ensemble import RandomForestClassifier\n",
    "import pandas as pd\n",
    "import numpy as np\n",
    "from random import shuffle\n",
    "from sklearn.metrics import precision_score, recall_score, classification_report, confusion_matrix, accuracy_score\n",
    "from sklearn.model_selection import KFold, GridSearchCV, cross_val_score"
   ]
  },
  {
   "cell_type": "code",
   "execution_count": 5,
   "metadata": {},
   "outputs": [],
   "source": [
    "df['tranche benef'] = 0\n",
    "df.loc[df['benefice global'] >= df['benefice global'].quantile(0.25), 'tranche benef'] = 1\n",
    "df.loc[df['benefice global'] >= df['benefice global'].quantile(0.5), 'tranche benef'] = 2\n",
    "df.loc[df['benefice global'] >= df['benefice global'].quantile(0.75), 'tranche benef'] = 3"
   ]
  },
  {
   "cell_type": "code",
   "execution_count": 6,
   "metadata": {},
   "outputs": [],
   "source": [
    "X = df.drop(columns = ['tranche benef', 'benefice global'])\n",
    "Y = df['tranche benef']"
   ]
  },
  {
   "cell_type": "code",
   "execution_count": 9,
   "metadata": {},
   "outputs": [],
   "source": [
    "data_dmatrix = xgb.DMatrix(data=X,label=Y)"
   ]
  },
  {
   "cell_type": "code",
   "execution_count": 10,
   "metadata": {},
   "outputs": [],
   "source": [
    "from sklearn.model_selection import train_test_split\n",
    "\n",
    "X_train, X_test, Y_train, Y_test = train_test_split(X, Y, test_size=0.2, random_state=123)"
   ]
  },
  {
   "cell_type": "code",
   "execution_count": 26,
   "metadata": {},
   "outputs": [],
   "source": [
    "# Instatiate a XGBClassifier\n",
    "params = { \"objective\": \"multi:softmax\", 'num_class': 4}\n",
    "xgb_clf = xgb.XGBRegressor(**params)\n",
    "\n",
    "## Set max_depth to be 10 instead of 100\n",
    "xgb_clf.set_params(n_estimators=100)\n",
    "\n",
    "# Fit it to the training set\n",
    "xgb_clf.fit(X_train, Y_train)\n",
    "\n",
    "# Predict the labels of the test set\n",
    "preds = xgb_clf.predict(X_test)\n",
    "\n"
   ]
  },
  {
   "cell_type": "code",
   "execution_count": 27,
   "metadata": {},
   "outputs": [],
   "source": [
    "## Set max_depth to be 10 instead of 100\n",
    "xgb_clf.set_params(n_estimators=10)\n",
    "\n",
    "# Fit it to the training set\n",
    "xgb_clf.fit(X_train, Y_train)\n",
    "\n",
    "# Predict the labels of the test set\n",
    "preds = xgb_clf.predict(X_test)"
   ]
  },
  {
   "cell_type": "code",
   "execution_count": 28,
   "metadata": {},
   "outputs": [
    {
     "name": "stdout",
     "output_type": "stream",
     "text": [
      "              precision    recall  f1-score   support\n",
      "\n",
      "           0       0.42      0.55      0.48       237\n",
      "           1       0.28      0.24      0.26       246\n",
      "           2       0.33      0.28      0.30       237\n",
      "           3       0.39      0.39      0.39       219\n",
      "\n",
      "    accuracy                           0.36       939\n",
      "   macro avg       0.36      0.36      0.36       939\n",
      "weighted avg       0.35      0.36      0.36       939\n",
      "\n"
     ]
    }
   ],
   "source": [
    "print(classification_report(Y_test, preds))"
   ]
  },
  {
   "cell_type": "code",
   "execution_count": 14,
   "metadata": {},
   "outputs": [
    {
     "data": {
      "text/plain": [
       "1    3122\n",
       "0    1573\n",
       "Name: tranche benef binaire, dtype: int64"
      ]
     },
     "execution_count": 14,
     "metadata": {},
     "output_type": "execute_result"
    }
   ],
   "source": [
    "df['tranche benef binaire'] = 0\n",
    "df.loc[df['benefice global'] > 0, 'tranche benef binaire'] = 1\n",
    "df['tranche benef binaire'].value_counts()"
   ]
  },
  {
   "cell_type": "code",
   "execution_count": 30,
   "metadata": {},
   "outputs": [],
   "source": [
    "X_bin = df.drop(columns = ['tranche benef', 'benefice global', 'tranche benef binaire'])\n",
    "Y_bin = df['tranche benef binaire']"
   ]
  },
  {
   "cell_type": "code",
   "execution_count": 33,
   "metadata": {},
   "outputs": [],
   "source": [
    "X_train_bin, X_test_bin, Y_train_bin, Y_test_bin = train_test_split(X_bin, Y_bin, test_size=0.2, random_state=123)"
   ]
  },
  {
   "cell_type": "code",
   "execution_count": 36,
   "metadata": {},
   "outputs": [],
   "source": [
    "# Instatiate a XGBClassifier\n",
    "params = { \"objective\": \"multi:softmax\", 'num_class': 2}\n",
    "xgb_clf = xgb.XGBRegressor(**params)\n",
    "\n",
    "## Set max_depth to be 10 instead of 100\n",
    "xgb_clf.set_params(n_estimators=100)\n",
    "\n",
    "# Fit it to the training set\n",
    "xgb_clf.fit(X_train_bin, Y_train_bin)\n",
    "\n",
    "# Predict the labels of the test set\n",
    "preds_bin = xgb_clf.predict(X_test_bin)"
   ]
  },
  {
   "cell_type": "code",
   "execution_count": 37,
   "metadata": {},
   "outputs": [
    {
     "name": "stdout",
     "output_type": "stream",
     "text": [
      "              precision    recall  f1-score   support\n",
      "\n",
      "           0       0.50      0.33      0.40       331\n",
      "           1       0.69      0.82      0.75       608\n",
      "\n",
      "    accuracy                           0.65       939\n",
      "   macro avg       0.60      0.58      0.58       939\n",
      "weighted avg       0.63      0.65      0.63       939\n",
      "\n"
     ]
    }
   ],
   "source": [
    "print(classification_report(Y_test_bin, preds_bin))"
   ]
  },
  {
   "cell_type": "code",
   "execution_count": 44,
   "metadata": {},
   "outputs": [],
   "source": [
    "def print_score(clf, X_train, y_train, X_test, y_test, train=True):\n",
    "    if train:\n",
    "        pred = clf.predict(X_train)\n",
    "        clf_report = pd.DataFrame(classification_report(y_train, pred, output_dict=True))\n",
    "        print(\"Train Result:\\n================================================\")\n",
    "        print(f\"Accuracy Score: {accuracy_score(y_train, pred) * 100:.2f}%\")\n",
    "        print(\"_______________________________________________\")\n",
    "        print(f\"CLASSIFICATION REPORT:\\n{clf_report}\")\n",
    "        print(\"_______________________________________________\")\n",
    "        print(f\"Confusion Matrix: \\n {confusion_matrix(y_train, pred)}\\n\")\n",
    "        \n",
    "    elif train==False:\n",
    "        pred = clf.predict(X_test)\n",
    "        clf_report = pd.DataFrame(classification_report(y_test, pred, output_dict=True))\n",
    "        print(\"Test Result:\\n================================================\")        \n",
    "        print(f\"Accuracy Score: {accuracy_score(y_test, pred) * 100:.2f}%\")\n",
    "        print(\"_______________________________________________\")\n",
    "        print(f\"CLASSIFICATION REPORT:\\n{clf_report}\")\n",
    "        print(\"_______________________________________________\")\n",
    "        print(f\"Confusion Matrix: \\n {confusion_matrix(y_test, pred)}\\n\")"
   ]
  },
  {
   "cell_type": "code",
   "execution_count": 46,
   "metadata": {},
   "outputs": [
    {
     "name": "stdout",
     "output_type": "stream",
     "text": [
      "Fitting 3 folds for each of 24 candidates, totalling 72 fits\n"
     ]
    },
    {
     "name": "stderr",
     "output_type": "stream",
     "text": [
      "c:\\School_projects\\DaSci_project\\MovieHype\\venv\\lib\\site-packages\\sklearn\\ensemble\\_forest.py:427: FutureWarning: `max_features='auto'` has been deprecated in 1.1 and will be removed in 1.3. To keep the past behaviour, explicitly set `max_features='sqrt'` or remove this parameter as it is also the default value for RandomForestClassifiers and ExtraTreesClassifiers.\n",
      "  warn(\n"
     ]
    },
    {
     "name": "stdout",
     "output_type": "stream",
     "text": [
      "Best parameters: {'bootstrap': True, 'max_depth': None, 'max_features': 'auto', 'min_samples_leaf': 4, 'min_samples_split': 2, 'n_estimators': 100}\n"
     ]
    },
    {
     "name": "stderr",
     "output_type": "stream",
     "text": [
      "c:\\School_projects\\DaSci_project\\MovieHype\\venv\\lib\\site-packages\\sklearn\\ensemble\\_forest.py:427: FutureWarning: `max_features='auto'` has been deprecated in 1.1 and will be removed in 1.3. To keep the past behaviour, explicitly set `max_features='sqrt'` or remove this parameter as it is also the default value for RandomForestClassifiers and ExtraTreesClassifiers.\n",
      "  warn(\n"
     ]
    },
    {
     "name": "stdout",
     "output_type": "stream",
     "text": [
      "Train Result:\n",
      "================================================\n",
      "Accuracy Score: 85.01%\n",
      "_______________________________________________\n",
      "CLASSIFICATION REPORT:\n",
      "                     0            1  accuracy    macro avg  weighted avg\n",
      "precision     0.906587     0.833961  0.850106     0.870274      0.857976\n",
      "recall        0.609501     0.968974  0.850106     0.789237      0.850106\n",
      "f1-score      0.728936     0.896412  0.850106     0.812674      0.841033\n",
      "support    1242.000000  2514.000000  0.850106  3756.000000   3756.000000\n",
      "_______________________________________________\n",
      "Confusion Matrix: \n",
      " [[ 757  485]\n",
      " [  78 2436]]\n",
      "\n",
      "Test Result:\n",
      "================================================\n",
      "Accuracy Score: 67.41%\n",
      "_______________________________________________\n",
      "CLASSIFICATION REPORT:\n",
      "                    0           1  accuracy   macro avg  weighted avg\n",
      "precision    0.579618    0.693095  0.674121    0.636356      0.653094\n",
      "recall       0.274924    0.891447  0.674121    0.583186      0.674121\n",
      "f1-score     0.372951    0.779856  0.674121    0.576403      0.636421\n",
      "support    331.000000  608.000000  0.674121  939.000000    939.000000\n",
      "_______________________________________________\n",
      "Confusion Matrix: \n",
      " [[ 91 240]\n",
      " [ 66 542]]\n",
      "\n"
     ]
    }
   ],
   "source": [
    "n_estimators = [100]\n",
    "max_features = ['auto']\n",
    "max_depth = [2, 3, 5]\n",
    "max_depth.append(None)\n",
    "min_samples_split = [2, 5]\n",
    "min_samples_leaf = [1, 2, 4]\n",
    "bootstrap = [True]\n",
    "\n",
    "params_grid = {'n_estimators': n_estimators, 'max_features': max_features,\n",
    "               'max_depth': max_depth, 'min_samples_split': min_samples_split,\n",
    "               'min_samples_leaf': min_samples_leaf, 'bootstrap': bootstrap}\n",
    "\n",
    "rf_clf = RandomForestClassifier(random_state=42)\n",
    "\n",
    "rf_cv = GridSearchCV(rf_clf, params_grid, scoring=\"accuracy\", cv=3, verbose=2, n_jobs=-1)\n",
    "\n",
    "\n",
    "rf_cv.fit(X_train_bin, Y_train_bin)\n",
    "best_params = rf_cv.best_params_\n",
    "print(f\"Best parameters: {best_params}\")\n",
    "\n",
    "rf_clf = RandomForestClassifier(**best_params)\n",
    "rf_clf.fit(X_train_bin, Y_train_bin)\n",
    "\n",
    "print_score(rf_clf, X_train_bin, Y_train_bin, X_test_bin, Y_test_bin, train=True)\n",
    "print_score(rf_clf, X_train_bin, Y_train_bin, X_test_bin, Y_test_bin, train=False)"
   ]
  }
 ],
 "metadata": {
  "kernelspec": {
   "display_name": "Python 3.10.7 ('venv': venv)",
   "language": "python",
   "name": "python3"
  },
  "language_info": {
   "codemirror_mode": {
    "name": "ipython",
    "version": 3
   },
   "file_extension": ".py",
   "mimetype": "text/x-python",
   "name": "python",
   "nbconvert_exporter": "python",
   "pygments_lexer": "ipython3",
   "version": "3.10.7"
  },
  "orig_nbformat": 4,
  "vscode": {
   "interpreter": {
    "hash": "7dcec0d3762b780a2125411d3645fa378dcc0bb88d5f6382eaf2fa36db609c76"
   }
  }
 },
 "nbformat": 4,
 "nbformat_minor": 2
}
